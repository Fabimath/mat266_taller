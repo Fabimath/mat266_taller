{
 "cells": [
  {
   "cell_type": "markdown",
   "id": "1a6ce9d3-8b1e-45a6-982a-1fde824bd072",
   "metadata": {},
   "source": [
    "# Validación cruzada para competencia de modelos"
   ]
  },
  {
   "cell_type": "markdown",
   "id": "29d48b4b-7b70-4ddb-b234-01f0d22e955d",
   "metadata": {},
   "source": [
    "Vamos a considerar los siguientes datos"
   ]
  },
  {
   "cell_type": "code",
   "execution_count": 42,
   "id": "9c695d3d-c1f8-4769-9a4d-88086eeed870",
   "metadata": {},
   "outputs": [],
   "source": [
    "n = 20\n",
    "set.seed(0)\n",
    "x1 = rnorm(n,20,3)\n",
    "x2 = rnorm(n,30,3)\n",
    "x3 = rnorm(n,10,3)\n",
    "y = 100*rep(1,n) + 4*x1 + 2*x2 + 0.3*x3 + rnorm(n,0,10)"
   ]
  },
  {
   "cell_type": "code",
   "execution_count": 43,
   "id": "66e40607-880e-470f-957a-f81a949bd4b2",
   "metadata": {},
   "outputs": [],
   "source": [
    "df=data.frame(y,x1,x2,x3)"
   ]
  },
  {
   "cell_type": "code",
   "execution_count": 44,
   "id": "11c22705-decf-4ff6-9b43-a96cd13ebd3a",
   "metadata": {},
   "outputs": [
    {
     "data": {
      "text/plain": [
       "\n",
       "Call:\n",
       "lm(formula = y ~ x1 + x2 + x3, data = df)\n",
       "\n",
       "Residuals:\n",
       "     Min       1Q   Median       3Q      Max \n",
       "-11.8400  -2.8931   0.9368   3.4093   9.8357 \n",
       "\n",
       "Coefficients:\n",
       "            Estimate Std. Error t value Pr(>|t|)    \n",
       "(Intercept)  69.2680    25.7662   2.688  0.01615 *  \n",
       "x1            4.1223     0.4766   8.650 1.99e-07 ***\n",
       "x2            2.5418     0.7480   3.398  0.00368 ** \n",
       "x3            1.3683     0.4676   2.926  0.00989 ** \n",
       "---\n",
       "Signif. codes:  0 '***' 0.001 '**' 0.01 '*' 0.05 '.' 0.1 ' ' 1\n",
       "\n",
       "Residual standard error: 6.328 on 16 degrees of freedom\n",
       "Multiple R-squared:  0.8588,\tAdjusted R-squared:  0.8324 \n",
       "F-statistic: 32.45 on 3 and 16 DF,  p-value: 4.922e-07\n"
      ]
     },
     "metadata": {},
     "output_type": "display_data"
    },
    {
     "data": {
      "text/plain": [
       "\n",
       "Call:\n",
       "lm(formula = y ~ 0 + x1 + x2 + x3, data = df)\n",
       "\n",
       "Residuals:\n",
       "     Min       1Q   Median       3Q      Max \n",
       "-12.4732  -4.0617  -0.1162   5.2285  11.4611 \n",
       "\n",
       "Coefficients:\n",
       "   Estimate Std. Error t value Pr(>|t|)    \n",
       "x1   4.4622     0.5371   8.308 2.18e-07 ***\n",
       "x2   4.3858     0.3487  12.578 4.89e-10 ***\n",
       "x3   2.0234     0.4665   4.338 0.000447 ***\n",
       "---\n",
       "Signif. codes:  0 '***' 0.001 '**' 0.01 '*' 0.05 '.' 0.1 ' ' 1\n",
       "\n",
       "Residual standard error: 7.396 on 17 degrees of freedom\n",
       "Multiple R-squared:  0.9992,\tAdjusted R-squared:  0.9991 \n",
       "F-statistic:  7159 on 3 and 17 DF,  p-value: < 2.2e-16\n"
      ]
     },
     "metadata": {},
     "output_type": "display_data"
    }
   ],
   "source": [
    "summary(lm(y~x1+x2+x3,df))\n",
    "summary(lm(y~0+x1+x2+x3,df))"
   ]
  }
 ],
 "metadata": {
  "kernelspec": {
   "display_name": "R",
   "language": "R",
   "name": "ir"
  },
  "language_info": {
   "codemirror_mode": "r",
   "file_extension": ".r",
   "mimetype": "text/x-r-source",
   "name": "R",
   "pygments_lexer": "r",
   "version": "4.3.3"
  }
 },
 "nbformat": 4,
 "nbformat_minor": 5
}
