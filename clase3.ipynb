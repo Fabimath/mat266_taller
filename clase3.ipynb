{
 "cells": [
  {
   "cell_type": "markdown",
   "id": "1a6ce9d3-8b1e-45a6-982a-1fde824bd072",
   "metadata": {},
   "source": [
    "# Validación cruzada para competencia de modelos"
   ]
  },
  {
   "cell_type": "markdown",
   "id": "29d48b4b-7b70-4ddb-b234-01f0d22e955d",
   "metadata": {},
   "source": [
    "Vamos a considerar los siguientes datos"
   ]
  },
  {
   "cell_type": "code",
   "execution_count": 4,
   "id": "9c695d3d-c1f8-4769-9a4d-88086eeed870",
   "metadata": {},
   "outputs": [],
   "source": [
    "n = 20\n",
    "set.seed(0)\n",
    "x1 = rnorm(n,20,3)\n",
    "x2 = rnorm(n,30,3)\n",
    "x3 = rnorm(n,10,3)\n",
    "y = 100*rep(1,n) + 4*x1 + 2*x2 + 0.3*x3 + rnorm(n,0,10)"
   ]
  },
  {
   "cell_type": "markdown",
   "id": "c55e9cbb-03e3-4848-8bf7-0e75248ce5ea",
   "metadata": {},
   "source": [
    "Hola mundo"
   ]
  },
  {
   "cell_type": "code",
   "execution_count": 2,
   "id": "66e40607-880e-470f-957a-f81a949bd4b2",
   "metadata": {},
   "outputs": [],
   "source": [
    "df=data.frame(y,x1,x2,x3)"
   ]
  },
  {
   "cell_type": "code",
   "execution_count": 3,
   "id": "11c22705-decf-4ff6-9b43-a96cd13ebd3a",
   "metadata": {},
   "outputs": [
    {
     "data": {
      "text/plain": [
       "\n",
       "Call:\n",
       "lm(formula = y ~ x1 + x2 + x3, data = df)\n",
       "\n",
       "Residuals:\n",
       "     Min       1Q   Median       3Q      Max \n",
       "-26.7486  -5.8859  -0.2903   6.8820  21.3992 \n",
       "\n",
       "Coefficients:\n",
       "            Estimate Std. Error t value Pr(>|t|)    \n",
       "(Intercept) 84.74882    8.29504  10.217   <2e-16 ***\n",
       "x1           4.42149    0.24296  18.198   <2e-16 ***\n",
       "x2           2.34025    0.22269  10.509   <2e-16 ***\n",
       "x3          -0.02789    0.21632  -0.129    0.898    \n",
       "---\n",
       "Signif. codes:  0 '***' 0.001 '**' 0.01 '*' 0.05 '.' 0.1 ' ' 1\n",
       "\n",
       "Residual standard error: 9.402 on 196 degrees of freedom\n",
       "Multiple R-squared:  0.6988,\tAdjusted R-squared:  0.6941 \n",
       "F-statistic: 151.5 on 3 and 196 DF,  p-value: < 2.2e-16\n"
      ]
     },
     "metadata": {},
     "output_type": "display_data"
    },
    {
     "data": {
      "text/plain": [
       "\n",
       "Call:\n",
       "lm(formula = y ~ 0 + x1 + x2 + x3, data = df)\n",
       "\n",
       "Residuals:\n",
       "    Min      1Q  Median      3Q     Max \n",
       "-28.280  -7.313  -0.565   6.951  32.438 \n",
       "\n",
       "Coefficients:\n",
       "   Estimate Std. Error t value Pr(>|t|)    \n",
       "x1   5.7578     0.2528  22.773   <2e-16 ***\n",
       "x2   4.1426     0.1678  24.684   <2e-16 ***\n",
       "x3   0.3053     0.2641   1.156    0.249    \n",
       "---\n",
       "Signif. codes:  0 '***' 0.001 '**' 0.01 '*' 0.05 '.' 0.1 ' ' 1\n",
       "\n",
       "Residual standard error: 11.61 on 197 degrees of freedom\n",
       "Multiple R-squared:  0.9978,\tAdjusted R-squared:  0.9977 \n",
       "F-statistic: 2.933e+04 on 3 and 197 DF,  p-value: < 2.2e-16\n"
      ]
     },
     "metadata": {},
     "output_type": "display_data"
    }
   ],
   "source": [
    "summary(lm(y~x1+x2+x3,df))\n",
    "summary(lm(y~0+x1+x2+x3,df))"
   ]
  },
  {
   "cell_type": "code",
   "execution_count": null,
   "id": "f8336e19-a422-485a-adf7-ec85eb4cc4bc",
   "metadata": {},
   "outputs": [],
   "source": []
  }
 ],
 "metadata": {
  "kernelspec": {
   "display_name": "R",
   "language": "R",
   "name": "ir"
  },
  "language_info": {
   "codemirror_mode": "r",
   "file_extension": ".r",
   "mimetype": "text/x-r-source",
   "name": "R",
   "pygments_lexer": "r",
   "version": "4.3.3"
  }
 },
 "nbformat": 4,
 "nbformat_minor": 5
}
