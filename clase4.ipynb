{
 "cells": [
  {
   "cell_type": "markdown",
   "id": "b3f16ce5-e02d-4c1a-b7ed-105f80b25470",
   "metadata": {},
   "source": [
    "# Álgebra lineal matricial"
   ]
  },
  {
   "cell_type": "code",
   "execution_count": 17,
   "id": "3d3d8a27-160f-48d0-9c47-25d164af77f2",
   "metadata": {},
   "outputs": [
    {
     "data": {
      "text/html": [
       "<table class=\"dataframe\">\n",
       "<caption>A data.frame: 6 × 4</caption>\n",
       "<thead>\n",
       "\t<tr><th></th><th scope=col>Ingresos.por.Dolares</th><th scope=col>Ingresos.por.Bitcoin</th><th scope=col>Ingresos.por.Inversiones</th><th scope=col>Ingresos.por.Turismo</th></tr>\n",
       "\t<tr><th></th><th scope=col>&lt;dbl&gt;</th><th scope=col>&lt;dbl&gt;</th><th scope=col>&lt;dbl&gt;</th><th scope=col>&lt;dbl&gt;</th></tr>\n",
       "</thead>\n",
       "<tbody>\n",
       "\t<tr><th scope=row>1</th><td>261.9792</td><td>23.78886</td><td>29.32720</td><td>15.273709</td></tr>\n",
       "\t<tr><th scope=row>2</th><td>241.7438</td><td>19.02130</td><td>31.13219</td><td>11.682238</td></tr>\n",
       "\t<tr><th scope=row>3</th><td>249.9436</td><td>23.98940</td><td>30.40001</td><td> 8.641648</td></tr>\n",
       "\t<tr><th scope=row>4</th><td>261.1872</td><td>23.81729</td><td>32.41257</td><td> 7.503870</td></tr>\n",
       "\t<tr><th scope=row>5</th><td>238.4335</td><td>21.24392</td><td>29.82868</td><td> 6.500288</td></tr>\n",
       "\t<tr><th scope=row>6</th><td>229.0059</td><td>15.38015</td><td>31.51082</td><td> 6.803228</td></tr>\n",
       "</tbody>\n",
       "</table>\n"
      ],
      "text/latex": [
       "A data.frame: 6 × 4\n",
       "\\begin{tabular}{r|llll}\n",
       "  & Ingresos.por.Dolares & Ingresos.por.Bitcoin & Ingresos.por.Inversiones & Ingresos.por.Turismo\\\\\n",
       "  & <dbl> & <dbl> & <dbl> & <dbl>\\\\\n",
       "\\hline\n",
       "\t1 & 261.9792 & 23.78886 & 29.32720 & 15.273709\\\\\n",
       "\t2 & 241.7438 & 19.02130 & 31.13219 & 11.682238\\\\\n",
       "\t3 & 249.9436 & 23.98940 & 30.40001 &  8.641648\\\\\n",
       "\t4 & 261.1872 & 23.81729 & 32.41257 &  7.503870\\\\\n",
       "\t5 & 238.4335 & 21.24392 & 29.82868 &  6.500288\\\\\n",
       "\t6 & 229.0059 & 15.38015 & 31.51082 &  6.803228\\\\\n",
       "\\end{tabular}\n"
      ],
      "text/markdown": [
       "\n",
       "A data.frame: 6 × 4\n",
       "\n",
       "| <!--/--> | Ingresos.por.Dolares &lt;dbl&gt; | Ingresos.por.Bitcoin &lt;dbl&gt; | Ingresos.por.Inversiones &lt;dbl&gt; | Ingresos.por.Turismo &lt;dbl&gt; |\n",
       "|---|---|---|---|---|\n",
       "| 1 | 261.9792 | 23.78886 | 29.32720 | 15.273709 |\n",
       "| 2 | 241.7438 | 19.02130 | 31.13219 | 11.682238 |\n",
       "| 3 | 249.9436 | 23.98940 | 30.40001 |  8.641648 |\n",
       "| 4 | 261.1872 | 23.81729 | 32.41257 |  7.503870 |\n",
       "| 5 | 238.4335 | 21.24392 | 29.82868 |  6.500288 |\n",
       "| 6 | 229.0059 | 15.38015 | 31.51082 |  6.803228 |\n",
       "\n"
      ],
      "text/plain": [
       "  Ingresos.por.Dolares Ingresos.por.Bitcoin Ingresos.por.Inversiones\n",
       "1 261.9792             23.78886             29.32720                \n",
       "2 241.7438             19.02130             31.13219                \n",
       "3 249.9436             23.98940             30.40001                \n",
       "4 261.1872             23.81729             32.41257                \n",
       "5 238.4335             21.24392             29.82868                \n",
       "6 229.0059             15.38015             31.51082                \n",
       "  Ingresos.por.Turismo\n",
       "1 15.273709           \n",
       "2 11.682238           \n",
       "3  8.641648           \n",
       "4  7.503870           \n",
       "5  6.500288           \n",
       "6  6.803228           "
      ]
     },
     "metadata": {},
     "output_type": "display_data"
    },
    {
     "data": {
      "text/plain": [
       " Ingresos.por.Dolares Ingresos.por.Bitcoin Ingresos.por.Inversiones\n",
       " Min.   :211.0        Min.   :15.38        Min.   :26.15           \n",
       " 1st Qu.:231.5        1st Qu.:17.53        1st Qu.:28.71           \n",
       " Median :240.9        Median :19.12        Median :29.98           \n",
       " Mean   :242.0        Mean   :19.99        Mean   :30.33           \n",
       " 3rd Qu.:251.9        3rd Qu.:21.55        3rd Qu.:32.24           \n",
       " Max.   :272.6        Max.   :27.21        Max.   :33.71           \n",
       " Ingresos.por.Turismo\n",
       " Min.   : 3.328      \n",
       " 1st Qu.: 7.329      \n",
       " Median : 9.400      \n",
       " Mean   : 9.653      \n",
       " 3rd Qu.:11.725      \n",
       " Max.   :17.324      "
      ]
     },
     "metadata": {},
     "output_type": "display_data"
    }
   ],
   "source": [
    "df = read.csv('https://raw.githubusercontent.com/Fabimath/mat266_taller/main/data_base/ingresos.csv')\n",
    "head(df)\n",
    "summary(df)\n",
    "colnames(df) = c('Y','X1','X2','X3')"
   ]
  },
  {
   "cell_type": "code",
   "execution_count": 18,
   "id": "108a31a5-4117-4042-9665-fff604f55317",
   "metadata": {},
   "outputs": [],
   "source": [
    "colnames(df) = c('Y','X1','X2','X3')"
   ]
  },
  {
   "cell_type": "markdown",
   "id": "e60e6279-a249-4bf4-a955-7fdf428342a5",
   "metadata": {},
   "source": [
    "### Objetivo\n",
    "Realizar un ajuste lineal y las pruebas sin summary"
   ]
  },
  {
   "cell_type": "code",
   "execution_count": 21,
   "id": "e2030ff6-df92-4e0a-95a7-85febebaae16",
   "metadata": {},
   "outputs": [],
   "source": [
    "X1 = df$X1\n",
    "X2 = df$X2\n",
    "X3 = df$X3"
   ]
  },
  {
   "cell_type": "markdown",
   "id": "1553e618-8fbd-401e-91a9-5219c970f6c2",
   "metadata": {},
   "source": [
    "$$\n",
    "Y=XB \\ \\ \\ X = (1 | X1 | X2 | ... ) \n",
    "$$"
   ]
  },
  {
   "cell_type": "code",
   "execution_count": 32,
   "id": "b562dfbb-75fe-4662-87ae-181ae31967bf",
   "metadata": {},
   "outputs": [],
   "source": [
    "X=cbind(rep(1,length(X1)),X1,X2,X3)\n",
    "Y=df$Y"
   ]
  },
  {
   "cell_type": "markdown",
   "id": "f2209ae3-6439-470e-a777-3baca5767b30",
   "metadata": {},
   "source": [
    "$$\n",
    "B = (X^T X)^{-1} X^T Y\n",
    "$$"
   ]
  },
  {
   "cell_type": "code",
   "execution_count": 42,
   "id": "0e93ee81-6131-4f42-a09c-adbbde3070b6",
   "metadata": {},
   "outputs": [
    {
     "data": {
      "text/html": [
       "<table class=\"dataframe\">\n",
       "<caption>A matrix: 4 × 1 of type dbl</caption>\n",
       "<tbody>\n",
       "\t<tr><th scope=row></th><td>69.268004</td></tr>\n",
       "\t<tr><th scope=row>X1</th><td> 4.122346</td></tr>\n",
       "\t<tr><th scope=row>X2</th><td> 2.541775</td></tr>\n",
       "\t<tr><th scope=row>X3</th><td> 1.368291</td></tr>\n",
       "</tbody>\n",
       "</table>\n"
      ],
      "text/latex": [
       "A matrix: 4 × 1 of type dbl\n",
       "\\begin{tabular}{r|l}\n",
       "\t & 69.268004\\\\\n",
       "\tX1 &  4.122346\\\\\n",
       "\tX2 &  2.541775\\\\\n",
       "\tX3 &  1.368291\\\\\n",
       "\\end{tabular}\n"
      ],
      "text/markdown": [
       "\n",
       "A matrix: 4 × 1 of type dbl\n",
       "\n",
       "| <!----> | 69.268004 |\n",
       "| X1 |  4.122346 |\n",
       "| X2 |  2.541775 |\n",
       "| X3 |  1.368291 |\n",
       "\n"
      ],
      "text/plain": [
       "   [,1]     \n",
       "   69.268004\n",
       "X1  4.122346\n",
       "X2  2.541775\n",
       "X3  1.368291"
      ]
     },
     "metadata": {},
     "output_type": "display_data"
    }
   ],
   "source": [
    "B=solve(t(X)%*%X)%*%t(X)%*%Y\n",
    "B"
   ]
  },
  {
   "cell_type": "code",
   "execution_count": 44,
   "id": "9a35259c-6472-4cda-8bd9-8fc28dce34ed",
   "metadata": {},
   "outputs": [],
   "source": [
    "C= solve(t(X)%*% X)"
   ]
  },
  {
   "cell_type": "code",
   "execution_count": 67,
   "id": "5ffb96d1-5fa6-4076-951a-24096a57b329",
   "metadata": {},
   "outputs": [
    {
     "data": {
      "text/html": [
       "<table class=\"dataframe\">\n",
       "<caption>A matrix: 1 × 1 of type lgl</caption>\n",
       "<tbody>\n",
       "\t<tr><td>TRUE</td></tr>\n",
       "</tbody>\n",
       "</table>\n"
      ],
      "text/latex": [
       "A matrix: 1 × 1 of type lgl\n",
       "\\begin{tabular}{l}\n",
       "\t TRUE\\\\\n",
       "\\end{tabular}\n"
      ],
      "text/markdown": [
       "\n",
       "A matrix: 1 × 1 of type lgl\n",
       "\n",
       "| TRUE |\n",
       "\n"
      ],
      "text/plain": [
       "     [,1]\n",
       "[1,] TRUE"
      ]
     },
     "metadata": {},
     "output_type": "display_data"
    }
   ],
   "source": [
    "n = length(X1)\n",
    "k = 3\n",
    "SCR = t(B)%*%t(X)%*%Y - length(X1)*mean(Y)^2\n",
    "SCE = t(Y)%*%Y - t(B)%*%t(X)%*%Y\n",
    "SCT = SCR + SCE\n",
    "R2 = SCR/SCT\n",
    "R2a = 1 - ( SCE/(n-k-1) )/(SCT/(n-1))\n",
    "Fast = (SCR/k) / (SCE/(n-k-1))\n",
    "alpha = 0.05\n",
    "Fast > qf(1-alpha,k,n-k-1) #rechazo"
   ]
  },
  {
   "cell_type": "code",
   "execution_count": 81,
   "id": "39e0b8bb-f92e-433e-8987-ba1e63005e7a",
   "metadata": {},
   "outputs": [
    {
     "data": {
      "text/html": [
       "<table class=\"dataframe\">\n",
       "<caption>A matrix: 1 × 1 of type lgl</caption>\n",
       "<tbody>\n",
       "\t<tr><td>TRUE</td></tr>\n",
       "</tbody>\n",
       "</table>\n"
      ],
      "text/latex": [
       "A matrix: 1 × 1 of type lgl\n",
       "\\begin{tabular}{l}\n",
       "\t TRUE\\\\\n",
       "\\end{tabular}\n"
      ],
      "text/markdown": [
       "\n",
       "A matrix: 1 × 1 of type lgl\n",
       "\n",
       "| TRUE |\n",
       "\n"
      ],
      "text/plain": [
       "     [,1]\n",
       "[1,] TRUE"
      ]
     },
     "metadata": {},
     "output_type": "display_data"
    },
    {
     "data": {
      "text/html": [
       "<table class=\"dataframe\">\n",
       "<caption>A matrix: 1 × 1 of type lgl</caption>\n",
       "<tbody>\n",
       "\t<tr><td>TRUE</td></tr>\n",
       "</tbody>\n",
       "</table>\n"
      ],
      "text/latex": [
       "A matrix: 1 × 1 of type lgl\n",
       "\\begin{tabular}{l}\n",
       "\t TRUE\\\\\n",
       "\\end{tabular}\n"
      ],
      "text/markdown": [
       "\n",
       "A matrix: 1 × 1 of type lgl\n",
       "\n",
       "| TRUE |\n",
       "\n"
      ],
      "text/plain": [
       "     [,1]\n",
       "[1,] TRUE"
      ]
     },
     "metadata": {},
     "output_type": "display_data"
    },
    {
     "data": {
      "text/html": [
       "<table class=\"dataframe\">\n",
       "<caption>A matrix: 1 × 1 of type lgl</caption>\n",
       "<tbody>\n",
       "\t<tr><td>TRUE</td></tr>\n",
       "</tbody>\n",
       "</table>\n"
      ],
      "text/latex": [
       "A matrix: 1 × 1 of type lgl\n",
       "\\begin{tabular}{l}\n",
       "\t TRUE\\\\\n",
       "\\end{tabular}\n"
      ],
      "text/markdown": [
       "\n",
       "A matrix: 1 × 1 of type lgl\n",
       "\n",
       "| TRUE |\n",
       "\n"
      ],
      "text/plain": [
       "     [,1]\n",
       "[1,] TRUE"
      ]
     },
     "metadata": {},
     "output_type": "display_data"
    },
    {
     "data": {
      "text/html": [
       "<table class=\"dataframe\">\n",
       "<caption>A matrix: 1 × 1 of type lgl</caption>\n",
       "<tbody>\n",
       "\t<tr><td>TRUE</td></tr>\n",
       "</tbody>\n",
       "</table>\n"
      ],
      "text/latex": [
       "A matrix: 1 × 1 of type lgl\n",
       "\\begin{tabular}{l}\n",
       "\t TRUE\\\\\n",
       "\\end{tabular}\n"
      ],
      "text/markdown": [
       "\n",
       "A matrix: 1 × 1 of type lgl\n",
       "\n",
       "| TRUE |\n",
       "\n"
      ],
      "text/plain": [
       "     [,1]\n",
       "[1,] TRUE"
      ]
     },
     "metadata": {},
     "output_type": "display_data"
    },
    {
     "data": {
      "text/html": [
       "<table class=\"dataframe\">\n",
       "<caption>A matrix: 1 × 1 of type dbl</caption>\n",
       "<tbody>\n",
       "\t<tr><td>6.327617</td></tr>\n",
       "</tbody>\n",
       "</table>\n"
      ],
      "text/latex": [
       "A matrix: 1 × 1 of type dbl\n",
       "\\begin{tabular}{l}\n",
       "\t 6.327617\\\\\n",
       "\\end{tabular}\n"
      ],
      "text/markdown": [
       "\n",
       "A matrix: 1 × 1 of type dbl\n",
       "\n",
       "| 6.327617 |\n",
       "\n"
      ],
      "text/plain": [
       "     [,1]    \n",
       "[1,] 6.327617"
      ]
     },
     "metadata": {},
     "output_type": "display_data"
    }
   ],
   "source": [
    "SCe2 = SCE/(n-k-1)\n",
    "# Caso B0\n",
    "t1ast = (B[1] - 0)/sqrt(SCe2*C[1,1])\n",
    "abs(t1ast)>qt(1-alpha/2,n-k-1)\n",
    "# Caso B1\n",
    "t2ast = (B[2] - 0)/sqrt(SCe2*C[2,2])\n",
    "abs(t2ast)>qt(1-alpha/2,n-k-1)\n",
    "# Caso B2\n",
    "t3ast = (B[3] - 0)/sqrt(SCe2*C[3,3])\n",
    "abs(t3ast)>qt(1-alpha/2,n-k-1)\n",
    "# Caso B3\n",
    "t4ast = (B[4] - 0)/sqrt(SCe2*C[4,4])\n",
    "abs(t4ast)>qt(1-alpha/2,n-k-1)\n",
    "sqrt(SCe2)"
   ]
  },
  {
   "cell_type": "code",
   "execution_count": 82,
   "id": "0b6e6a83-06ef-41ab-8d2e-cad4a9579e28",
   "metadata": {},
   "outputs": [
    {
     "data": {
      "text/plain": [
       "\n",
       "Call:\n",
       "lm(formula = Y ~ X1 + X2 + X3)\n",
       "\n",
       "Residuals:\n",
       "     Min       1Q   Median       3Q      Max \n",
       "-11.8400  -2.8931   0.9368   3.4093   9.8357 \n",
       "\n",
       "Coefficients:\n",
       "            Estimate Std. Error t value Pr(>|t|)    \n",
       "(Intercept)  69.2680    25.7662   2.688  0.01615 *  \n",
       "X1            4.1223     0.4766   8.650 1.99e-07 ***\n",
       "X2            2.5418     0.7480   3.398  0.00368 ** \n",
       "X3            1.3683     0.4676   2.926  0.00989 ** \n",
       "---\n",
       "Signif. codes:  0 '***' 0.001 '**' 0.01 '*' 0.05 '.' 0.1 ' ' 1\n",
       "\n",
       "Residual standard error: 6.328 on 16 degrees of freedom\n",
       "Multiple R-squared:  0.8588,\tAdjusted R-squared:  0.8324 \n",
       "F-statistic: 32.45 on 3 and 16 DF,  p-value: 4.922e-07\n"
      ]
     },
     "metadata": {},
     "output_type": "display_data"
    },
    {
     "data": {
      "text/html": [
       "<table class=\"dataframe\">\n",
       "<caption>A anova: 4 × 5</caption>\n",
       "<thead>\n",
       "\t<tr><th></th><th scope=col>Df</th><th scope=col>Sum Sq</th><th scope=col>Mean Sq</th><th scope=col>F value</th><th scope=col>Pr(&gt;F)</th></tr>\n",
       "\t<tr><th></th><th scope=col>&lt;int&gt;</th><th scope=col>&lt;dbl&gt;</th><th scope=col>&lt;dbl&gt;</th><th scope=col>&lt;dbl&gt;</th><th scope=col>&lt;dbl&gt;</th></tr>\n",
       "</thead>\n",
       "<tbody>\n",
       "\t<tr><th scope=row>X1</th><td> 1</td><td>3328.1187</td><td>3328.11872</td><td>83.122471</td><td>9.780679e-08</td></tr>\n",
       "\t<tr><th scope=row>X2</th><td> 1</td><td> 226.5709</td><td> 226.57093</td><td> 5.658793</td><td>3.016267e-02</td></tr>\n",
       "\t<tr><th scope=row>X3</th><td> 1</td><td> 342.8480</td><td> 342.84800</td><td> 8.562907</td><td>9.887116e-03</td></tr>\n",
       "\t<tr><th scope=row>Residuals</th><td>16</td><td> 640.6198</td><td>  40.03874</td><td>       NA</td><td>          NA</td></tr>\n",
       "</tbody>\n",
       "</table>\n"
      ],
      "text/latex": [
       "A anova: 4 × 5\n",
       "\\begin{tabular}{r|lllll}\n",
       "  & Df & Sum Sq & Mean Sq & F value & Pr(>F)\\\\\n",
       "  & <int> & <dbl> & <dbl> & <dbl> & <dbl>\\\\\n",
       "\\hline\n",
       "\tX1 &  1 & 3328.1187 & 3328.11872 & 83.122471 & 9.780679e-08\\\\\n",
       "\tX2 &  1 &  226.5709 &  226.57093 &  5.658793 & 3.016267e-02\\\\\n",
       "\tX3 &  1 &  342.8480 &  342.84800 &  8.562907 & 9.887116e-03\\\\\n",
       "\tResiduals & 16 &  640.6198 &   40.03874 &        NA &           NA\\\\\n",
       "\\end{tabular}\n"
      ],
      "text/markdown": [
       "\n",
       "A anova: 4 × 5\n",
       "\n",
       "| <!--/--> | Df &lt;int&gt; | Sum Sq &lt;dbl&gt; | Mean Sq &lt;dbl&gt; | F value &lt;dbl&gt; | Pr(&gt;F) &lt;dbl&gt; |\n",
       "|---|---|---|---|---|---|\n",
       "| X1 |  1 | 3328.1187 | 3328.11872 | 83.122471 | 9.780679e-08 |\n",
       "| X2 |  1 |  226.5709 |  226.57093 |  5.658793 | 3.016267e-02 |\n",
       "| X3 |  1 |  342.8480 |  342.84800 |  8.562907 | 9.887116e-03 |\n",
       "| Residuals | 16 |  640.6198 |   40.03874 |        NA |           NA |\n",
       "\n"
      ],
      "text/plain": [
       "          Df Sum Sq    Mean Sq    F value   Pr(>F)      \n",
       "X1         1 3328.1187 3328.11872 83.122471 9.780679e-08\n",
       "X2         1  226.5709  226.57093  5.658793 3.016267e-02\n",
       "X3         1  342.8480  342.84800  8.562907 9.887116e-03\n",
       "Residuals 16  640.6198   40.03874        NA           NA"
      ]
     },
     "metadata": {},
     "output_type": "display_data"
    },
    {
     "data": {
      "text/html": [
       "3898.15743771836"
      ],
      "text/latex": [
       "3898.15743771836"
      ],
      "text/markdown": [
       "3898.15743771836"
      ],
      "text/plain": [
       "[1] 3898.157"
      ]
     },
     "metadata": {},
     "output_type": "display_data"
    }
   ],
   "source": [
    "reg = lm(Y~X1+X2+X3)\n",
    "summary(reg)\n",
    "anova(reg)\n",
    "sum(anova(reg)$`Sum Sq`)-640"
   ]
  },
  {
   "cell_type": "code",
   "execution_count": 91,
   "id": "57f3f938-680a-42b4-a935-434d62eb0ba8",
   "metadata": {},
   "outputs": [
    {
     "ename": "ERROR",
     "evalue": "Error in help.search(c(\"library\", \"MASS\"), package = NULL): argument 'pattern' must be a single character string\n",
     "output_type": "error",
     "traceback": [
      "Error in help.search(c(\"library\", \"MASS\"), package = NULL): argument 'pattern' must be a single character string\nTraceback:\n",
      "1. `?`(`?`(library(\"MASS\")))",
      "2. eval(substitute(help.search(TOPIC, package = PACKAGE), list(TOPIC = as.character(topicExpr), \n .     PACKAGE = package)))",
      "3. eval(substitute(help.search(TOPIC, package = PACKAGE), list(TOPIC = as.character(topicExpr), \n .     PACKAGE = package)))",
      "4. help.search(c(\"library\", \"MASS\"), package = NULL)",
      "5. stop(.wrong_args(\"pattern\"), domain = NA)"
     ]
    }
   ],
   "source": [
    "??library('MASS')"
   ]
  },
  {
   "cell_type": "code",
   "execution_count": 90,
   "id": "0bd81509-4db9-4989-b144-224b166c1902",
   "metadata": {},
   "outputs": [
    {
     "ename": "ERROR",
     "evalue": "Error in parse(text = x, srcfile = src): <text>:1:2: inesperado ')'\n1: ?)\n     ^\n",
     "output_type": "error",
     "traceback": [
      "Error in parse(text = x, srcfile = src): <text>:1:2: inesperado ')'\n1: ?)\n     ^\nTraceback:\n"
     ]
    }
   ],
   "source": []
  }
 ],
 "metadata": {
  "kernelspec": {
   "display_name": "R",
   "language": "R",
   "name": "ir"
  },
  "language_info": {
   "codemirror_mode": "r",
   "file_extension": ".r",
   "mimetype": "text/x-r-source",
   "name": "R",
   "pygments_lexer": "r",
   "version": "4.3.3"
  }
 },
 "nbformat": 4,
 "nbformat_minor": 5
}
