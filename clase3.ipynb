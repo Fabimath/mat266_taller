{
 "cells": [
  {
   "cell_type": "markdown",
   "id": "1a6ce9d3-8b1e-45a6-982a-1fde824bd072",
   "metadata": {},
   "source": [
    "# Validación cruzada para competencia de modelos"
   ]
  },
  {
   "cell_type": "markdown",
   "id": "29d48b4b-7b70-4ddb-b234-01f0d22e955d",
   "metadata": {},
   "source": [
    "Vamos a considerar los siguientes datos"
   ]
  },
  {
   "cell_type": "code",
   "execution_count": 25,
   "id": "914b0193-620e-4165-9de3-5ad5222f9374",
   "metadata": {},
   "outputs": [
    {
     "data": {
      "text/html": [
       "<table class=\"dataframe\">\n",
       "<caption>A data.frame: 6 × 4</caption>\n",
       "<thead>\n",
       "\t<tr><th></th><th scope=col>Ingresos.por.Dolares</th><th scope=col>Ingresos.por.Bitcoin</th><th scope=col>Ingresos.por.Inversiones</th><th scope=col>Ingresos.por.Turismo</th></tr>\n",
       "\t<tr><th></th><th scope=col>&lt;dbl&gt;</th><th scope=col>&lt;dbl&gt;</th><th scope=col>&lt;dbl&gt;</th><th scope=col>&lt;dbl&gt;</th></tr>\n",
       "</thead>\n",
       "<tbody>\n",
       "\t<tr><th scope=row>1</th><td>261.9792</td><td>23.78886</td><td>29.32720</td><td>15.273709</td></tr>\n",
       "\t<tr><th scope=row>2</th><td>241.7438</td><td>19.02130</td><td>31.13219</td><td>11.682238</td></tr>\n",
       "\t<tr><th scope=row>3</th><td>249.9436</td><td>23.98940</td><td>30.40001</td><td> 8.641648</td></tr>\n",
       "\t<tr><th scope=row>4</th><td>261.1872</td><td>23.81729</td><td>32.41257</td><td> 7.503870</td></tr>\n",
       "\t<tr><th scope=row>5</th><td>238.4335</td><td>21.24392</td><td>29.82868</td><td> 6.500288</td></tr>\n",
       "\t<tr><th scope=row>6</th><td>229.0059</td><td>15.38015</td><td>31.51082</td><td> 6.803228</td></tr>\n",
       "</tbody>\n",
       "</table>\n"
      ],
      "text/latex": [
       "A data.frame: 6 × 4\n",
       "\\begin{tabular}{r|llll}\n",
       "  & Ingresos.por.Dolares & Ingresos.por.Bitcoin & Ingresos.por.Inversiones & Ingresos.por.Turismo\\\\\n",
       "  & <dbl> & <dbl> & <dbl> & <dbl>\\\\\n",
       "\\hline\n",
       "\t1 & 261.9792 & 23.78886 & 29.32720 & 15.273709\\\\\n",
       "\t2 & 241.7438 & 19.02130 & 31.13219 & 11.682238\\\\\n",
       "\t3 & 249.9436 & 23.98940 & 30.40001 &  8.641648\\\\\n",
       "\t4 & 261.1872 & 23.81729 & 32.41257 &  7.503870\\\\\n",
       "\t5 & 238.4335 & 21.24392 & 29.82868 &  6.500288\\\\\n",
       "\t6 & 229.0059 & 15.38015 & 31.51082 &  6.803228\\\\\n",
       "\\end{tabular}\n"
      ],
      "text/markdown": [
       "\n",
       "A data.frame: 6 × 4\n",
       "\n",
       "| <!--/--> | Ingresos.por.Dolares &lt;dbl&gt; | Ingresos.por.Bitcoin &lt;dbl&gt; | Ingresos.por.Inversiones &lt;dbl&gt; | Ingresos.por.Turismo &lt;dbl&gt; |\n",
       "|---|---|---|---|---|\n",
       "| 1 | 261.9792 | 23.78886 | 29.32720 | 15.273709 |\n",
       "| 2 | 241.7438 | 19.02130 | 31.13219 | 11.682238 |\n",
       "| 3 | 249.9436 | 23.98940 | 30.40001 |  8.641648 |\n",
       "| 4 | 261.1872 | 23.81729 | 32.41257 |  7.503870 |\n",
       "| 5 | 238.4335 | 21.24392 | 29.82868 |  6.500288 |\n",
       "| 6 | 229.0059 | 15.38015 | 31.51082 |  6.803228 |\n",
       "\n"
      ],
      "text/plain": [
       "  Ingresos.por.Dolares Ingresos.por.Bitcoin Ingresos.por.Inversiones\n",
       "1 261.9792             23.78886             29.32720                \n",
       "2 241.7438             19.02130             31.13219                \n",
       "3 249.9436             23.98940             30.40001                \n",
       "4 261.1872             23.81729             32.41257                \n",
       "5 238.4335             21.24392             29.82868                \n",
       "6 229.0059             15.38015             31.51082                \n",
       "  Ingresos.por.Turismo\n",
       "1 15.273709           \n",
       "2 11.682238           \n",
       "3  8.641648           \n",
       "4  7.503870           \n",
       "5  6.500288           \n",
       "6  6.803228           "
      ]
     },
     "metadata": {},
     "output_type": "display_data"
    },
    {
     "data": {
      "text/plain": [
       " Ingresos.por.Dolares Ingresos.por.Bitcoin Ingresos.por.Inversiones\n",
       " Min.   :211.0        Min.   :15.38        Min.   :26.15           \n",
       " 1st Qu.:231.5        1st Qu.:17.53        1st Qu.:28.71           \n",
       " Median :240.9        Median :19.12        Median :29.98           \n",
       " Mean   :242.0        Mean   :19.99        Mean   :30.33           \n",
       " 3rd Qu.:251.9        3rd Qu.:21.55        3rd Qu.:32.24           \n",
       " Max.   :272.6        Max.   :27.21        Max.   :33.71           \n",
       " Ingresos.por.Turismo\n",
       " Min.   : 3.328      \n",
       " 1st Qu.: 7.329      \n",
       " Median : 9.400      \n",
       " Mean   : 9.653      \n",
       " 3rd Qu.:11.725      \n",
       " Max.   :17.324      "
      ]
     },
     "metadata": {},
     "output_type": "display_data"
    }
   ],
   "source": [
    "df = read.csv('https://raw.githubusercontent.com/Fabimath/mat266_taller/main/data_base/ingresos.csv')\n",
    "head(df)\n",
    "summary(df)"
   ]
  },
  {
   "cell_type": "markdown",
   "id": "195099de-0f84-4d39-9b23-4e86c9b41f5c",
   "metadata": {
    "scrolled": true
   },
   "source": [
    "## Trabajo 1\n",
    "Realice un modelo lineal con todos los datos que permita predecir el ingreso en dolares y analice su calidad."
   ]
  },
  {
   "cell_type": "code",
   "execution_count": null,
   "id": "1e6f1f1f-7fdb-4f08-bf1e-3b9f4e91cc77",
   "metadata": {},
   "outputs": [],
   "source": [
    "# Escriba aquí"
   ]
  },
  {
   "cell_type": "markdown",
   "id": "cb2e87e5-61aa-4b85-bc6c-2cee908afbc0",
   "metadata": {},
   "source": [
    "## Trabajo 2\n",
    "Un trabajador sugiere que es razonable pensar que si no hay ingresos de ningún tipo entonces el ingreso en dolares sera 0.\n",
    "Realice un modelo lineal teniendo en cuenta esta sugerencia."
   ]
  },
  {
   "cell_type": "code",
   "execution_count": 26,
   "id": "fb62d662-c0e1-4967-b809-4de4fdb5d69e",
   "metadata": {},
   "outputs": [],
   "source": [
    "# Escriba aquí"
   ]
  },
  {
   "cell_type": "markdown",
   "id": "e77da6bd-307d-4c82-9a5f-3ee1ee2e9749",
   "metadata": {},
   "source": [
    "## Trabajo 3\n",
    "### Comparación de modelos\n",
    "Queremos un nuevo criterio para comparar por que, puede ser que frente a otros datos, o menos datos un modelo sea mejor que el otro.\n",
    "Por tanto aprenderemos nuevas funciones con el objetivo de hacer validación cruzada."
   ]
  },
  {
   "cell_type": "code",
   "execution_count": 39,
   "id": "5afb270a-87ae-4715-ad9c-01ff43c77df0",
   "metadata": {},
   "outputs": [
    {
     "data": {
      "text/html": [
       "<style>\n",
       ".list-inline {list-style: none; margin:0; padding: 0}\n",
       ".list-inline>li {display: inline-block}\n",
       ".list-inline>li:not(:last-child)::after {content: \"\\00b7\"; padding: 0 .5ex}\n",
       "</style>\n",
       "<ol class=list-inline><li>5</li><li>3</li></ol>\n"
      ],
      "text/latex": [
       "\\begin{enumerate*}\n",
       "\\item 5\n",
       "\\item 3\n",
       "\\end{enumerate*}\n"
      ],
      "text/markdown": [
       "1. 5\n",
       "2. 3\n",
       "\n",
       "\n"
      ],
      "text/plain": [
       "[1] 5 3"
      ]
     },
     "metadata": {},
     "output_type": "display_data"
    }
   ],
   "source": [
    "X = c(1,2,3,4,5,6,7,8,9,10)\n",
    "sample(X,2)"
   ]
  },
  {
   "cell_type": "markdown",
   "id": "c78afd50-9ebd-45f3-af0b-7885aea7c78f",
   "metadata": {},
   "source": [
    "Podemos fijar una semilla si queremos que el resultado aleatorio no cambie"
   ]
  },
  {
   "cell_type": "code",
   "execution_count": 41,
   "id": "19644f1f-41e8-4062-96d9-1546c15ffb9a",
   "metadata": {},
   "outputs": [
    {
     "data": {
      "text/html": [
       "<style>\n",
       ".list-inline {list-style: none; margin:0; padding: 0}\n",
       ".list-inline>li {display: inline-block}\n",
       ".list-inline>li:not(:last-child)::after {content: \"\\00b7\"; padding: 0 .5ex}\n",
       "</style>\n",
       "<ol class=list-inline><li>9</li><li>4</li><li>7</li><li>1</li></ol>\n"
      ],
      "text/latex": [
       "\\begin{enumerate*}\n",
       "\\item 9\n",
       "\\item 4\n",
       "\\item 7\n",
       "\\item 1\n",
       "\\end{enumerate*}\n"
      ],
      "text/markdown": [
       "1. 9\n",
       "2. 4\n",
       "3. 7\n",
       "4. 1\n",
       "\n",
       "\n"
      ],
      "text/plain": [
       "[1] 9 4 7 1"
      ]
     },
     "metadata": {},
     "output_type": "display_data"
    }
   ],
   "source": [
    "set.seed(0)\n",
    "sample(X,4)"
   ]
  },
  {
   "cell_type": "markdown",
   "id": "46c74455-c6bb-4a9d-ad00-2afb6dfdba02",
   "metadata": {},
   "source": [
    "Ahora lo haremos con porcentajes, para ello debemos usar la función sample de manera ingeniosa."
   ]
  },
  {
   "cell_type": "code",
   "execution_count": 44,
   "id": "861f81df-6c09-43d4-87c8-c01076b3ef3a",
   "metadata": {},
   "outputs": [
    {
     "data": {
      "text/html": [
       "10"
      ],
      "text/latex": [
       "10"
      ],
      "text/markdown": [
       "10"
      ],
      "text/plain": [
       "[1] 10"
      ]
     },
     "metadata": {},
     "output_type": "display_data"
    }
   ],
   "source": [
    "length(X) #entrega el largo del vector"
   ]
  },
  {
   "cell_type": "code",
   "execution_count": 50,
   "id": "ac5916d2-e125-4cc5-a8b2-d68f6c014aff",
   "metadata": {},
   "outputs": [
    {
     "data": {
      "text/html": [
       "3.7"
      ],
      "text/latex": [
       "3.7"
      ],
      "text/markdown": [
       "3.7"
      ],
      "text/plain": [
       "[1] 3.7"
      ]
     },
     "metadata": {},
     "output_type": "display_data"
    }
   ],
   "source": [
    "37/length(X) # Corresponde a la cantidad de datos equivalentes al 35%"
   ]
  },
  {
   "cell_type": "code",
   "execution_count": 51,
   "id": "5ab3d0df-cde2-42a9-b6c7-35b7cba4ab9c",
   "metadata": {},
   "outputs": [
    {
     "data": {
      "text/html": [
       "<style>\n",
       ".list-inline {list-style: none; margin:0; padding: 0}\n",
       ".list-inline>li {display: inline-block}\n",
       ".list-inline>li:not(:last-child)::after {content: \"\\00b7\"; padding: 0 .5ex}\n",
       "</style>\n",
       "<ol class=list-inline><li>9</li><li>4</li><li>7</li></ol>\n"
      ],
      "text/latex": [
       "\\begin{enumerate*}\n",
       "\\item 9\n",
       "\\item 4\n",
       "\\item 7\n",
       "\\end{enumerate*}\n"
      ],
      "text/markdown": [
       "1. 9\n",
       "2. 4\n",
       "3. 7\n",
       "\n",
       "\n"
      ],
      "text/plain": [
       "[1] 9 4 7"
      ]
     },
     "metadata": {},
     "output_type": "display_data"
    }
   ],
   "source": [
    "set.seed(0)\n",
    "sample(X,37/length(X))"
   ]
  },
  {
   "cell_type": "markdown",
   "id": "1d6fca32-1949-46a2-be0d-2a7a31724e8d",
   "metadata": {},
   "source": [
    "Note que por defecto trunca el resultado"
   ]
  },
  {
   "cell_type": "markdown",
   "id": "fd4afe83-4ad7-4cc4-b4f3-b93abad1cb79",
   "metadata": {},
   "source": [
    "Veamos como hacerlo en una base de datos"
   ]
  },
  {
   "cell_type": "code",
   "execution_count": 112,
   "id": "bb776ffb-3241-4455-81c7-33aaa86888e1",
   "metadata": {},
   "outputs": [
    {
     "data": {
      "text/html": [
       "<table class=\"dataframe\">\n",
       "<caption>A data.frame: 6 × 4</caption>\n",
       "<thead>\n",
       "\t<tr><th></th><th scope=col>Ingresos.por.Dolares</th><th scope=col>Ingresos.por.Bitcoin</th><th scope=col>Ingresos.por.Inversiones</th><th scope=col>Ingresos.por.Turismo</th></tr>\n",
       "\t<tr><th></th><th scope=col>&lt;dbl&gt;</th><th scope=col>&lt;dbl&gt;</th><th scope=col>&lt;dbl&gt;</th><th scope=col>&lt;dbl&gt;</th></tr>\n",
       "</thead>\n",
       "<tbody>\n",
       "\t<tr><th scope=row>1</th><td>261.9792</td><td>23.78886</td><td>29.32720</td><td>15.273709</td></tr>\n",
       "\t<tr><th scope=row>2</th><td>241.7438</td><td>19.02130</td><td>31.13219</td><td>11.682238</td></tr>\n",
       "\t<tr><th scope=row>3</th><td>249.9436</td><td>23.98940</td><td>30.40001</td><td> 8.641648</td></tr>\n",
       "\t<tr><th scope=row>4</th><td>261.1872</td><td>23.81729</td><td>32.41257</td><td> 7.503870</td></tr>\n",
       "\t<tr><th scope=row>5</th><td>238.4335</td><td>21.24392</td><td>29.82868</td><td> 6.500288</td></tr>\n",
       "\t<tr><th scope=row>6</th><td>229.0059</td><td>15.38015</td><td>31.51082</td><td> 6.803228</td></tr>\n",
       "</tbody>\n",
       "</table>\n"
      ],
      "text/latex": [
       "A data.frame: 6 × 4\n",
       "\\begin{tabular}{r|llll}\n",
       "  & Ingresos.por.Dolares & Ingresos.por.Bitcoin & Ingresos.por.Inversiones & Ingresos.por.Turismo\\\\\n",
       "  & <dbl> & <dbl> & <dbl> & <dbl>\\\\\n",
       "\\hline\n",
       "\t1 & 261.9792 & 23.78886 & 29.32720 & 15.273709\\\\\n",
       "\t2 & 241.7438 & 19.02130 & 31.13219 & 11.682238\\\\\n",
       "\t3 & 249.9436 & 23.98940 & 30.40001 &  8.641648\\\\\n",
       "\t4 & 261.1872 & 23.81729 & 32.41257 &  7.503870\\\\\n",
       "\t5 & 238.4335 & 21.24392 & 29.82868 &  6.500288\\\\\n",
       "\t6 & 229.0059 & 15.38015 & 31.51082 &  6.803228\\\\\n",
       "\\end{tabular}\n"
      ],
      "text/markdown": [
       "\n",
       "A data.frame: 6 × 4\n",
       "\n",
       "| <!--/--> | Ingresos.por.Dolares &lt;dbl&gt; | Ingresos.por.Bitcoin &lt;dbl&gt; | Ingresos.por.Inversiones &lt;dbl&gt; | Ingresos.por.Turismo &lt;dbl&gt; |\n",
       "|---|---|---|---|---|\n",
       "| 1 | 261.9792 | 23.78886 | 29.32720 | 15.273709 |\n",
       "| 2 | 241.7438 | 19.02130 | 31.13219 | 11.682238 |\n",
       "| 3 | 249.9436 | 23.98940 | 30.40001 |  8.641648 |\n",
       "| 4 | 261.1872 | 23.81729 | 32.41257 |  7.503870 |\n",
       "| 5 | 238.4335 | 21.24392 | 29.82868 |  6.500288 |\n",
       "| 6 | 229.0059 | 15.38015 | 31.51082 |  6.803228 |\n",
       "\n"
      ],
      "text/plain": [
       "  Ingresos.por.Dolares Ingresos.por.Bitcoin Ingresos.por.Inversiones\n",
       "1 261.9792             23.78886             29.32720                \n",
       "2 241.7438             19.02130             31.13219                \n",
       "3 249.9436             23.98940             30.40001                \n",
       "4 261.1872             23.81729             32.41257                \n",
       "5 238.4335             21.24392             29.82868                \n",
       "6 229.0059             15.38015             31.51082                \n",
       "  Ingresos.por.Turismo\n",
       "1 15.273709           \n",
       "2 11.682238           \n",
       "3  8.641648           \n",
       "4  7.503870           \n",
       "5  6.500288           \n",
       "6  6.803228           "
      ]
     },
     "metadata": {},
     "output_type": "display_data"
    },
    {
     "data": {
      "text/html": [
       "<table class=\"dataframe\">\n",
       "<caption>A data.frame: 2 × 5</caption>\n",
       "<thead>\n",
       "\t<tr><th></th><th scope=col>aux</th><th scope=col>Ingresos.por.Dolares</th><th scope=col>Ingresos.por.Bitcoin</th><th scope=col>Ingresos.por.Inversiones</th><th scope=col>Ingresos.por.Turismo</th></tr>\n",
       "\t<tr><th></th><th scope=col>&lt;int&gt;</th><th scope=col>&lt;dbl&gt;</th><th scope=col>&lt;dbl&gt;</th><th scope=col>&lt;dbl&gt;</th><th scope=col>&lt;dbl&gt;</th></tr>\n",
       "</thead>\n",
       "<tbody>\n",
       "\t<tr><th scope=row>1</th><td>1</td><td>261.9792</td><td>23.78886</td><td>29.32720</td><td>15.27371</td></tr>\n",
       "\t<tr><th scope=row>8</th><td>8</td><td>240.0179</td><td>19.11584</td><td>27.92714</td><td>13.46961</td></tr>\n",
       "</tbody>\n",
       "</table>\n"
      ],
      "text/latex": [
       "A data.frame: 2 × 5\n",
       "\\begin{tabular}{r|lllll}\n",
       "  & aux & Ingresos.por.Dolares & Ingresos.por.Bitcoin & Ingresos.por.Inversiones & Ingresos.por.Turismo\\\\\n",
       "  & <int> & <dbl> & <dbl> & <dbl> & <dbl>\\\\\n",
       "\\hline\n",
       "\t1 & 1 & 261.9792 & 23.78886 & 29.32720 & 15.27371\\\\\n",
       "\t8 & 8 & 240.0179 & 19.11584 & 27.92714 & 13.46961\\\\\n",
       "\\end{tabular}\n"
      ],
      "text/markdown": [
       "\n",
       "A data.frame: 2 × 5\n",
       "\n",
       "| <!--/--> | aux &lt;int&gt; | Ingresos.por.Dolares &lt;dbl&gt; | Ingresos.por.Bitcoin &lt;dbl&gt; | Ingresos.por.Inversiones &lt;dbl&gt; | Ingresos.por.Turismo &lt;dbl&gt; |\n",
       "|---|---|---|---|---|---|\n",
       "| 1 | 1 | 261.9792 | 23.78886 | 29.32720 | 15.27371 |\n",
       "| 8 | 8 | 240.0179 | 19.11584 | 27.92714 | 13.46961 |\n",
       "\n"
      ],
      "text/plain": [
       "  aux Ingresos.por.Dolares Ingresos.por.Bitcoin Ingresos.por.Inversiones\n",
       "1 1   261.9792             23.78886             29.32720                \n",
       "8 8   240.0179             19.11584             27.92714                \n",
       "  Ingresos.por.Turismo\n",
       "1 15.27371            \n",
       "8 13.46961            "
      ]
     },
     "metadata": {},
     "output_type": "display_data"
    }
   ],
   "source": [
    "head(df)\n",
    "dfaux=cbind(aux=seq(1,length(df$Ingresos.por.Bitcoin)),df)\n",
    "m.a.=sample(dfaux$aux,2)\n",
    "subset(dfaux,aux %in% m.a.)"
   ]
  },
  {
   "cell_type": "markdown",
   "id": "8e17f0f1-e2fa-4383-9ea5-7af2a0707ee9",
   "metadata": {},
   "source": [
    "Procedemos a hacer una Cross Validation con 80 20"
   ]
  }
 ],
 "metadata": {
  "kernelspec": {
   "display_name": "R",
   "language": "R",
   "name": "ir"
  },
  "language_info": {
   "codemirror_mode": "r",
   "file_extension": ".r",
   "mimetype": "text/x-r-source",
   "name": "R",
   "pygments_lexer": "r",
   "version": "4.3.3"
  }
 },
 "nbformat": 4,
 "nbformat_minor": 5
}
