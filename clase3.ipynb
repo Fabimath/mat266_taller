{
 "cells": [
  {
   "cell_type": "markdown",
   "id": "1a6ce9d3-8b1e-45a6-982a-1fde824bd072",
   "metadata": {},
   "source": [
    "# Validación cruzada para competencia de modelos"
   ]
  },
  {
   "cell_type": "markdown",
   "id": "29d48b4b-7b70-4ddb-b234-01f0d22e955d",
   "metadata": {},
   "source": [
    "Vamos a considerar los siguientes datos"
   ]
  },
  {
   "cell_type": "code",
   "execution_count": 11,
   "id": "914b0193-620e-4165-9de3-5ad5222f9374",
   "metadata": {},
   "outputs": [
    {
     "data": {
      "text/html": [
       "<table class=\"dataframe\">\n",
       "<caption>A data.frame: 6 × 4</caption>\n",
       "<thead>\n",
       "\t<tr><th></th><th scope=col>Ingresos.por.Dolares</th><th scope=col>Ingresos.por.Bitcoin</th><th scope=col>Ingresos.por.Inversiones</th><th scope=col>Ingresos.por.Turismo</th></tr>\n",
       "\t<tr><th></th><th scope=col>&lt;dbl&gt;</th><th scope=col>&lt;dbl&gt;</th><th scope=col>&lt;dbl&gt;</th><th scope=col>&lt;dbl&gt;</th></tr>\n",
       "</thead>\n",
       "<tbody>\n",
       "\t<tr><th scope=row>1</th><td>261.9792</td><td>23.78886</td><td>29.32720</td><td>15.273709</td></tr>\n",
       "\t<tr><th scope=row>2</th><td>241.7438</td><td>19.02130</td><td>31.13219</td><td>11.682238</td></tr>\n",
       "\t<tr><th scope=row>3</th><td>249.9436</td><td>23.98940</td><td>30.40001</td><td> 8.641648</td></tr>\n",
       "\t<tr><th scope=row>4</th><td>261.1872</td><td>23.81729</td><td>32.41257</td><td> 7.503870</td></tr>\n",
       "\t<tr><th scope=row>5</th><td>238.4335</td><td>21.24392</td><td>29.82868</td><td> 6.500288</td></tr>\n",
       "\t<tr><th scope=row>6</th><td>229.0059</td><td>15.38015</td><td>31.51082</td><td> 6.803228</td></tr>\n",
       "</tbody>\n",
       "</table>\n"
      ],
      "text/latex": [
       "A data.frame: 6 × 4\n",
       "\\begin{tabular}{r|llll}\n",
       "  & Ingresos.por.Dolares & Ingresos.por.Bitcoin & Ingresos.por.Inversiones & Ingresos.por.Turismo\\\\\n",
       "  & <dbl> & <dbl> & <dbl> & <dbl>\\\\\n",
       "\\hline\n",
       "\t1 & 261.9792 & 23.78886 & 29.32720 & 15.273709\\\\\n",
       "\t2 & 241.7438 & 19.02130 & 31.13219 & 11.682238\\\\\n",
       "\t3 & 249.9436 & 23.98940 & 30.40001 &  8.641648\\\\\n",
       "\t4 & 261.1872 & 23.81729 & 32.41257 &  7.503870\\\\\n",
       "\t5 & 238.4335 & 21.24392 & 29.82868 &  6.500288\\\\\n",
       "\t6 & 229.0059 & 15.38015 & 31.51082 &  6.803228\\\\\n",
       "\\end{tabular}\n"
      ],
      "text/markdown": [
       "\n",
       "A data.frame: 6 × 4\n",
       "\n",
       "| <!--/--> | Ingresos.por.Dolares &lt;dbl&gt; | Ingresos.por.Bitcoin &lt;dbl&gt; | Ingresos.por.Inversiones &lt;dbl&gt; | Ingresos.por.Turismo &lt;dbl&gt; |\n",
       "|---|---|---|---|---|\n",
       "| 1 | 261.9792 | 23.78886 | 29.32720 | 15.273709 |\n",
       "| 2 | 241.7438 | 19.02130 | 31.13219 | 11.682238 |\n",
       "| 3 | 249.9436 | 23.98940 | 30.40001 |  8.641648 |\n",
       "| 4 | 261.1872 | 23.81729 | 32.41257 |  7.503870 |\n",
       "| 5 | 238.4335 | 21.24392 | 29.82868 |  6.500288 |\n",
       "| 6 | 229.0059 | 15.38015 | 31.51082 |  6.803228 |\n",
       "\n"
      ],
      "text/plain": [
       "  Ingresos.por.Dolares Ingresos.por.Bitcoin Ingresos.por.Inversiones\n",
       "1 261.9792             23.78886             29.32720                \n",
       "2 241.7438             19.02130             31.13219                \n",
       "3 249.9436             23.98940             30.40001                \n",
       "4 261.1872             23.81729             32.41257                \n",
       "5 238.4335             21.24392             29.82868                \n",
       "6 229.0059             15.38015             31.51082                \n",
       "  Ingresos.por.Turismo\n",
       "1 15.273709           \n",
       "2 11.682238           \n",
       "3  8.641648           \n",
       "4  7.503870           \n",
       "5  6.500288           \n",
       "6  6.803228           "
      ]
     },
     "metadata": {},
     "output_type": "display_data"
    },
    {
     "data": {
      "text/plain": [
       " Ingresos.por.Dolares Ingresos.por.Bitcoin Ingresos.por.Inversiones\n",
       " Min.   :211.0        Min.   :15.38        Min.   :26.15           \n",
       " 1st Qu.:231.5        1st Qu.:17.53        1st Qu.:28.71           \n",
       " Median :240.9        Median :19.12        Median :29.98           \n",
       " Mean   :242.0        Mean   :19.99        Mean   :30.33           \n",
       " 3rd Qu.:251.9        3rd Qu.:21.55        3rd Qu.:32.24           \n",
       " Max.   :272.6        Max.   :27.21        Max.   :33.71           \n",
       " Ingresos.por.Turismo\n",
       " Min.   : 3.328      \n",
       " 1st Qu.: 7.329      \n",
       " Median : 9.400      \n",
       " Mean   : 9.653      \n",
       " 3rd Qu.:11.725      \n",
       " Max.   :17.324      "
      ]
     },
     "metadata": {},
     "output_type": "display_data"
    }
   ],
   "source": [
    "df = read.csv('https://raw.githubusercontent.com/Fabimath/mat266_taller/main/data_base/ingresos.csv')\n",
    "head(df)\n",
    "summary(df)"
   ]
  },
  {
   "cell_type": "markdown",
   "id": "195099de-0f84-4d39-9b23-4e86c9b41f5c",
   "metadata": {
    "scrolled": true
   },
   "source": [
    "## Trabajo 1\n",
    "Realice un modelo lineal con todos los datos que permita predecir el ingreso en dolares y analice su calidad."
   ]
  },
  {
   "cell_type": "code",
   "execution_count": 12,
   "id": "1e6f1f1f-7fdb-4f08-bf1e-3b9f4e91cc77",
   "metadata": {},
   "outputs": [],
   "source": [
    "colnames(df) = c('Y','X1','X2','X3')"
   ]
  },
  {
   "cell_type": "code",
   "execution_count": 13,
   "id": "29e82d8f-29d0-464f-a70e-2e21f8b0d32b",
   "metadata": {},
   "outputs": [
    {
     "data": {
      "text/plain": [
       "\n",
       "Call:\n",
       "lm(formula = Y ~ 0 + X1 + X2 + X3, data = df)\n",
       "\n",
       "Residuals:\n",
       "     Min       1Q   Median       3Q      Max \n",
       "-12.4732  -4.0617  -0.1162   5.2285  11.4611 \n",
       "\n",
       "Coefficients:\n",
       "   Estimate Std. Error t value Pr(>|t|)    \n",
       "X1   4.4622     0.5371   8.308 2.18e-07 ***\n",
       "X2   4.3858     0.3487  12.578 4.89e-10 ***\n",
       "X3   2.0234     0.4665   4.338 0.000447 ***\n",
       "---\n",
       "Signif. codes:  0 '***' 0.001 '**' 0.01 '*' 0.05 '.' 0.1 ' ' 1\n",
       "\n",
       "Residual standard error: 7.396 on 17 degrees of freedom\n",
       "Multiple R-squared:  0.9992,\tAdjusted R-squared:  0.9991 \n",
       "F-statistic:  7159 on 3 and 17 DF,  p-value: < 2.2e-16\n"
      ]
     },
     "metadata": {},
     "output_type": "display_data"
    },
    {
     "data": {
      "text/plain": [
       "\n",
       "\tShapiro-Wilk normality test\n",
       "\n",
       "data:  resid(reg)\n",
       "W = 0.97115, p-value = 0.7789\n"
      ]
     },
     "metadata": {},
     "output_type": "display_data"
    }
   ],
   "source": [
    "reg1 = lm(Y~X1+X2+X3,df)\n",
    "summary(reg)\n",
    "shapiro.test(resid(reg))"
   ]
  },
  {
   "cell_type": "markdown",
   "id": "cb2e87e5-61aa-4b85-bc6c-2cee908afbc0",
   "metadata": {},
   "source": [
    "## Trabajo 2\n",
    "Un trabajador sugiere que es razonable pensar que si no hay ingresos de ningún tipo entonces el ingreso en dolares sera 0.\n",
    "Realice un modelo lineal teniendo en cuenta esta sugerencia."
   ]
  },
  {
   "cell_type": "code",
   "execution_count": 14,
   "id": "fb62d662-c0e1-4967-b809-4de4fdb5d69e",
   "metadata": {},
   "outputs": [
    {
     "data": {
      "text/plain": [
       "\n",
       "Call:\n",
       "lm(formula = Y ~ 0 + X1 + X2 + X3, data = df)\n",
       "\n",
       "Residuals:\n",
       "     Min       1Q   Median       3Q      Max \n",
       "-12.4732  -4.0617  -0.1162   5.2285  11.4611 \n",
       "\n",
       "Coefficients:\n",
       "   Estimate Std. Error t value Pr(>|t|)    \n",
       "X1   4.4622     0.5371   8.308 2.18e-07 ***\n",
       "X2   4.3858     0.3487  12.578 4.89e-10 ***\n",
       "X3   2.0234     0.4665   4.338 0.000447 ***\n",
       "---\n",
       "Signif. codes:  0 '***' 0.001 '**' 0.01 '*' 0.05 '.' 0.1 ' ' 1\n",
       "\n",
       "Residual standard error: 7.396 on 17 degrees of freedom\n",
       "Multiple R-squared:  0.9992,\tAdjusted R-squared:  0.9991 \n",
       "F-statistic:  7159 on 3 and 17 DF,  p-value: < 2.2e-16\n"
      ]
     },
     "metadata": {},
     "output_type": "display_data"
    },
    {
     "data": {
      "text/plain": [
       "\n",
       "\tShapiro-Wilk normality test\n",
       "\n",
       "data:  resid(reg)\n",
       "W = 0.97115, p-value = 0.7789\n"
      ]
     },
     "metadata": {},
     "output_type": "display_data"
    }
   ],
   "source": [
    "reg2 = lm(Y~0+X1+X2+X3,df)\n",
    "summary(reg)\n",
    "shapiro.test(resid(reg))"
   ]
  },
  {
   "cell_type": "markdown",
   "id": "e77da6bd-307d-4c82-9a5f-3ee1ee2e9749",
   "metadata": {},
   "source": [
    "## Trabajo 3\n",
    "### Comparación de modelos\n",
    "Queremos un nuevo criterio para comparar por que, puede ser que frente a otros datos, o menos datos un modelo sea mejor que el otro.\n",
    "Por tanto aprenderemos nuevas funciones con el objetivo de hacer validación cruzada."
   ]
  },
  {
   "cell_type": "code",
   "execution_count": 29,
   "id": "5afb270a-87ae-4715-ad9c-01ff43c77df0",
   "metadata": {},
   "outputs": [
    {
     "data": {
      "text/html": [
       "<style>\n",
       ".list-inline {list-style: none; margin:0; padding: 0}\n",
       ".list-inline>li {display: inline-block}\n",
       ".list-inline>li:not(:last-child)::after {content: \"\\00b7\"; padding: 0 .5ex}\n",
       "</style>\n",
       "<ol class=list-inline><li>1</li><li>5</li></ol>\n"
      ],
      "text/latex": [
       "\\begin{enumerate*}\n",
       "\\item 1\n",
       "\\item 5\n",
       "\\end{enumerate*}\n"
      ],
      "text/markdown": [
       "1. 1\n",
       "2. 5\n",
       "\n",
       "\n"
      ],
      "text/plain": [
       "[1] 1 5"
      ]
     },
     "metadata": {},
     "output_type": "display_data"
    }
   ],
   "source": [
    "X = c(1,2,3,4,5,6,7,8,9,10)\n",
    "sample(X,2)"
   ]
  },
  {
   "cell_type": "markdown",
   "id": "c78afd50-9ebd-45f3-af0b-7885aea7c78f",
   "metadata": {},
   "source": [
    "Podemos fijar una semilla si queremos que el resultado aleatorio no cambie"
   ]
  },
  {
   "cell_type": "code",
   "execution_count": 45,
   "id": "19644f1f-41e8-4062-96d9-1546c15ffb9a",
   "metadata": {},
   "outputs": [
    {
     "data": {
      "text/html": [
       "<style>\n",
       ".list-inline {list-style: none; margin:0; padding: 0}\n",
       ".list-inline>li {display: inline-block}\n",
       ".list-inline>li:not(:last-child)::after {content: \"\\00b7\"; padding: 0 .5ex}\n",
       "</style>\n",
       "<ol class=list-inline><li>9</li><li>4</li><li>7</li><li>1</li></ol>\n"
      ],
      "text/latex": [
       "\\begin{enumerate*}\n",
       "\\item 9\n",
       "\\item 4\n",
       "\\item 7\n",
       "\\item 1\n",
       "\\end{enumerate*}\n"
      ],
      "text/markdown": [
       "1. 9\n",
       "2. 4\n",
       "3. 7\n",
       "4. 1\n",
       "\n",
       "\n"
      ],
      "text/plain": [
       "[1] 9 4 7 1"
      ]
     },
     "metadata": {},
     "output_type": "display_data"
    }
   ],
   "source": [
    "set.seed(0)\n",
    "sample(X,4)"
   ]
  },
  {
   "cell_type": "markdown",
   "id": "46c74455-c6bb-4a9d-ad00-2afb6dfdba02",
   "metadata": {},
   "source": [
    "Ahora lo haremos con porcentajes, para ello debemos usar la función sample de manera ingeniosa."
   ]
  },
  {
   "cell_type": "code",
   "execution_count": 44,
   "id": "861f81df-6c09-43d4-87c8-c01076b3ef3a",
   "metadata": {},
   "outputs": [
    {
     "data": {
      "text/html": [
       "10"
      ],
      "text/latex": [
       "10"
      ],
      "text/markdown": [
       "10"
      ],
      "text/plain": [
       "[1] 10"
      ]
     },
     "metadata": {},
     "output_type": "display_data"
    }
   ],
   "source": [
    "length(X) #entrega el largo del vector"
   ]
  },
  {
   "cell_type": "code",
   "execution_count": 46,
   "id": "ac5916d2-e125-4cc5-a8b2-d68f6c014aff",
   "metadata": {},
   "outputs": [
    {
     "data": {
      "text/html": [
       "3.7"
      ],
      "text/latex": [
       "3.7"
      ],
      "text/markdown": [
       "3.7"
      ],
      "text/plain": [
       "[1] 3.7"
      ]
     },
     "metadata": {},
     "output_type": "display_data"
    }
   ],
   "source": [
    "37*length(X)/100 # Corresponde a la cantidad de datos equivalentes al 35%"
   ]
  },
  {
   "cell_type": "code",
   "execution_count": 47,
   "id": "5ab3d0df-cde2-42a9-b6c7-35b7cba4ab9c",
   "metadata": {},
   "outputs": [
    {
     "data": {
      "text/html": [
       "<style>\n",
       ".list-inline {list-style: none; margin:0; padding: 0}\n",
       ".list-inline>li {display: inline-block}\n",
       ".list-inline>li:not(:last-child)::after {content: \"\\00b7\"; padding: 0 .5ex}\n",
       "</style>\n",
       "<ol class=list-inline><li>9</li><li>4</li><li>7</li></ol>\n"
      ],
      "text/latex": [
       "\\begin{enumerate*}\n",
       "\\item 9\n",
       "\\item 4\n",
       "\\item 7\n",
       "\\end{enumerate*}\n"
      ],
      "text/markdown": [
       "1. 9\n",
       "2. 4\n",
       "3. 7\n",
       "\n",
       "\n"
      ],
      "text/plain": [
       "[1] 9 4 7"
      ]
     },
     "metadata": {},
     "output_type": "display_data"
    }
   ],
   "source": [
    "set.seed(0)\n",
    "sample(X,37*length(X)/100)"
   ]
  },
  {
   "cell_type": "markdown",
   "id": "1d6fca32-1949-46a2-be0d-2a7a31724e8d",
   "metadata": {},
   "source": [
    "Note que por defecto trunca el resultado"
   ]
  },
  {
   "cell_type": "markdown",
   "id": "fd4afe83-4ad7-4cc4-b4f3-b93abad1cb79",
   "metadata": {},
   "source": [
    "Veamos como hacerlo en una base de datos"
   ]
  },
  {
   "cell_type": "code",
   "execution_count": 60,
   "id": "1df9e93d-af50-4096-862e-f1eab737639e",
   "metadata": {},
   "outputs": [
    {
     "data": {
      "text/html": [
       "<table class=\"dataframe\">\n",
       "<caption>A data.frame: 6 × 4</caption>\n",
       "<thead>\n",
       "\t<tr><th></th><th scope=col>Y</th><th scope=col>X1</th><th scope=col>X2</th><th scope=col>X3</th></tr>\n",
       "\t<tr><th></th><th scope=col>&lt;dbl&gt;</th><th scope=col>&lt;dbl&gt;</th><th scope=col>&lt;dbl&gt;</th><th scope=col>&lt;dbl&gt;</th></tr>\n",
       "</thead>\n",
       "<tbody>\n",
       "\t<tr><th scope=row>1</th><td>261.9792</td><td>23.78886</td><td>29.32720</td><td>15.273709</td></tr>\n",
       "\t<tr><th scope=row>2</th><td>241.7438</td><td>19.02130</td><td>31.13219</td><td>11.682238</td></tr>\n",
       "\t<tr><th scope=row>3</th><td>249.9436</td><td>23.98940</td><td>30.40001</td><td> 8.641648</td></tr>\n",
       "\t<tr><th scope=row>4</th><td>261.1872</td><td>23.81729</td><td>32.41257</td><td> 7.503870</td></tr>\n",
       "\t<tr><th scope=row>5</th><td>238.4335</td><td>21.24392</td><td>29.82868</td><td> 6.500288</td></tr>\n",
       "\t<tr><th scope=row>6</th><td>229.0059</td><td>15.38015</td><td>31.51082</td><td> 6.803228</td></tr>\n",
       "</tbody>\n",
       "</table>\n"
      ],
      "text/latex": [
       "A data.frame: 6 × 4\n",
       "\\begin{tabular}{r|llll}\n",
       "  & Y & X1 & X2 & X3\\\\\n",
       "  & <dbl> & <dbl> & <dbl> & <dbl>\\\\\n",
       "\\hline\n",
       "\t1 & 261.9792 & 23.78886 & 29.32720 & 15.273709\\\\\n",
       "\t2 & 241.7438 & 19.02130 & 31.13219 & 11.682238\\\\\n",
       "\t3 & 249.9436 & 23.98940 & 30.40001 &  8.641648\\\\\n",
       "\t4 & 261.1872 & 23.81729 & 32.41257 &  7.503870\\\\\n",
       "\t5 & 238.4335 & 21.24392 & 29.82868 &  6.500288\\\\\n",
       "\t6 & 229.0059 & 15.38015 & 31.51082 &  6.803228\\\\\n",
       "\\end{tabular}\n"
      ],
      "text/markdown": [
       "\n",
       "A data.frame: 6 × 4\n",
       "\n",
       "| <!--/--> | Y &lt;dbl&gt; | X1 &lt;dbl&gt; | X2 &lt;dbl&gt; | X3 &lt;dbl&gt; |\n",
       "|---|---|---|---|---|\n",
       "| 1 | 261.9792 | 23.78886 | 29.32720 | 15.273709 |\n",
       "| 2 | 241.7438 | 19.02130 | 31.13219 | 11.682238 |\n",
       "| 3 | 249.9436 | 23.98940 | 30.40001 |  8.641648 |\n",
       "| 4 | 261.1872 | 23.81729 | 32.41257 |  7.503870 |\n",
       "| 5 | 238.4335 | 21.24392 | 29.82868 |  6.500288 |\n",
       "| 6 | 229.0059 | 15.38015 | 31.51082 |  6.803228 |\n",
       "\n"
      ],
      "text/plain": [
       "  Y        X1       X2       X3       \n",
       "1 261.9792 23.78886 29.32720 15.273709\n",
       "2 241.7438 19.02130 31.13219 11.682238\n",
       "3 249.9436 23.98940 30.40001  8.641648\n",
       "4 261.1872 23.81729 32.41257  7.503870\n",
       "5 238.4335 21.24392 29.82868  6.500288\n",
       "6 229.0059 15.38015 31.51082  6.803228"
      ]
     },
     "metadata": {},
     "output_type": "display_data"
    },
    {
     "data": {
      "text/html": [
       "<table class=\"dataframe\">\n",
       "<caption>A data.frame: 20 × 5</caption>\n",
       "<thead>\n",
       "\t<tr><th scope=col>aux</th><th scope=col>Y</th><th scope=col>X1</th><th scope=col>X2</th><th scope=col>X3</th></tr>\n",
       "\t<tr><th scope=col>&lt;int&gt;</th><th scope=col>&lt;dbl&gt;</th><th scope=col>&lt;dbl&gt;</th><th scope=col>&lt;dbl&gt;</th><th scope=col>&lt;dbl&gt;</th></tr>\n",
       "</thead>\n",
       "<tbody>\n",
       "\t<tr><td> 1</td><td>261.9792</td><td>23.78886</td><td>29.32720</td><td>15.273709</td></tr>\n",
       "\t<tr><td> 2</td><td>241.7438</td><td>19.02130</td><td>31.13219</td><td>11.682238</td></tr>\n",
       "\t<tr><td> 3</td><td>249.9436</td><td>23.98940</td><td>30.40001</td><td> 8.641648</td></tr>\n",
       "\t<tr><td> 4</td><td>261.1872</td><td>23.81729</td><td>32.41257</td><td> 7.503870</td></tr>\n",
       "\t<tr><td> 5</td><td>238.4335</td><td>21.24392</td><td>29.82868</td><td> 6.500288</td></tr>\n",
       "\t<tr><td> 6</td><td>229.0059</td><td>15.38015</td><td>31.51082</td><td> 6.803228</td></tr>\n",
       "\t<tr><td> 7</td><td>222.7134</td><td>17.21430</td><td>33.25731</td><td> 5.308654</td></tr>\n",
       "\t<tr><td> 8</td><td>240.0179</td><td>19.11584</td><td>27.92714</td><td>13.469611</td></tr>\n",
       "\t<tr><td> 9</td><td>238.4562</td><td>19.98270</td><td>26.14620</td><td>12.496141</td></tr>\n",
       "\t<tr><td>10</td><td>272.5845</td><td>27.21396</td><td>30.14018</td><td> 9.318014</td></tr>\n",
       "\t<tr><td>11</td><td>251.1800</td><td>22.29078</td><td>29.29288</td><td>10.798412</td></tr>\n",
       "\t<tr><td>12</td><td>232.3889</td><td>17.60297</td><td>28.37134</td><td> 8.869892</td></tr>\n",
       "\t<tr><td>13</td><td>222.3354</td><td>16.55703</td><td>28.70007</td><td>17.324094</td></tr>\n",
       "\t<tr><td>14</td><td>233.7221</td><td>19.13162</td><td>28.05159</td><td> 7.613983</td></tr>\n",
       "\t<tr><td>15</td><td>250.3619</td><td>19.10235</td><td>32.18025</td><td> 9.835368</td></tr>\n",
       "\t<tr><td>16</td><td>256.2082</td><td>18.76547</td><td>33.45574</td><td>10.750424</td></tr>\n",
       "\t<tr><td>17</td><td>253.9738</td><td>20.75667</td><td>32.97648</td><td>11.854730</td></tr>\n",
       "\t<tr><td>18</td><td>228.3870</td><td>17.32424</td><td>28.71146</td><td> 9.482129</td></tr>\n",
       "\t<tr><td>19</td><td>244.5358</td><td>21.30705</td><td>33.71491</td><td> 3.328299</td></tr>\n",
       "\t<tr><td>20</td><td>210.9603</td><td>16.28738</td><td>29.16196</td><td> 6.209157</td></tr>\n",
       "</tbody>\n",
       "</table>\n"
      ],
      "text/latex": [
       "A data.frame: 20 × 5\n",
       "\\begin{tabular}{lllll}\n",
       " aux & Y & X1 & X2 & X3\\\\\n",
       " <int> & <dbl> & <dbl> & <dbl> & <dbl>\\\\\n",
       "\\hline\n",
       "\t  1 & 261.9792 & 23.78886 & 29.32720 & 15.273709\\\\\n",
       "\t  2 & 241.7438 & 19.02130 & 31.13219 & 11.682238\\\\\n",
       "\t  3 & 249.9436 & 23.98940 & 30.40001 &  8.641648\\\\\n",
       "\t  4 & 261.1872 & 23.81729 & 32.41257 &  7.503870\\\\\n",
       "\t  5 & 238.4335 & 21.24392 & 29.82868 &  6.500288\\\\\n",
       "\t  6 & 229.0059 & 15.38015 & 31.51082 &  6.803228\\\\\n",
       "\t  7 & 222.7134 & 17.21430 & 33.25731 &  5.308654\\\\\n",
       "\t  8 & 240.0179 & 19.11584 & 27.92714 & 13.469611\\\\\n",
       "\t  9 & 238.4562 & 19.98270 & 26.14620 & 12.496141\\\\\n",
       "\t 10 & 272.5845 & 27.21396 & 30.14018 &  9.318014\\\\\n",
       "\t 11 & 251.1800 & 22.29078 & 29.29288 & 10.798412\\\\\n",
       "\t 12 & 232.3889 & 17.60297 & 28.37134 &  8.869892\\\\\n",
       "\t 13 & 222.3354 & 16.55703 & 28.70007 & 17.324094\\\\\n",
       "\t 14 & 233.7221 & 19.13162 & 28.05159 &  7.613983\\\\\n",
       "\t 15 & 250.3619 & 19.10235 & 32.18025 &  9.835368\\\\\n",
       "\t 16 & 256.2082 & 18.76547 & 33.45574 & 10.750424\\\\\n",
       "\t 17 & 253.9738 & 20.75667 & 32.97648 & 11.854730\\\\\n",
       "\t 18 & 228.3870 & 17.32424 & 28.71146 &  9.482129\\\\\n",
       "\t 19 & 244.5358 & 21.30705 & 33.71491 &  3.328299\\\\\n",
       "\t 20 & 210.9603 & 16.28738 & 29.16196 &  6.209157\\\\\n",
       "\\end{tabular}\n"
      ],
      "text/markdown": [
       "\n",
       "A data.frame: 20 × 5\n",
       "\n",
       "| aux &lt;int&gt; | Y &lt;dbl&gt; | X1 &lt;dbl&gt; | X2 &lt;dbl&gt; | X3 &lt;dbl&gt; |\n",
       "|---|---|---|---|---|\n",
       "|  1 | 261.9792 | 23.78886 | 29.32720 | 15.273709 |\n",
       "|  2 | 241.7438 | 19.02130 | 31.13219 | 11.682238 |\n",
       "|  3 | 249.9436 | 23.98940 | 30.40001 |  8.641648 |\n",
       "|  4 | 261.1872 | 23.81729 | 32.41257 |  7.503870 |\n",
       "|  5 | 238.4335 | 21.24392 | 29.82868 |  6.500288 |\n",
       "|  6 | 229.0059 | 15.38015 | 31.51082 |  6.803228 |\n",
       "|  7 | 222.7134 | 17.21430 | 33.25731 |  5.308654 |\n",
       "|  8 | 240.0179 | 19.11584 | 27.92714 | 13.469611 |\n",
       "|  9 | 238.4562 | 19.98270 | 26.14620 | 12.496141 |\n",
       "| 10 | 272.5845 | 27.21396 | 30.14018 |  9.318014 |\n",
       "| 11 | 251.1800 | 22.29078 | 29.29288 | 10.798412 |\n",
       "| 12 | 232.3889 | 17.60297 | 28.37134 |  8.869892 |\n",
       "| 13 | 222.3354 | 16.55703 | 28.70007 | 17.324094 |\n",
       "| 14 | 233.7221 | 19.13162 | 28.05159 |  7.613983 |\n",
       "| 15 | 250.3619 | 19.10235 | 32.18025 |  9.835368 |\n",
       "| 16 | 256.2082 | 18.76547 | 33.45574 | 10.750424 |\n",
       "| 17 | 253.9738 | 20.75667 | 32.97648 | 11.854730 |\n",
       "| 18 | 228.3870 | 17.32424 | 28.71146 |  9.482129 |\n",
       "| 19 | 244.5358 | 21.30705 | 33.71491 |  3.328299 |\n",
       "| 20 | 210.9603 | 16.28738 | 29.16196 |  6.209157 |\n",
       "\n"
      ],
      "text/plain": [
       "   aux Y        X1       X2       X3       \n",
       "1   1  261.9792 23.78886 29.32720 15.273709\n",
       "2   2  241.7438 19.02130 31.13219 11.682238\n",
       "3   3  249.9436 23.98940 30.40001  8.641648\n",
       "4   4  261.1872 23.81729 32.41257  7.503870\n",
       "5   5  238.4335 21.24392 29.82868  6.500288\n",
       "6   6  229.0059 15.38015 31.51082  6.803228\n",
       "7   7  222.7134 17.21430 33.25731  5.308654\n",
       "8   8  240.0179 19.11584 27.92714 13.469611\n",
       "9   9  238.4562 19.98270 26.14620 12.496141\n",
       "10 10  272.5845 27.21396 30.14018  9.318014\n",
       "11 11  251.1800 22.29078 29.29288 10.798412\n",
       "12 12  232.3889 17.60297 28.37134  8.869892\n",
       "13 13  222.3354 16.55703 28.70007 17.324094\n",
       "14 14  233.7221 19.13162 28.05159  7.613983\n",
       "15 15  250.3619 19.10235 32.18025  9.835368\n",
       "16 16  256.2082 18.76547 33.45574 10.750424\n",
       "17 17  253.9738 20.75667 32.97648 11.854730\n",
       "18 18  228.3870 17.32424 28.71146  9.482129\n",
       "19 19  244.5358 21.30705 33.71491  3.328299\n",
       "20 20  210.9603 16.28738 29.16196  6.209157"
      ]
     },
     "metadata": {},
     "output_type": "display_data"
    }
   ],
   "source": [
    "head(df)\n",
    "dfaux=cbind(aux=seq(1,dim(df)[1]),df)\n",
    "dfaux"
   ]
  },
  {
   "cell_type": "code",
   "execution_count": 85,
   "id": "c3571517-4f8e-4c5b-ba06-2f17a9b7e32b",
   "metadata": {},
   "outputs": [
    {
     "data": {
      "text/html": [
       "<style>\n",
       ".list-inline {list-style: none; margin:0; padding: 0}\n",
       ".list-inline>li {display: inline-block}\n",
       ".list-inline>li:not(:last-child)::after {content: \"\\00b7\"; padding: 0 .5ex}\n",
       "</style>\n",
       "<ol class=list-inline><li>6</li><li>8</li></ol>\n"
      ],
      "text/latex": [
       "\\begin{enumerate*}\n",
       "\\item 6\n",
       "\\item 8\n",
       "\\end{enumerate*}\n"
      ],
      "text/markdown": [
       "1. 6\n",
       "2. 8\n",
       "\n",
       "\n"
      ],
      "text/plain": [
       "[1] 6 8"
      ]
     },
     "metadata": {},
     "output_type": "display_data"
    }
   ],
   "source": [
    "m.a.=sample(dfaux$aux,2)\n",
    "m.a."
   ]
  },
  {
   "cell_type": "code",
   "execution_count": 86,
   "id": "4f44b200-4b52-4344-969d-824cdc703086",
   "metadata": {},
   "outputs": [
    {
     "data": {
      "text/html": [
       "<table class=\"dataframe\">\n",
       "<caption>A data.frame: 2 × 5</caption>\n",
       "<thead>\n",
       "\t<tr><th></th><th scope=col>aux</th><th scope=col>Y</th><th scope=col>X1</th><th scope=col>X2</th><th scope=col>X3</th></tr>\n",
       "\t<tr><th></th><th scope=col>&lt;int&gt;</th><th scope=col>&lt;dbl&gt;</th><th scope=col>&lt;dbl&gt;</th><th scope=col>&lt;dbl&gt;</th><th scope=col>&lt;dbl&gt;</th></tr>\n",
       "</thead>\n",
       "<tbody>\n",
       "\t<tr><th scope=row>6</th><td>6</td><td>229.0059</td><td>15.38015</td><td>31.51082</td><td> 6.803228</td></tr>\n",
       "\t<tr><th scope=row>8</th><td>8</td><td>240.0179</td><td>19.11584</td><td>27.92714</td><td>13.469611</td></tr>\n",
       "</tbody>\n",
       "</table>\n"
      ],
      "text/latex": [
       "A data.frame: 2 × 5\n",
       "\\begin{tabular}{r|lllll}\n",
       "  & aux & Y & X1 & X2 & X3\\\\\n",
       "  & <int> & <dbl> & <dbl> & <dbl> & <dbl>\\\\\n",
       "\\hline\n",
       "\t6 & 6 & 229.0059 & 15.38015 & 31.51082 &  6.803228\\\\\n",
       "\t8 & 8 & 240.0179 & 19.11584 & 27.92714 & 13.469611\\\\\n",
       "\\end{tabular}\n"
      ],
      "text/markdown": [
       "\n",
       "A data.frame: 2 × 5\n",
       "\n",
       "| <!--/--> | aux &lt;int&gt; | Y &lt;dbl&gt; | X1 &lt;dbl&gt; | X2 &lt;dbl&gt; | X3 &lt;dbl&gt; |\n",
       "|---|---|---|---|---|---|\n",
       "| 6 | 6 | 229.0059 | 15.38015 | 31.51082 |  6.803228 |\n",
       "| 8 | 8 | 240.0179 | 19.11584 | 27.92714 | 13.469611 |\n",
       "\n"
      ],
      "text/plain": [
       "  aux Y        X1       X2       X3       \n",
       "6 6   229.0059 15.38015 31.51082  6.803228\n",
       "8 8   240.0179 19.11584 27.92714 13.469611"
      ]
     },
     "metadata": {},
     "output_type": "display_data"
    }
   ],
   "source": [
    "subset(dfaux,aux %in% m.a.)"
   ]
  },
  {
   "cell_type": "code",
   "execution_count": 50,
   "id": "d60786a2-7ccb-40cc-b098-42d3382a0f34",
   "metadata": {},
   "outputs": [
    {
     "data": {
      "text/html": [
       "<table class=\"dataframe\">\n",
       "<caption>A data.frame: 20 × 5</caption>\n",
       "<thead>\n",
       "\t<tr><th scope=col>aux</th><th scope=col>Y</th><th scope=col>X1</th><th scope=col>X2</th><th scope=col>X3</th></tr>\n",
       "\t<tr><th scope=col>&lt;int&gt;</th><th scope=col>&lt;dbl&gt;</th><th scope=col>&lt;dbl&gt;</th><th scope=col>&lt;dbl&gt;</th><th scope=col>&lt;dbl&gt;</th></tr>\n",
       "</thead>\n",
       "<tbody>\n",
       "\t<tr><td>1</td><td>261.9792</td><td>23.78886</td><td>29.32720</td><td>15.273709</td></tr>\n",
       "\t<tr><td>0</td><td>241.7438</td><td>19.02130</td><td>31.13219</td><td>11.682238</td></tr>\n",
       "\t<tr><td>1</td><td>249.9436</td><td>23.98940</td><td>30.40001</td><td> 8.641648</td></tr>\n",
       "\t<tr><td>0</td><td>261.1872</td><td>23.81729</td><td>32.41257</td><td> 7.503870</td></tr>\n",
       "\t<tr><td>1</td><td>238.4335</td><td>21.24392</td><td>29.82868</td><td> 6.500288</td></tr>\n",
       "\t<tr><td>0</td><td>229.0059</td><td>15.38015</td><td>31.51082</td><td> 6.803228</td></tr>\n",
       "\t<tr><td>1</td><td>222.7134</td><td>17.21430</td><td>33.25731</td><td> 5.308654</td></tr>\n",
       "\t<tr><td>0</td><td>240.0179</td><td>19.11584</td><td>27.92714</td><td>13.469611</td></tr>\n",
       "\t<tr><td>1</td><td>238.4562</td><td>19.98270</td><td>26.14620</td><td>12.496141</td></tr>\n",
       "\t<tr><td>0</td><td>272.5845</td><td>27.21396</td><td>30.14018</td><td> 9.318014</td></tr>\n",
       "\t<tr><td>1</td><td>251.1800</td><td>22.29078</td><td>29.29288</td><td>10.798412</td></tr>\n",
       "\t<tr><td>0</td><td>232.3889</td><td>17.60297</td><td>28.37134</td><td> 8.869892</td></tr>\n",
       "\t<tr><td>1</td><td>222.3354</td><td>16.55703</td><td>28.70007</td><td>17.324094</td></tr>\n",
       "\t<tr><td>0</td><td>233.7221</td><td>19.13162</td><td>28.05159</td><td> 7.613983</td></tr>\n",
       "\t<tr><td>1</td><td>250.3619</td><td>19.10235</td><td>32.18025</td><td> 9.835368</td></tr>\n",
       "\t<tr><td>0</td><td>256.2082</td><td>18.76547</td><td>33.45574</td><td>10.750424</td></tr>\n",
       "\t<tr><td>1</td><td>253.9738</td><td>20.75667</td><td>32.97648</td><td>11.854730</td></tr>\n",
       "\t<tr><td>0</td><td>228.3870</td><td>17.32424</td><td>28.71146</td><td> 9.482129</td></tr>\n",
       "\t<tr><td>1</td><td>244.5358</td><td>21.30705</td><td>33.71491</td><td> 3.328299</td></tr>\n",
       "\t<tr><td>0</td><td>210.9603</td><td>16.28738</td><td>29.16196</td><td> 6.209157</td></tr>\n",
       "</tbody>\n",
       "</table>\n"
      ],
      "text/latex": [
       "A data.frame: 20 × 5\n",
       "\\begin{tabular}{lllll}\n",
       " aux & Y & X1 & X2 & X3\\\\\n",
       " <int> & <dbl> & <dbl> & <dbl> & <dbl>\\\\\n",
       "\\hline\n",
       "\t 1 & 261.9792 & 23.78886 & 29.32720 & 15.273709\\\\\n",
       "\t 0 & 241.7438 & 19.02130 & 31.13219 & 11.682238\\\\\n",
       "\t 1 & 249.9436 & 23.98940 & 30.40001 &  8.641648\\\\\n",
       "\t 0 & 261.1872 & 23.81729 & 32.41257 &  7.503870\\\\\n",
       "\t 1 & 238.4335 & 21.24392 & 29.82868 &  6.500288\\\\\n",
       "\t 0 & 229.0059 & 15.38015 & 31.51082 &  6.803228\\\\\n",
       "\t 1 & 222.7134 & 17.21430 & 33.25731 &  5.308654\\\\\n",
       "\t 0 & 240.0179 & 19.11584 & 27.92714 & 13.469611\\\\\n",
       "\t 1 & 238.4562 & 19.98270 & 26.14620 & 12.496141\\\\\n",
       "\t 0 & 272.5845 & 27.21396 & 30.14018 &  9.318014\\\\\n",
       "\t 1 & 251.1800 & 22.29078 & 29.29288 & 10.798412\\\\\n",
       "\t 0 & 232.3889 & 17.60297 & 28.37134 &  8.869892\\\\\n",
       "\t 1 & 222.3354 & 16.55703 & 28.70007 & 17.324094\\\\\n",
       "\t 0 & 233.7221 & 19.13162 & 28.05159 &  7.613983\\\\\n",
       "\t 1 & 250.3619 & 19.10235 & 32.18025 &  9.835368\\\\\n",
       "\t 0 & 256.2082 & 18.76547 & 33.45574 & 10.750424\\\\\n",
       "\t 1 & 253.9738 & 20.75667 & 32.97648 & 11.854730\\\\\n",
       "\t 0 & 228.3870 & 17.32424 & 28.71146 &  9.482129\\\\\n",
       "\t 1 & 244.5358 & 21.30705 & 33.71491 &  3.328299\\\\\n",
       "\t 0 & 210.9603 & 16.28738 & 29.16196 &  6.209157\\\\\n",
       "\\end{tabular}\n"
      ],
      "text/markdown": [
       "\n",
       "A data.frame: 20 × 5\n",
       "\n",
       "| aux &lt;int&gt; | Y &lt;dbl&gt; | X1 &lt;dbl&gt; | X2 &lt;dbl&gt; | X3 &lt;dbl&gt; |\n",
       "|---|---|---|---|---|\n",
       "| 1 | 261.9792 | 23.78886 | 29.32720 | 15.273709 |\n",
       "| 0 | 241.7438 | 19.02130 | 31.13219 | 11.682238 |\n",
       "| 1 | 249.9436 | 23.98940 | 30.40001 |  8.641648 |\n",
       "| 0 | 261.1872 | 23.81729 | 32.41257 |  7.503870 |\n",
       "| 1 | 238.4335 | 21.24392 | 29.82868 |  6.500288 |\n",
       "| 0 | 229.0059 | 15.38015 | 31.51082 |  6.803228 |\n",
       "| 1 | 222.7134 | 17.21430 | 33.25731 |  5.308654 |\n",
       "| 0 | 240.0179 | 19.11584 | 27.92714 | 13.469611 |\n",
       "| 1 | 238.4562 | 19.98270 | 26.14620 | 12.496141 |\n",
       "| 0 | 272.5845 | 27.21396 | 30.14018 |  9.318014 |\n",
       "| 1 | 251.1800 | 22.29078 | 29.29288 | 10.798412 |\n",
       "| 0 | 232.3889 | 17.60297 | 28.37134 |  8.869892 |\n",
       "| 1 | 222.3354 | 16.55703 | 28.70007 | 17.324094 |\n",
       "| 0 | 233.7221 | 19.13162 | 28.05159 |  7.613983 |\n",
       "| 1 | 250.3619 | 19.10235 | 32.18025 |  9.835368 |\n",
       "| 0 | 256.2082 | 18.76547 | 33.45574 | 10.750424 |\n",
       "| 1 | 253.9738 | 20.75667 | 32.97648 | 11.854730 |\n",
       "| 0 | 228.3870 | 17.32424 | 28.71146 |  9.482129 |\n",
       "| 1 | 244.5358 | 21.30705 | 33.71491 |  3.328299 |\n",
       "| 0 | 210.9603 | 16.28738 | 29.16196 |  6.209157 |\n",
       "\n"
      ],
      "text/plain": [
       "   aux Y        X1       X2       X3       \n",
       "1  1   261.9792 23.78886 29.32720 15.273709\n",
       "2  0   241.7438 19.02130 31.13219 11.682238\n",
       "3  1   249.9436 23.98940 30.40001  8.641648\n",
       "4  0   261.1872 23.81729 32.41257  7.503870\n",
       "5  1   238.4335 21.24392 29.82868  6.500288\n",
       "6  0   229.0059 15.38015 31.51082  6.803228\n",
       "7  1   222.7134 17.21430 33.25731  5.308654\n",
       "8  0   240.0179 19.11584 27.92714 13.469611\n",
       "9  1   238.4562 19.98270 26.14620 12.496141\n",
       "10 0   272.5845 27.21396 30.14018  9.318014\n",
       "11 1   251.1800 22.29078 29.29288 10.798412\n",
       "12 0   232.3889 17.60297 28.37134  8.869892\n",
       "13 1   222.3354 16.55703 28.70007 17.324094\n",
       "14 0   233.7221 19.13162 28.05159  7.613983\n",
       "15 1   250.3619 19.10235 32.18025  9.835368\n",
       "16 0   256.2082 18.76547 33.45574 10.750424\n",
       "17 1   253.9738 20.75667 32.97648 11.854730\n",
       "18 0   228.3870 17.32424 28.71146  9.482129\n",
       "19 1   244.5358 21.30705 33.71491  3.328299\n",
       "20 0   210.9603 16.28738 29.16196  6.209157"
      ]
     },
     "metadata": {},
     "output_type": "display_data"
    }
   ],
   "source": [
    "dfaux"
   ]
  },
  {
   "cell_type": "code",
   "execution_count": 55,
   "id": "05ac312d-36d3-42de-8bf1-9f1f1782ab14",
   "metadata": {},
   "outputs": [
    {
     "data": {
      "text/html": [
       "<style>\n",
       ".list-inline {list-style: none; margin:0; padding: 0}\n",
       ".list-inline>li {display: inline-block}\n",
       ".list-inline>li:not(:last-child)::after {content: \"\\00b7\"; padding: 0 .5ex}\n",
       "</style>\n",
       "<ol class=list-inline><li>20</li><li>4</li></ol>\n"
      ],
      "text/latex": [
       "\\begin{enumerate*}\n",
       "\\item 20\n",
       "\\item 4\n",
       "\\end{enumerate*}\n"
      ],
      "text/markdown": [
       "1. 20\n",
       "2. 4\n",
       "\n",
       "\n"
      ],
      "text/plain": [
       "[1] 20  4"
      ]
     },
     "metadata": {},
     "output_type": "display_data"
    }
   ],
   "source": [
    "\n",
    "dim(df)"
   ]
  },
  {
   "cell_type": "markdown",
   "id": "8e17f0f1-e2fa-4383-9ea5-7af2a0707ee9",
   "metadata": {},
   "source": [
    "Procedemos a hacer una Cross Validation con 80 20"
   ]
  },
  {
   "cell_type": "code",
   "execution_count": 58,
   "id": "c8b51734-7fc4-4d3a-afd0-01f97c108033",
   "metadata": {},
   "outputs": [
    {
     "data": {
      "text/html": [
       "<style>\n",
       ".list-inline {list-style: none; margin:0; padding: 0}\n",
       ".list-inline>li {display: inline-block}\n",
       ".list-inline>li:not(:last-child)::after {content: \"\\00b7\"; padding: 0 .5ex}\n",
       "</style>\n",
       "<ol class=list-inline><li>1</li><li>2</li><li>3</li><li>4</li><li>5</li><li>6</li><li>7</li><li>8</li><li>9</li><li>10</li><li>11</li><li>12</li><li>13</li><li>14</li><li>15</li><li>16</li><li>17</li><li>18</li><li>19</li><li>20</li></ol>\n"
      ],
      "text/latex": [
       "\\begin{enumerate*}\n",
       "\\item 1\n",
       "\\item 2\n",
       "\\item 3\n",
       "\\item 4\n",
       "\\item 5\n",
       "\\item 6\n",
       "\\item 7\n",
       "\\item 8\n",
       "\\item 9\n",
       "\\item 10\n",
       "\\item 11\n",
       "\\item 12\n",
       "\\item 13\n",
       "\\item 14\n",
       "\\item 15\n",
       "\\item 16\n",
       "\\item 17\n",
       "\\item 18\n",
       "\\item 19\n",
       "\\item 20\n",
       "\\end{enumerate*}\n"
      ],
      "text/markdown": [
       "1. 1\n",
       "2. 2\n",
       "3. 3\n",
       "4. 4\n",
       "5. 5\n",
       "6. 6\n",
       "7. 7\n",
       "8. 8\n",
       "9. 9\n",
       "10. 10\n",
       "11. 11\n",
       "12. 12\n",
       "13. 13\n",
       "14. 14\n",
       "15. 15\n",
       "16. 16\n",
       "17. 17\n",
       "18. 18\n",
       "19. 19\n",
       "20. 20\n",
       "\n",
       "\n"
      ],
      "text/plain": [
       " [1]  1  2  3  4  5  6  7  8  9 10 11 12 13 14 15 16 17 18 19 20"
      ]
     },
     "metadata": {},
     "output_type": "display_data"
    }
   ],
   "source": []
  },
  {
   "cell_type": "code",
   "execution_count": 104,
   "id": "5f3a3d16-f8ba-4276-9fb6-5cdc458c19b7",
   "metadata": {},
   "outputs": [],
   "source": [
    "# trabajaremos en una muestra 80-20\n",
    "dfaux=cbind(aux=seq(1,dim(df)[1]),df)\n",
    "#head(dfaux)\n",
    "p.train= 80*dim(df)[1]/100\n",
    "set.seed(0)\n",
    "m.a.=sample(dfaux$aux,p.train)\n",
    "df.train=subset(dfaux,aux %in% m.a.)\n",
    "df.test= subset(dfaux,!(aux %in% m.a.))"
   ]
  },
  {
   "cell_type": "code",
   "execution_count": 106,
   "id": "19d4b494-d7b7-4e8d-9f5e-98279fb50556",
   "metadata": {},
   "outputs": [],
   "source": [
    "reg1.train=lm(Y~X1+X2+X3,df.train)\n",
    "reg2.train=lm(Y~0+X1+X2+X3,df.train)"
   ]
  },
  {
   "cell_type": "code",
   "execution_count": 111,
   "id": "bcaefda2-c52a-4583-9c58-3dbf6f4ad36b",
   "metadata": {
    "scrolled": true
   },
   "outputs": [
    {
     "data": {
      "text/html": [
       "169.815809021987"
      ],
      "text/latex": [
       "169.815809021987"
      ],
      "text/markdown": [
       "169.815809021987"
      ],
      "text/plain": [
       "[1] 169.8158"
      ]
     },
     "metadata": {},
     "output_type": "display_data"
    }
   ],
   "source": [
    "predic=predict(reg1.train,newdata = df.test)\n",
    "real=df.test$Y\n",
    "sum((predic-real)^2)"
   ]
  },
  {
   "cell_type": "code",
   "execution_count": 138,
   "id": "ab5c0ea0-6b71-4275-865c-01f87a5d4464",
   "metadata": {},
   "outputs": [
    {
     "data": {
      "text/html": [
       "-0.896914546624981"
      ],
      "text/latex": [
       "-0.896914546624981"
      ],
      "text/markdown": [
       "-0.896914546624981"
      ],
      "text/plain": [
       "[1] -0.8969145"
      ]
     },
     "metadata": {},
     "output_type": "display_data"
    }
   ],
   "source": [
    "set.seed(2)\n",
    "rnorm(1)"
   ]
  },
  {
   "cell_type": "code",
   "execution_count": 113,
   "id": "b7125e29-2973-434c-943e-64e7c711681c",
   "metadata": {},
   "outputs": [
    {
     "data": {
      "text/html": [
       "219.235687819949"
      ],
      "text/latex": [
       "219.235687819949"
      ],
      "text/markdown": [
       "219.235687819949"
      ],
      "text/plain": [
       "[1] 219.2357"
      ]
     },
     "metadata": {},
     "output_type": "display_data"
    }
   ],
   "source": [
    "predic=predict(reg2.train,newdata = df.test)\n",
    "real=df.test$Y\n",
    "sum((predic-real)^2)"
   ]
  },
  {
   "cell_type": "code",
   "execution_count": 145,
   "id": "50a46fe7-9834-490b-ac32-d1769f827158",
   "metadata": {},
   "outputs": [],
   "source": [
    "#Vamos a repetir esto 10 veces\n",
    "dfaux=cbind(aux=seq(1,dim(df)[1]),df)\n",
    "ciclo=1000\n",
    "pct=70\n",
    "error_mod_1=c()\n",
    "error_mod_2=c()\n",
    "for (i in seq(1,ciclo)){\n",
    "    set.seed(i)\n",
    "    p.train= pct*dim(df)[1]/100\n",
    "    m.a.=sample(dfaux$aux,p.train)\n",
    "    df.train=subset(dfaux,aux %in% m.a.)\n",
    "    df.test= subset(dfaux,!(aux %in% m.a.))\n",
    "    real=df.test$Y\n",
    "    reg1.train=lm(Y~X1+X2+X3,df.train)\n",
    "    reg2.train=lm(Y~0+X1+X2+X3,df.train)\n",
    "    predic1=predict(reg1.train,newdata = df.test)    \n",
    "    error_mod_1=c(error_mod_1,sum((predic1-real)^2))\n",
    "    predic2=predict(reg2.train,newdata = df.test)\n",
    "    error_mod_2=c(error_mod_2,sum((predic2-real)^2))\n",
    "}"
   ]
  },
  {
   "cell_type": "code",
   "execution_count": 146,
   "id": "bc1ee9d8-ff48-4685-85dd-785763616005",
   "metadata": {},
   "outputs": [
    {
     "data": {
      "text/html": [
       "388.339222722843"
      ],
      "text/latex": [
       "388.339222722843"
      ],
      "text/markdown": [
       "388.339222722843"
      ],
      "text/plain": [
       "[1] 388.3392"
      ]
     },
     "metadata": {},
     "output_type": "display_data"
    },
    {
     "data": {
      "text/html": [
       "472.122672669277"
      ],
      "text/latex": [
       "472.122672669277"
      ],
      "text/markdown": [
       "472.122672669277"
      ],
      "text/plain": [
       "[1] 472.1227"
      ]
     },
     "metadata": {},
     "output_type": "display_data"
    }
   ],
   "source": [
    "sum(error_mod_1)/ciclo\n",
    "sum(error_mod_2)/ciclo"
   ]
  },
  {
   "cell_type": "code",
   "execution_count": null,
   "id": "f0fca871-f548-47eb-b905-1b8a48ce0b54",
   "metadata": {},
   "outputs": [],
   "source": []
  }
 ],
 "metadata": {
  "kernelspec": {
   "display_name": "R",
   "language": "R",
   "name": "ir"
  },
  "language_info": {
   "codemirror_mode": "r",
   "file_extension": ".r",
   "mimetype": "text/x-r-source",
   "name": "R",
   "pygments_lexer": "r",
   "version": "4.3.3"
  }
 },
 "nbformat": 4,
 "nbformat_minor": 5
}
