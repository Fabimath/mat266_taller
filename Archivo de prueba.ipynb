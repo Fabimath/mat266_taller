{
 "cells": [
  {
   "cell_type": "markdown",
   "id": "a2a78317-d003-4f05-aa05-42273b5ca00b",
   "metadata": {},
   "source": [
    "# Este es mi archivo de prueba\n",
    "Este formato admite LaTeX\n",
    "$$\n",
    "\\int_0^2 f(x)dx\n",
    "$$"
   ]
  },
  {
   "cell_type": "code",
   "execution_count": 1,
   "id": "d8efca08-7a6e-43d6-8a03-f66a47725298",
   "metadata": {},
   "outputs": [
    {
     "name": "stdout",
     "output_type": "stream",
     "text": [
      "[1] \"hola mundo\"\n"
     ]
    }
   ],
   "source": [
    "print('hola mundo')"
   ]
  }
 ],
 "metadata": {
  "kernelspec": {
   "display_name": "R",
   "language": "R",
   "name": "ir"
  },
  "language_info": {
   "codemirror_mode": "r",
   "file_extension": ".r",
   "mimetype": "text/x-r-source",
   "name": "R",
   "pygments_lexer": "r",
   "version": "4.3.3"
  }
 },
 "nbformat": 4,
 "nbformat_minor": 5
}
