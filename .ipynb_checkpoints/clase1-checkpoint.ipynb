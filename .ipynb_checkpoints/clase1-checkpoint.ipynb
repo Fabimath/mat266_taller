{
 "cells": [
  {
   "cell_type": "markdown",
   "id": "87c38811-19df-4dc7-8f24-3b76b3d992c0",
   "metadata": {},
   "source": [
    "# Taller MAT266 - Análisis de Regresión\n",
    "## Clase 1, Modelos de regresión lineal multiple y sus interpretaciones"
   ]
  },
  {
   "cell_type": "code",
   "execution_count": 253,
   "id": "aea4eb51-13a8-4322-aef5-a150aaea8c0e",
   "metadata": {},
   "outputs": [
    {
     "data": {
      "text/html": [
       "<table class=\"dataframe\">\n",
       "<caption>A data.frame: 6 × 2</caption>\n",
       "<thead>\n",
       "\t<tr><th></th><th scope=col>Temperatura</th><th scope=col>Distancia.alejada.del.reactor</th></tr>\n",
       "\t<tr><th></th><th scope=col>&lt;dbl&gt;</th><th scope=col>&lt;dbl&gt;</th></tr>\n",
       "</thead>\n",
       "<tbody>\n",
       "\t<tr><th scope=row>1</th><td>  9.154422</td><td>0.1840366</td></tr>\n",
       "\t<tr><th scope=row>2</th><td> 11.442383</td><td>0.1457067</td></tr>\n",
       "\t<tr><th scope=row>3</th><td>  8.297371</td><td>0.1397953</td></tr>\n",
       "\t<tr><th scope=row>4</th><td>  4.937557</td><td>0.4360686</td></tr>\n",
       "\t<tr><th scope=row>5</th><td>-42.893634</td><td>2.8949685</td></tr>\n",
       "\t<tr><th scope=row>6</th><td>  2.192240</td><td>1.2295621</td></tr>\n",
       "</tbody>\n",
       "</table>\n"
      ],
      "text/latex": [
       "A data.frame: 6 × 2\n",
       "\\begin{tabular}{r|ll}\n",
       "  & Temperatura & Distancia.alejada.del.reactor\\\\\n",
       "  & <dbl> & <dbl>\\\\\n",
       "\\hline\n",
       "\t1 &   9.154422 & 0.1840366\\\\\n",
       "\t2 &  11.442383 & 0.1457067\\\\\n",
       "\t3 &   8.297371 & 0.1397953\\\\\n",
       "\t4 &   4.937557 & 0.4360686\\\\\n",
       "\t5 & -42.893634 & 2.8949685\\\\\n",
       "\t6 &   2.192240 & 1.2295621\\\\\n",
       "\\end{tabular}\n"
      ],
      "text/markdown": [
       "\n",
       "A data.frame: 6 × 2\n",
       "\n",
       "| <!--/--> | Temperatura &lt;dbl&gt; | Distancia.alejada.del.reactor &lt;dbl&gt; |\n",
       "|---|---|---|\n",
       "| 1 |   9.154422 | 0.1840366 |\n",
       "| 2 |  11.442383 | 0.1457067 |\n",
       "| 3 |   8.297371 | 0.1397953 |\n",
       "| 4 |   4.937557 | 0.4360686 |\n",
       "| 5 | -42.893634 | 2.8949685 |\n",
       "| 6 |   2.192240 | 1.2295621 |\n",
       "\n"
      ],
      "text/plain": [
       "  Temperatura Distancia.alejada.del.reactor\n",
       "1   9.154422  0.1840366                    \n",
       "2  11.442383  0.1457067                    \n",
       "3   8.297371  0.1397953                    \n",
       "4   4.937557  0.4360686                    \n",
       "5 -42.893634  2.8949685                    \n",
       "6   2.192240  1.2295621                    "
      ]
     },
     "metadata": {},
     "output_type": "display_data"
    },
    {
     "data": {
      "text/plain": [
       "  Temperatura       Distancia.alejada.del.reactor\n",
       " Min.   :-162.734   Min.   :0.03727              \n",
       " 1st Qu.:   2.953   1st Qu.:0.34590              \n",
       " Median :   6.381   Median :0.80877              \n",
       " Mean   :  -1.156   Mean   :1.03215              \n",
       " 3rd Qu.:   8.248   3rd Qu.:1.29248              \n",
       " Max.   :  15.878   Max.   :4.83281              "
      ]
     },
     "metadata": {},
     "output_type": "display_data"
    },
    {
     "data": {
      "image/png": "[encoded data removed]",
      "text/plain": [
       "plot without title"
      ]
     },
     "metadata": {
      "image/png": {
       "height": 420,
       "width": 420
      }
     },
     "output_type": "display_data"
    }
   ],
   "source": [
    "data = read.csv('https://raw.githubusercontent.com/Fabimath/mat266_taller/main/data_base/temperaturas.csv')\n",
    "head(data)\n",
    "summary(data)\n",
    "plot(data)"
   ]
  },
  {
   "cell_type": "markdown",
   "id": "cb0d0569-5e14-4e07-86f8-c040708a1c19",
   "metadata": {},
   "source": [
    "Ajustar una función no se ve razonable en esta estructura, re-definamos las variables"
   ]
  },
  {
   "cell_type": "code",
   "execution_count": 254,
   "id": "29b38ee6-4469-42b6-b91c-cce2b8f38ef2",
   "metadata": {},
   "outputs": [
    {
     "data": {
      "image/png": "[encoded data removed]",
      "text/plain": [
       "plot without title"
      ]
     },
     "metadata": {
      "image/png": {
       "height": 420,
       "width": 420
      }
     },
     "output_type": "display_data"
    }
   ],
   "source": [
    "X=data$Distancia.alejada.del.reactor\n",
    "Y=data$Temperatura\n",
    "plot(X,Y)"
   ]
  },
  {
   "cell_type": "markdown",
   "id": "00927eb9-45df-4603-8b67-bf40672edfca",
   "metadata": {},
   "source": [
    "Para esta estructura 'parece un poco mas razonable', intentemos ver algunos estadísticos y probemos hacer una regresión"
   ]
  },
  {
   "cell_type": "code",
   "execution_count": 255,
   "id": "9c1caaf8-9c2f-4eb6-94c8-7d259fd250ec",
   "metadata": {},
   "outputs": [
    {
     "data": {
      "text/html": [
       "-0.84745195752072"
      ],
      "text/latex": [
       "-0.84745195752072"
      ],
      "text/markdown": [
       "-0.84745195752072"
      ],
      "text/plain": [
       "[1] -0.847452"
      ]
     },
     "metadata": {},
     "output_type": "display_data"
    }
   ],
   "source": [
    "cor(X,Y)"
   ]
  },
  {
   "cell_type": "code",
   "execution_count": 256,
   "id": "29de4107-cf18-43cd-895b-d83ffdc3e7e2",
   "metadata": {
    "scrolled": true
   },
   "outputs": [
    {
     "data": {
      "text/plain": [
       "\n",
       "Call:\n",
       "lm(formula = Y ~ X)\n",
       "\n",
       "Residuals:\n",
       "    Min      1Q  Median      3Q     Max \n",
       "-71.319  -9.021   3.536  10.670  18.645 \n",
       "\n",
       "Coefficients:\n",
       "            Estimate Std. Error t value Pr(>|t|)    \n",
       "(Intercept)   23.355      2.097   11.14   <2e-16 ***\n",
       "X            -23.748      1.503  -15.80   <2e-16 ***\n",
       "---\n",
       "Signif. codes:  0 '***' 0.001 '**' 0.01 '*' 0.05 '.' 0.1 ' ' 1\n",
       "\n",
       "Residual standard error: 14.11 on 98 degrees of freedom\n",
       "Multiple R-squared:  0.7182,\tAdjusted R-squared:  0.7153 \n",
       "F-statistic: 249.7 on 1 and 98 DF,  p-value: < 2.2e-16\n"
      ]
     },
     "metadata": {},
     "output_type": "display_data"
    },
    {
     "data": {
      "text/plain": [
       "\n",
       "\tShapiro-Wilk normality test\n",
       "\n",
       "data:  resid(reg)\n",
       "W = 0.86983, p-value = 6.903e-08\n"
      ]
     },
     "metadata": {},
     "output_type": "display_data"
    },
    {
     "data": {
      "image/png": "[encoded data removed]",
      "text/plain": [
       "plot without title"
      ]
     },
     "metadata": {
      "image/png": {
       "height": 420,
       "width": 420
      }
     },
     "output_type": "display_data"
    }
   ],
   "source": [
    "reg = lm(Y~X)\n",
    "summary(reg)\n",
    "plot(X,Y)\n",
    "abline(reg)\n",
    "shapiro.test(resid(reg))"
   ]
  },
  {
   "cell_type": "markdown",
   "id": "e34289a4-361a-4989-8a0e-31c1fd5ca7e9",
   "metadata": {},
   "source": [
    "Se ven pesimos resultados con este modelo. Probaremos una regresión multiple del estilo\n",
    "$$\n",
    "y_i = \\beta_0 + \\beta_1 x_i + \\beta_2 x_i^2\n",
    "$$"
   ]
  },
  {
   "cell_type": "code",
   "execution_count": 257,
   "id": "4a630c53-8b06-49ee-b93a-2afec49d7eec",
   "metadata": {
    "scrolled": true
   },
   "outputs": [
    {
     "data": {
      "text/plain": [
       "\n",
       "Call:\n",
       "lm(formula = Y ~ X + X2)\n",
       "\n",
       "Residuals:\n",
       "    Min      1Q  Median      3Q     Max \n",
       "-5.3684 -1.8831 -0.1282  1.7041  7.1271 \n",
       "\n",
       "Coefficients:\n",
       "            Estimate Std. Error t value Pr(>|t|)    \n",
       "(Intercept)   4.3203     0.5829   7.411 4.68e-11 ***\n",
       "X            13.6054     0.8392  16.213  < 2e-16 ***\n",
       "X2          -10.0238     0.2098 -47.778  < 2e-16 ***\n",
       "---\n",
       "Signif. codes:  0 '***' 0.001 '**' 0.01 '*' 0.05 '.' 0.1 ' ' 1\n",
       "\n",
       "Residual standard error: 2.864 on 97 degrees of freedom\n",
       "Multiple R-squared:  0.9885,\tAdjusted R-squared:  0.9883 \n",
       "F-statistic:  4174 on 2 and 97 DF,  p-value: < 2.2e-16\n"
      ]
     },
     "metadata": {},
     "output_type": "display_data"
    },
    {
     "data": {
      "text/plain": [
       "\n",
       "\tShapiro-Wilk normality test\n",
       "\n",
       "data:  resid(reg2)\n",
       "W = 0.97579, p-value = 0.06219\n"
      ]
     },
     "metadata": {},
     "output_type": "display_data"
    }
   ],
   "source": [
    "#Definimos X^2\n",
    "X2 = X^2\n",
    "#Modelamos\n",
    "reg2=lm(Y~X+X2)\n",
    "summary(reg2)\n",
    "shapiro.test(resid(reg2))"
   ]
  },
  {
   "cell_type": "code",
   "execution_count": 258,
   "id": "fe4e5de4-9f96-4950-b322-113df852a482",
   "metadata": {
    "scrolled": true
   },
   "outputs": [
    {
     "data": {
      "image/png": "[encoded data removed]",
      "text/plain": [
       "plot without title"
      ]
     },
     "metadata": {
      "image/png": {
       "height": 420,
       "width": 420
      }
     },
     "output_type": "display_data"
    }
   ],
   "source": [
    "plot(X,Y)\n",
    "# Debemos definir la curva de la función\n",
    "f = function(x){\n",
    "    y=c()\n",
    "    for (i in x){\n",
    "        aux=as.double(coef(reg2)%*%c(1,i,i^2))\n",
    "        y=c(y,aux)\n",
    "    }\n",
    "    return(y)\n",
    "}\n",
    "# Creamos una secuencia de predicciones\n",
    "x.pred = seq(0,5,0.1)\n",
    "#x.pred = X\n",
    "y.pred = f(x.pred)\n",
    "points(x = x.pred, y = y.pred, col='red', type = 'l') # l,s,p"
   ]
  },
  {
   "cell_type": "markdown",
   "id": "557ea337-95ef-468d-a185-6cc8a0a213a7",
   "metadata": {},
   "source": [
    "Se ve razonable el modelo! vamos bien encaminados!\n",
    "¿Pero qué tal un modelo cúbico?\n",
    "$$\n",
    "y_i = \\beta_0 + \\beta_1 x_i + \\beta_2 x_i^2 + \\beta_3 x_i^3\n",
    "$$"
   ]
  },
  {
   "cell_type": "code",
   "execution_count": 259,
   "id": "5cdedad1-fac3-4429-894f-79d96a6a48d3",
   "metadata": {
    "scrolled": true
   },
   "outputs": [
    {
     "data": {
      "text/plain": [
       "\n",
       "Call:\n",
       "lm(formula = Y ~ X + X2 + X3)\n",
       "\n",
       "Residuals:\n",
       "    Min      1Q  Median      3Q     Max \n",
       "-5.5399 -1.5308 -0.2452  1.6150  7.3074 \n",
       "\n",
       "Coefficients:\n",
       "            Estimate Std. Error t value Pr(>|t|)    \n",
       "(Intercept)   3.4514     0.7466   4.623 1.18e-05 ***\n",
       "X            16.5448     1.8083   9.149 1.00e-14 ***\n",
       "X2          -11.9615     1.0794 -11.081  < 2e-16 ***\n",
       "X3            0.3036     0.1660   1.829   0.0705 .  \n",
       "---\n",
       "Signif. codes:  0 '***' 0.001 '**' 0.01 '*' 0.05 '.' 0.1 ' ' 1\n",
       "\n",
       "Residual standard error: 2.83 on 96 degrees of freedom\n",
       "Multiple R-squared:  0.9889,\tAdjusted R-squared:  0.9886 \n",
       "F-statistic:  2851 on 3 and 96 DF,  p-value: < 2.2e-16\n"
      ]
     },
     "metadata": {},
     "output_type": "display_data"
    },
    {
     "data": {
      "text/plain": [
       "\n",
       "\tShapiro-Wilk normality test\n",
       "\n",
       "data:  resid(reg3)\n",
       "W = 0.97898, p-value = 0.1107\n"
      ]
     },
     "metadata": {},
     "output_type": "display_data"
    }
   ],
   "source": [
    "#Definimos X^3\n",
    "X3 = X^3\n",
    "#Modelamos\n",
    "reg3=lm(Y~X+X2+X3)\n",
    "summary(reg3)\n",
    "shapiro.test(resid(reg3))"
   ]
  },
  {
   "cell_type": "markdown",
   "id": "e82b2b85-2f14-4af1-9325-44bd67d04257",
   "metadata": {},
   "source": [
    "Mejora el modelo, por simplicidad trabajemos con el bivariado.\n",
    "## Estudio de predicciones"
   ]
  },
  {
   "cell_type": "code",
   "execution_count": 260,
   "id": "7c10289c-7ecb-464d-82a8-5febf45beb0a",
   "metadata": {
    "scrolled": true
   },
   "outputs": [
    {
     "data": {
      "text/plain": [
       "\n",
       "Call:\n",
       "lm(formula = Y ~ X + X2)\n",
       "\n",
       "Residuals:\n",
       "    Min      1Q  Median      3Q     Max \n",
       "-5.3684 -1.8831 -0.1282  1.7041  7.1271 \n",
       "\n",
       "Coefficients:\n",
       "            Estimate Std. Error t value Pr(>|t|)    \n",
       "(Intercept)   4.3203     0.5829   7.411 4.68e-11 ***\n",
       "X            13.6054     0.8392  16.213  < 2e-16 ***\n",
       "X2          -10.0238     0.2098 -47.778  < 2e-16 ***\n",
       "---\n",
       "Signif. codes:  0 '***' 0.001 '**' 0.01 '*' 0.05 '.' 0.1 ' ' 1\n",
       "\n",
       "Residual standard error: 2.864 on 97 degrees of freedom\n",
       "Multiple R-squared:  0.9885,\tAdjusted R-squared:  0.9883 \n",
       "F-statistic:  4174 on 2 and 97 DF,  p-value: < 2.2e-16\n"
      ]
     },
     "metadata": {},
     "output_type": "display_data"
    }
   ],
   "source": [
    "summary(reg2)"
   ]
  },
  {
   "cell_type": "markdown",
   "id": "51fad285-2b15-4e8c-8e82-3d5710d3ca28",
   "metadata": {},
   "source": [
    "Comentarios, los parámetros pasan la prueba de no nulidad, el $R^2$ y el $R^2$ ajustado son muy razonalbes, y la prueba de no nulidad conjunta de los parámetros es significativamente no nula. Estamos en un buen escenario."
   ]
  },
  {
   "cell_type": "markdown",
   "id": "bb22a682-a42b-40f7-ae74-48bbf8996459",
   "metadata": {},
   "source": [
    "Anteriormente se mostro como hacer una predicción con programación únicamente usando ciclo `for` pero ahora usaremos funciones del R, entonces:"
   ]
  },
  {
   "cell_type": "code",
   "execution_count": 261,
   "id": "352c38ae-f2de-4657-9989-85e27d991a15",
   "metadata": {},
   "outputs": [
    {
     "data": {
      "text/html": [
       "-45.0774214651778"
      ],
      "text/latex": [
       "-45.0774214651778"
      ],
      "text/markdown": [
       "-45.0774214651778"
      ],
      "text/plain": [
       "[1] -45.07742"
      ]
     },
     "metadata": {},
     "output_type": "display_data"
    },
    {
     "data": {
      "text/html": [
       "<strong>1:</strong> -45.0774214651778"
      ],
      "text/latex": [
       "\\textbf{1:} -45.0774214651778"
      ],
      "text/markdown": [
       "**1:** -45.0774214651778"
      ],
      "text/plain": [
       "        1 \n",
       "-45.07742 "
      ]
     },
     "metadata": {},
     "output_type": "display_data"
    },
    {
     "data": {
      "text/html": [
       "<table class=\"dataframe\">\n",
       "<caption>A matrix: 1 × 3 of type dbl</caption>\n",
       "<thead>\n",
       "\t<tr><th></th><th scope=col>fit</th><th scope=col>lwr</th><th scope=col>upr</th></tr>\n",
       "</thead>\n",
       "<tbody>\n",
       "\t<tr><th scope=row>1</th><td>-45.07742</td><td>-46.40232</td><td>-43.75252</td></tr>\n",
       "</tbody>\n",
       "</table>\n"
      ],
      "text/latex": [
       "A matrix: 1 × 3 of type dbl\n",
       "\\begin{tabular}{r|lll}\n",
       "  & fit & lwr & upr\\\\\n",
       "\\hline\n",
       "\t1 & -45.07742 & -46.40232 & -43.75252\\\\\n",
       "\\end{tabular}\n"
      ],
      "text/markdown": [
       "\n",
       "A matrix: 1 × 3 of type dbl\n",
       "\n",
       "| <!--/--> | fit | lwr | upr |\n",
       "|---|---|---|---|\n",
       "| 1 | -45.07742 | -46.40232 | -43.75252 |\n",
       "\n"
      ],
      "text/plain": [
       "  fit       lwr       upr      \n",
       "1 -45.07742 -46.40232 -43.75252"
      ]
     },
     "metadata": {},
     "output_type": "display_data"
    }
   ],
   "source": [
    "# En primer lugar estudiaremos una predicción, por ejemplo para cuando X=3\n",
    "f(3)\n",
    "dfn = data.frame(X=3,X2=9)\n",
    "predict(reg2, dfn)\n",
    "# y podemos obtener el intervalo de confianza para las predicciones\n",
    "predict(reg2, dfn, interval = 'confidence')"
   ]
  },
  {
   "cell_type": "code",
   "execution_count": 262,
   "id": "e8893e3a-9913-4cb3-a311-6583beb9d623",
   "metadata": {
    "scrolled": true
   },
   "outputs": [
    {
     "data": {
      "text/html": [
       "<table class=\"dataframe\">\n",
       "<caption>A matrix: 100 × 3 of type dbl</caption>\n",
       "<thead>\n",
       "\t<tr><th></th><th scope=col>fit</th><th scope=col>lwr</th><th scope=col>upr</th></tr>\n",
       "</thead>\n",
       "<tbody>\n",
       "\t<tr><th scope=row>1</th><td>   6.484686</td><td>   5.559355</td><td>   7.410018</td></tr>\n",
       "\t<tr><th scope=row>2</th><td>   6.089884</td><td>   5.120433</td><td>   7.059336</td></tr>\n",
       "\t<tr><th scope=row>3</th><td>   6.026374</td><td>   5.049914</td><td>   7.002834</td></tr>\n",
       "\t<tr><th scope=row>4</th><td>   8.347102</td><td>   7.646665</td><td>   9.047539</td></tr>\n",
       "\t<tr><th scope=row>5</th><td> -40.300130</td><td> -41.580408</td><td> -39.019851</td></tr>\n",
       "\t<tr><th scope=row>6</th><td>   5.894809</td><td>   5.136405</td><td>   6.653214</td></tr>\n",
       "\t<tr><th scope=row>7</th><td>   8.743394</td><td>   8.097248</td><td>   9.389539</td></tr>\n",
       "\t<tr><th scope=row>8</th><td>   8.162810</td><td>   7.512519</td><td>   8.813101</td></tr>\n",
       "\t<tr><th scope=row>9</th><td>   6.104175</td><td>   5.136305</td><td>   7.072046</td></tr>\n",
       "\t<tr><th scope=row>10</th><td>   3.854381</td><td>   3.026177</td><td>   4.682586</td></tr>\n",
       "\t<tr><th scope=row>11</th><td>   8.867314</td><td>   8.257153</td><td>   9.477475</td></tr>\n",
       "\t<tr><th scope=row>12</th><td>   5.805348</td><td>   5.043446</td><td>   6.567250</td></tr>\n",
       "\t<tr><th scope=row>13</th><td>-131.667405</td><td>-134.641478</td><td>-128.693331</td></tr>\n",
       "\t<tr><th scope=row>14</th><td>   7.520725</td><td>   6.835442</td><td>   8.206008</td></tr>\n",
       "\t<tr><th scope=row>15</th><td>   7.662423</td><td>   6.984527</td><td>   8.340318</td></tr>\n",
       "\t<tr><th scope=row>16</th><td>  -5.434236</td><td>  -6.440583</td><td>  -4.427890</td></tr>\n",
       "\t<tr><th scope=row>17</th><td>   8.931259</td><td>   8.316884</td><td>   9.545635</td></tr>\n",
       "\t<tr><th scope=row>18</th><td>   7.766468</td><td>   6.992195</td><td>   8.540740</td></tr>\n",
       "\t<tr><th scope=row>19</th><td>   8.855478</td><td>   8.226446</td><td>   9.484510</td></tr>\n",
       "\t<tr><th scope=row>20</th><td> -19.551746</td><td> -20.681426</td><td> -18.422067</td></tr>\n",
       "\t<tr><th scope=row>21</th><td>   8.923442</td><td>   8.306980</td><td>   9.539904</td></tr>\n",
       "\t<tr><th scope=row>22</th><td>   7.454795</td><td>   6.642509</td><td>   8.267080</td></tr>\n",
       "\t<tr><th scope=row>23</th><td>   8.809469</td><td>   8.173182</td><td>   9.445757</td></tr>\n",
       "\t<tr><th scope=row>24</th><td>   5.650675</td><td>   4.633220</td><td>   6.668129</td></tr>\n",
       "\t<tr><th scope=row>25</th><td>   5.093576</td><td>   4.016695</td><td>   6.170456</td></tr>\n",
       "\t<tr><th scope=row>26</th><td>   8.836864</td><td>   8.204841</td><td>   9.468887</td></tr>\n",
       "\t<tr><th scope=row>27</th><td> -98.920847</td><td>-101.120663</td><td> -96.721030</td></tr>\n",
       "\t<tr><th scope=row>28</th><td>   6.484334</td><td>   5.750219</td><td>   7.218449</td></tr>\n",
       "\t<tr><th scope=row>29</th><td>   7.922350</td><td>   7.258497</td><td>   8.586202</td></tr>\n",
       "\t<tr><th scope=row>30</th><td>   3.198514</td><td>   2.351517</td><td>   4.045512</td></tr>\n",
       "\t<tr><th scope=row>⋮</th><td>⋮</td><td>⋮</td><td>⋮</td></tr>\n",
       "\t<tr><th scope=row>71</th><td>-17.8199620</td><td>-18.9377521</td><td>-16.702172</td></tr>\n",
       "\t<tr><th scope=row>72</th><td>-40.9652233</td><td>-42.2514030</td><td>-39.679044</td></tr>\n",
       "\t<tr><th scope=row>73</th><td>  7.3883125</td><td>  6.5680382</td><td>  8.208587</td></tr>\n",
       "\t<tr><th scope=row>74</th><td>  8.0947480</td><td>  7.3616546</td><td>  8.827841</td></tr>\n",
       "\t<tr><th scope=row>75</th><td>  5.0013692</td><td>  3.9147983</td><td>  6.087940</td></tr>\n",
       "\t<tr><th scope=row>76</th><td>  7.8665606</td><td>  7.1047088</td><td>  8.628412</td></tr>\n",
       "\t<tr><th scope=row>77</th><td>  1.0579849</td><td>  0.1585519</td><td>  1.957418</td></tr>\n",
       "\t<tr><th scope=row>78</th><td>  8.7519195</td><td>  8.1361137</td><td>  9.367725</td></tr>\n",
       "\t<tr><th scope=row>79</th><td>-34.4543145</td><td>-35.6866291</td><td>-33.222000</td></tr>\n",
       "\t<tr><th scope=row>80</th><td>  8.0796110</td><td>  7.3445893</td><td>  8.814633</td></tr>\n",
       "\t<tr><th scope=row>81</th><td>  7.8480475</td><td>  7.1801149</td><td>  8.515980</td></tr>\n",
       "\t<tr><th scope=row>82</th><td>  8.7409236</td><td>  8.1245097</td><td>  9.357338</td></tr>\n",
       "\t<tr><th scope=row>83</th><td>  5.0913661</td><td>  4.0142531</td><td>  6.168479</td></tr>\n",
       "\t<tr><th scope=row>84</th><td>-16.8908138</td><td>-18.0020519</td><td>-15.779576</td></tr>\n",
       "\t<tr><th scope=row>85</th><td>  8.7790771</td><td>  8.1647409</td><td>  9.393413</td></tr>\n",
       "\t<tr><th scope=row>86</th><td>  0.7265596</td><td> -0.1799815</td><td>  1.633101</td></tr>\n",
       "\t<tr><th scope=row>87</th><td>  5.8479185</td><td>  5.0876751</td><td>  6.608162</td></tr>\n",
       "\t<tr><th scope=row>88</th><td>  4.4776954</td><td>  3.6688228</td><td>  5.286568</td></tr>\n",
       "\t<tr><th scope=row>89</th><td>-11.3239411</td><td>-12.3915796</td><td>-10.256303</td></tr>\n",
       "\t<tr><th scope=row>90</th><td>  7.6634719</td><td>  6.9856316</td><td>  8.341312</td></tr>\n",
       "\t<tr><th scope=row>91</th><td>  8.4011634</td><td>  7.7078663</td><td>  9.094461</td></tr>\n",
       "\t<tr><th scope=row>92</th><td>  7.6019257</td><td>  6.9208532</td><td>  8.282998</td></tr>\n",
       "\t<tr><th scope=row>93</th><td>  7.1870358</td><td>  6.3428105</td><td>  8.031261</td></tr>\n",
       "\t<tr><th scope=row>94</th><td>  8.9369236</td><td>  8.3257367</td><td>  9.548110</td></tr>\n",
       "\t<tr><th scope=row>95</th><td>  7.2113264</td><td>  6.3699735</td><td>  8.052679</td></tr>\n",
       "\t<tr><th scope=row>96</th><td>  8.3972339</td><td>  7.7034157</td><td>  9.091052</td></tr>\n",
       "\t<tr><th scope=row>97</th><td>  6.7410785</td><td>  5.8449412</td><td>  7.637216</td></tr>\n",
       "\t<tr><th scope=row>98</th><td>  5.9478127</td><td>  4.9627151</td><td>  6.932910</td></tr>\n",
       "\t<tr><th scope=row>99</th><td>  7.8469346</td><td>  7.0826386</td><td>  8.611231</td></tr>\n",
       "\t<tr><th scope=row>100</th><td> -6.0114210</td><td> -7.0248409</td><td> -4.998001</td></tr>\n",
       "</tbody>\n",
       "</table>\n"
      ],
      "text/latex": [
       "A matrix: 100 × 3 of type dbl\n",
       "\\begin{tabular}{r|lll}\n",
       "  & fit & lwr & upr\\\\\n",
       "\\hline\n",
       "\t1 &    6.484686 &    5.559355 &    7.410018\\\\\n",
       "\t2 &    6.089884 &    5.120433 &    7.059336\\\\\n",
       "\t3 &    6.026374 &    5.049914 &    7.002834\\\\\n",
       "\t4 &    8.347102 &    7.646665 &    9.047539\\\\\n",
       "\t5 &  -40.300130 &  -41.580408 &  -39.019851\\\\\n",
       "\t6 &    5.894809 &    5.136405 &    6.653214\\\\\n",
       "\t7 &    8.743394 &    8.097248 &    9.389539\\\\\n",
       "\t8 &    8.162810 &    7.512519 &    8.813101\\\\\n",
       "\t9 &    6.104175 &    5.136305 &    7.072046\\\\\n",
       "\t10 &    3.854381 &    3.026177 &    4.682586\\\\\n",
       "\t11 &    8.867314 &    8.257153 &    9.477475\\\\\n",
       "\t12 &    5.805348 &    5.043446 &    6.567250\\\\\n",
       "\t13 & -131.667405 & -134.641478 & -128.693331\\\\\n",
       "\t14 &    7.520725 &    6.835442 &    8.206008\\\\\n",
       "\t15 &    7.662423 &    6.984527 &    8.340318\\\\\n",
       "\t16 &   -5.434236 &   -6.440583 &   -4.427890\\\\\n",
       "\t17 &    8.931259 &    8.316884 &    9.545635\\\\\n",
       "\t18 &    7.766468 &    6.992195 &    8.540740\\\\\n",
       "\t19 &    8.855478 &    8.226446 &    9.484510\\\\\n",
       "\t20 &  -19.551746 &  -20.681426 &  -18.422067\\\\\n",
       "\t21 &    8.923442 &    8.306980 &    9.539904\\\\\n",
       "\t22 &    7.454795 &    6.642509 &    8.267080\\\\\n",
       "\t23 &    8.809469 &    8.173182 &    9.445757\\\\\n",
       "\t24 &    5.650675 &    4.633220 &    6.668129\\\\\n",
       "\t25 &    5.093576 &    4.016695 &    6.170456\\\\\n",
       "\t26 &    8.836864 &    8.204841 &    9.468887\\\\\n",
       "\t27 &  -98.920847 & -101.120663 &  -96.721030\\\\\n",
       "\t28 &    6.484334 &    5.750219 &    7.218449\\\\\n",
       "\t29 &    7.922350 &    7.258497 &    8.586202\\\\\n",
       "\t30 &    3.198514 &    2.351517 &    4.045512\\\\\n",
       "\t⋮ & ⋮ & ⋮ & ⋮\\\\\n",
       "\t71 & -17.8199620 & -18.9377521 & -16.702172\\\\\n",
       "\t72 & -40.9652233 & -42.2514030 & -39.679044\\\\\n",
       "\t73 &   7.3883125 &   6.5680382 &   8.208587\\\\\n",
       "\t74 &   8.0947480 &   7.3616546 &   8.827841\\\\\n",
       "\t75 &   5.0013692 &   3.9147983 &   6.087940\\\\\n",
       "\t76 &   7.8665606 &   7.1047088 &   8.628412\\\\\n",
       "\t77 &   1.0579849 &   0.1585519 &   1.957418\\\\\n",
       "\t78 &   8.7519195 &   8.1361137 &   9.367725\\\\\n",
       "\t79 & -34.4543145 & -35.6866291 & -33.222000\\\\\n",
       "\t80 &   8.0796110 &   7.3445893 &   8.814633\\\\\n",
       "\t81 &   7.8480475 &   7.1801149 &   8.515980\\\\\n",
       "\t82 &   8.7409236 &   8.1245097 &   9.357338\\\\\n",
       "\t83 &   5.0913661 &   4.0142531 &   6.168479\\\\\n",
       "\t84 & -16.8908138 & -18.0020519 & -15.779576\\\\\n",
       "\t85 &   8.7790771 &   8.1647409 &   9.393413\\\\\n",
       "\t86 &   0.7265596 &  -0.1799815 &   1.633101\\\\\n",
       "\t87 &   5.8479185 &   5.0876751 &   6.608162\\\\\n",
       "\t88 &   4.4776954 &   3.6688228 &   5.286568\\\\\n",
       "\t89 & -11.3239411 & -12.3915796 & -10.256303\\\\\n",
       "\t90 &   7.6634719 &   6.9856316 &   8.341312\\\\\n",
       "\t91 &   8.4011634 &   7.7078663 &   9.094461\\\\\n",
       "\t92 &   7.6019257 &   6.9208532 &   8.282998\\\\\n",
       "\t93 &   7.1870358 &   6.3428105 &   8.031261\\\\\n",
       "\t94 &   8.9369236 &   8.3257367 &   9.548110\\\\\n",
       "\t95 &   7.2113264 &   6.3699735 &   8.052679\\\\\n",
       "\t96 &   8.3972339 &   7.7034157 &   9.091052\\\\\n",
       "\t97 &   6.7410785 &   5.8449412 &   7.637216\\\\\n",
       "\t98 &   5.9478127 &   4.9627151 &   6.932910\\\\\n",
       "\t99 &   7.8469346 &   7.0826386 &   8.611231\\\\\n",
       "\t100 &  -6.0114210 &  -7.0248409 &  -4.998001\\\\\n",
       "\\end{tabular}\n"
      ],
      "text/markdown": [
       "\n",
       "A matrix: 100 × 3 of type dbl\n",
       "\n",
       "| <!--/--> | fit | lwr | upr |\n",
       "|---|---|---|---|\n",
       "| 1 |    6.484686 |    5.559355 |    7.410018 |\n",
       "| 2 |    6.089884 |    5.120433 |    7.059336 |\n",
       "| 3 |    6.026374 |    5.049914 |    7.002834 |\n",
       "| 4 |    8.347102 |    7.646665 |    9.047539 |\n",
       "| 5 |  -40.300130 |  -41.580408 |  -39.019851 |\n",
       "| 6 |    5.894809 |    5.136405 |    6.653214 |\n",
       "| 7 |    8.743394 |    8.097248 |    9.389539 |\n",
       "| 8 |    8.162810 |    7.512519 |    8.813101 |\n",
       "| 9 |    6.104175 |    5.136305 |    7.072046 |\n",
       "| 10 |    3.854381 |    3.026177 |    4.682586 |\n",
       "| 11 |    8.867314 |    8.257153 |    9.477475 |\n",
       "| 12 |    5.805348 |    5.043446 |    6.567250 |\n",
       "| 13 | -131.667405 | -134.641478 | -128.693331 |\n",
       "| 14 |    7.520725 |    6.835442 |    8.206008 |\n",
       "| 15 |    7.662423 |    6.984527 |    8.340318 |\n",
       "| 16 |   -5.434236 |   -6.440583 |   -4.427890 |\n",
       "| 17 |    8.931259 |    8.316884 |    9.545635 |\n",
       "| 18 |    7.766468 |    6.992195 |    8.540740 |\n",
       "| 19 |    8.855478 |    8.226446 |    9.484510 |\n",
       "| 20 |  -19.551746 |  -20.681426 |  -18.422067 |\n",
       "| 21 |    8.923442 |    8.306980 |    9.539904 |\n",
       "| 22 |    7.454795 |    6.642509 |    8.267080 |\n",
       "| 23 |    8.809469 |    8.173182 |    9.445757 |\n",
       "| 24 |    5.650675 |    4.633220 |    6.668129 |\n",
       "| 25 |    5.093576 |    4.016695 |    6.170456 |\n",
       "| 26 |    8.836864 |    8.204841 |    9.468887 |\n",
       "| 27 |  -98.920847 | -101.120663 |  -96.721030 |\n",
       "| 28 |    6.484334 |    5.750219 |    7.218449 |\n",
       "| 29 |    7.922350 |    7.258497 |    8.586202 |\n",
       "| 30 |    3.198514 |    2.351517 |    4.045512 |\n",
       "| ⋮ | ⋮ | ⋮ | ⋮ |\n",
       "| 71 | -17.8199620 | -18.9377521 | -16.702172 |\n",
       "| 72 | -40.9652233 | -42.2514030 | -39.679044 |\n",
       "| 73 |   7.3883125 |   6.5680382 |   8.208587 |\n",
       "| 74 |   8.0947480 |   7.3616546 |   8.827841 |\n",
       "| 75 |   5.0013692 |   3.9147983 |   6.087940 |\n",
       "| 76 |   7.8665606 |   7.1047088 |   8.628412 |\n",
       "| 77 |   1.0579849 |   0.1585519 |   1.957418 |\n",
       "| 78 |   8.7519195 |   8.1361137 |   9.367725 |\n",
       "| 79 | -34.4543145 | -35.6866291 | -33.222000 |\n",
       "| 80 |   8.0796110 |   7.3445893 |   8.814633 |\n",
       "| 81 |   7.8480475 |   7.1801149 |   8.515980 |\n",
       "| 82 |   8.7409236 |   8.1245097 |   9.357338 |\n",
       "| 83 |   5.0913661 |   4.0142531 |   6.168479 |\n",
       "| 84 | -16.8908138 | -18.0020519 | -15.779576 |\n",
       "| 85 |   8.7790771 |   8.1647409 |   9.393413 |\n",
       "| 86 |   0.7265596 |  -0.1799815 |   1.633101 |\n",
       "| 87 |   5.8479185 |   5.0876751 |   6.608162 |\n",
       "| 88 |   4.4776954 |   3.6688228 |   5.286568 |\n",
       "| 89 | -11.3239411 | -12.3915796 | -10.256303 |\n",
       "| 90 |   7.6634719 |   6.9856316 |   8.341312 |\n",
       "| 91 |   8.4011634 |   7.7078663 |   9.094461 |\n",
       "| 92 |   7.6019257 |   6.9208532 |   8.282998 |\n",
       "| 93 |   7.1870358 |   6.3428105 |   8.031261 |\n",
       "| 94 |   8.9369236 |   8.3257367 |   9.548110 |\n",
       "| 95 |   7.2113264 |   6.3699735 |   8.052679 |\n",
       "| 96 |   8.3972339 |   7.7034157 |   9.091052 |\n",
       "| 97 |   6.7410785 |   5.8449412 |   7.637216 |\n",
       "| 98 |   5.9478127 |   4.9627151 |   6.932910 |\n",
       "| 99 |   7.8469346 |   7.0826386 |   8.611231 |\n",
       "| 100 |  -6.0114210 |  -7.0248409 |  -4.998001 |\n",
       "\n"
      ],
      "text/plain": [
       "    fit         lwr         upr        \n",
       "1      6.484686    5.559355    7.410018\n",
       "2      6.089884    5.120433    7.059336\n",
       "3      6.026374    5.049914    7.002834\n",
       "4      8.347102    7.646665    9.047539\n",
       "5    -40.300130  -41.580408  -39.019851\n",
       "6      5.894809    5.136405    6.653214\n",
       "7      8.743394    8.097248    9.389539\n",
       "8      8.162810    7.512519    8.813101\n",
       "9      6.104175    5.136305    7.072046\n",
       "10     3.854381    3.026177    4.682586\n",
       "11     8.867314    8.257153    9.477475\n",
       "12     5.805348    5.043446    6.567250\n",
       "13  -131.667405 -134.641478 -128.693331\n",
       "14     7.520725    6.835442    8.206008\n",
       "15     7.662423    6.984527    8.340318\n",
       "16    -5.434236   -6.440583   -4.427890\n",
       "17     8.931259    8.316884    9.545635\n",
       "18     7.766468    6.992195    8.540740\n",
       "19     8.855478    8.226446    9.484510\n",
       "20   -19.551746  -20.681426  -18.422067\n",
       "21     8.923442    8.306980    9.539904\n",
       "22     7.454795    6.642509    8.267080\n",
       "23     8.809469    8.173182    9.445757\n",
       "24     5.650675    4.633220    6.668129\n",
       "25     5.093576    4.016695    6.170456\n",
       "26     8.836864    8.204841    9.468887\n",
       "27   -98.920847 -101.120663  -96.721030\n",
       "28     6.484334    5.750219    7.218449\n",
       "29     7.922350    7.258497    8.586202\n",
       "30     3.198514    2.351517    4.045512\n",
       "⋮   ⋮           ⋮           ⋮          \n",
       "71  -17.8199620 -18.9377521 -16.702172 \n",
       "72  -40.9652233 -42.2514030 -39.679044 \n",
       "73    7.3883125   6.5680382   8.208587 \n",
       "74    8.0947480   7.3616546   8.827841 \n",
       "75    5.0013692   3.9147983   6.087940 \n",
       "76    7.8665606   7.1047088   8.628412 \n",
       "77    1.0579849   0.1585519   1.957418 \n",
       "78    8.7519195   8.1361137   9.367725 \n",
       "79  -34.4543145 -35.6866291 -33.222000 \n",
       "80    8.0796110   7.3445893   8.814633 \n",
       "81    7.8480475   7.1801149   8.515980 \n",
       "82    8.7409236   8.1245097   9.357338 \n",
       "83    5.0913661   4.0142531   6.168479 \n",
       "84  -16.8908138 -18.0020519 -15.779576 \n",
       "85    8.7790771   8.1647409   9.393413 \n",
       "86    0.7265596  -0.1799815   1.633101 \n",
       "87    5.8479185   5.0876751   6.608162 \n",
       "88    4.4776954   3.6688228   5.286568 \n",
       "89  -11.3239411 -12.3915796 -10.256303 \n",
       "90    7.6634719   6.9856316   8.341312 \n",
       "91    8.4011634   7.7078663   9.094461 \n",
       "92    7.6019257   6.9208532   8.282998 \n",
       "93    7.1870358   6.3428105   8.031261 \n",
       "94    8.9369236   8.3257367   9.548110 \n",
       "95    7.2113264   6.3699735   8.052679 \n",
       "96    8.3972339   7.7034157   9.091052 \n",
       "97    6.7410785   5.8449412   7.637216 \n",
       "98    5.9478127   4.9627151   6.932910 \n",
       "99    7.8469346   7.0826386   8.611231 \n",
       "100  -6.0114210  -7.0248409  -4.998001 "
      ]
     },
     "metadata": {},
     "output_type": "display_data"
    }
   ],
   "source": [
    "# Creamos un vector de predicciones\n",
    "pred = predict(reg2, interval = \"confidence\")\n",
    "pred"
   ]
  },
  {
   "cell_type": "code",
   "execution_count": 263,
   "id": "b8e6b00d-45f6-4a65-94e5-e9d79446dfba",
   "metadata": {
    "scrolled": true
   },
   "outputs": [
    {
     "data": {
      "text/html": [
       "<table class=\"dataframe\">\n",
       "<caption>A data.frame: 100 × 4</caption>\n",
       "<thead>\n",
       "\t<tr><th></th><th scope=col>X</th><th scope=col>fit</th><th scope=col>lwr</th><th scope=col>upr</th></tr>\n",
       "\t<tr><th></th><th scope=col>&lt;dbl&gt;</th><th scope=col>&lt;dbl&gt;</th><th scope=col>&lt;dbl&gt;</th><th scope=col>&lt;dbl&gt;</th></tr>\n",
       "</thead>\n",
       "<tbody>\n",
       "\t<tr><th scope=row>31</th><td>0.03726853</td><td>4.813427</td><td>3.707224</td><td>5.919630</td></tr>\n",
       "\t<tr><th scope=row>75</th><td>0.05205545</td><td>5.001369</td><td>3.914798</td><td>6.087940</td></tr>\n",
       "\t<tr><th scope=row>83</th><td>0.05926121</td><td>5.091366</td><td>4.014253</td><td>6.168479</td></tr>\n",
       "\t<tr><th scope=row>25</th><td>0.05943916</td><td>5.093576</td><td>4.016695</td><td>6.170456</td></tr>\n",
       "\t<tr><th scope=row>60</th><td>0.08967408</td><td>5.459742</td><td>4.421746</td><td>6.497738</td></tr>\n",
       "\t<tr><th scope=row>24</th><td>0.10607262</td><td>5.650675</td><td>4.633220</td><td>6.668129</td></tr>\n",
       "\t<tr><th scope=row>98</th><td>0.13257141</td><td>5.947813</td><td>4.962715</td><td>6.932910</td></tr>\n",
       "\t<tr><th scope=row>3</th><td>0.13979526</td><td>6.026374</td><td>5.049914</td><td>7.002834</td></tr>\n",
       "\t<tr><th scope=row>2</th><td>0.14570673</td><td>6.089884</td><td>5.120433</td><td>7.059336</td></tr>\n",
       "\t<tr><th scope=row>9</th><td>0.14704599</td><td>6.104175</td><td>5.136305</td><td>7.072046</td></tr>\n",
       "\t<tr><th scope=row>1</th><td>0.18403658</td><td>6.484686</td><td>5.559355</td><td>7.410018</td></tr>\n",
       "\t<tr><th scope=row>34</th><td>0.20351035</td><td>6.673985</td><td>5.770165</td><td>7.577806</td></tr>\n",
       "\t<tr><th scope=row>56</th><td>0.20986658</td><td>6.734127</td><td>5.837192</td><td>7.631061</td></tr>\n",
       "\t<tr><th scope=row>97</th><td>0.21060689</td><td>6.741079</td><td>5.844941</td><td>7.637216</td></tr>\n",
       "\t<tr><th scope=row>39</th><td>0.23502745</td><td>6.964245</td><td>6.093896</td><td>7.834593</td></tr>\n",
       "\t<tr><th scope=row>62</th><td>0.24726425</td><td>7.071574</td><td>6.213761</td><td>7.929386</td></tr>\n",
       "\t<tr><th scope=row>93</th><td>0.26082824</td><td>7.187036</td><td>6.342810</td><td>8.031261</td></tr>\n",
       "\t<tr><th scope=row>95</th><td>0.26373826</td><td>7.211326</td><td>6.369973</td><td>8.052679</td></tr>\n",
       "\t<tr><th scope=row>73</th><td>0.28559098</td><td>7.388313</td><td>6.568038</td><td>8.208587</td></tr>\n",
       "\t<tr><th scope=row>22</th><td>0.29412039</td><td>7.454795</td><td>6.642509</td><td>8.267080</td></tr>\n",
       "\t<tr><th scope=row>45</th><td>0.30128300</td><td>7.509497</td><td>6.703815</td><td>8.315179</td></tr>\n",
       "\t<tr><th scope=row>36</th><td>0.30174093</td><td>7.512960</td><td>6.707697</td><td>8.318223</td></tr>\n",
       "\t<tr><th scope=row>57</th><td>0.30944786</td><td>7.570600</td><td>6.772327</td><td>8.368872</td></tr>\n",
       "\t<tr><th scope=row>32</th><td>0.32401015</td><td>7.676260</td><td>6.890886</td><td>8.461634</td></tr>\n",
       "\t<tr><th scope=row>18</th><td>0.33693348</td><td>7.766468</td><td>6.992195</td><td>8.540740</td></tr>\n",
       "\t<tr><th scope=row>99</th><td>0.34888835</td><td>7.846935</td><td>7.082639</td><td>8.611231</td></tr>\n",
       "\t<tr><th scope=row>76</th><td>0.35187050</td><td>7.866561</td><td>7.104709</td><td>8.628412</td></tr>\n",
       "\t<tr><th scope=row>80</th><td>0.38619356</td><td>8.079611</td><td>7.344589</td><td>8.814633</td></tr>\n",
       "\t<tr><th scope=row>74</th><td>0.38878677</td><td>8.094748</td><td>7.361655</td><td>8.827841</td></tr>\n",
       "\t<tr><th scope=row>50</th><td>0.42224244</td><td>8.277945</td><td>7.568455</td><td>8.987435</td></tr>\n",
       "\t<tr><th scope=row>⋮</th><td>⋮</td><td>⋮</td><td>⋮</td><td>⋮</td></tr>\n",
       "\t<tr><th scope=row>6</th><td>1.229562</td><td>   5.8948092</td><td>   5.13640475</td><td>   6.653214</td></tr>\n",
       "\t<tr><th scope=row>87</th><td>1.233792</td><td>   5.8479185</td><td>   5.08767506</td><td>   6.608162</td></tr>\n",
       "\t<tr><th scope=row>12</th><td>1.237604</td><td>   5.8053483</td><td>   5.04344642</td><td>   6.567250</td></tr>\n",
       "\t<tr><th scope=row>43</th><td>1.253105</td><td>   5.6292340</td><td>   4.86058141</td><td>   6.397887</td></tr>\n",
       "\t<tr><th scope=row>42</th><td>1.292262</td><td>   5.1629306</td><td>   4.37721436</td><td>   5.948647</td></tr>\n",
       "\t<tr><th scope=row>46</th><td>1.293125</td><td>   5.1523071</td><td>   4.36621503</td><td>   5.938399</td></tr>\n",
       "\t<tr><th scope=row>33</th><td>1.320468</td><td>   4.8079828</td><td>   4.01000472</td><td>   5.605961</td></tr>\n",
       "\t<tr><th scope=row>88</th><td>1.345644</td><td>   4.4776954</td><td>   3.66882283</td><td>   5.286568</td></tr>\n",
       "\t<tr><th scope=row>10</th><td>1.390735</td><td>   3.8543815</td><td>   3.02617718</td><td>   4.682586</td></tr>\n",
       "\t<tr><th scope=row>30</th><td>1.435285</td><td>   3.1985143</td><td>   2.35151666</td><td>   4.045512</td></tr>\n",
       "\t<tr><th scope=row>77</th><td>1.565241</td><td>   1.0579849</td><td>   0.15855192</td><td>   1.957418</td></tr>\n",
       "\t<tr><th scope=row>63</th><td>1.571987</td><td>   0.9376354</td><td>   0.03559374</td><td>   1.839677</td></tr>\n",
       "\t<tr><th scope=row>86</th><td>1.583696</td><td>   0.7265596</td><td>  -0.17998151</td><td>   1.633101</td></tr>\n",
       "\t<tr><th scope=row>70</th><td>1.784765</td><td>  -3.3268526</td><td>  -4.30465064</td><td>  -2.349055</td></tr>\n",
       "\t<tr><th scope=row>16</th><td>1.876035</td><td>  -5.4342365</td><td>  -6.44058262</td><td>  -4.427890</td></tr>\n",
       "\t<tr><th scope=row>100</th><td>1.899843</td><td>  -6.0114210</td><td>  -7.02484088</td><td>  -4.998001</td></tr>\n",
       "\t<tr><th scope=row>49</th><td>2.007832</td><td>  -8.7720787</td><td>  -9.81579814</td><td>  -7.728359</td></tr>\n",
       "\t<tr><th scope=row>89</th><td>2.100377</td><td> -11.3239411</td><td> -12.39157960</td><td> -10.256303</td></tr>\n",
       "\t<tr><th scope=row>51</th><td>2.178773</td><td> -13.6199683</td><td> -14.70670804</td><td> -12.533229</td></tr>\n",
       "\t<tr><th scope=row>84</th><td>2.283853</td><td> -16.8908138</td><td> -18.00205189</td><td> -15.779576</td></tr>\n",
       "\t<tr><th scope=row>71</th><td>2.312472</td><td> -17.8199620</td><td> -18.93775215</td><td> -16.702172</td></tr>\n",
       "\t<tr><th scope=row>20</th><td>2.364515</td><td> -19.5517464</td><td> -20.68142594</td><td> -18.422067</td></tr>\n",
       "\t<tr><th scope=row>66</th><td>2.730389</td><td> -33.2591217</td><td> -34.48240523</td><td> -32.035838</td></tr>\n",
       "\t<tr><th scope=row>79</th><td>2.759244</td><td> -34.4543145</td><td> -35.68662913</td><td> -33.222000</td></tr>\n",
       "\t<tr><th scope=row>5</th><td>2.894969</td><td> -40.3001295</td><td> -41.58040800</td><td> -39.019851</td></tr>\n",
       "\t<tr><th scope=row>72</th><td>2.909887</td><td> -40.9652233</td><td> -42.25140300</td><td> -39.679044</td></tr>\n",
       "\t<tr><th scope=row>52</th><td>3.217789</td><td> -55.6881604</td><td> -57.13211697</td><td> -54.244204</td></tr>\n",
       "\t<tr><th scope=row>27</th><td>3.958933</td><td> -98.9208466</td><td>-101.12066342</td><td> -96.721030</td></tr>\n",
       "\t<tr><th scope=row>13</th><td>4.423934</td><td>-131.6674048</td><td>-134.64147839</td><td>-128.693331</td></tr>\n",
       "\t<tr><th scope=row>64</th><td>4.832813</td><td>-164.0432511</td><td>-167.87956160</td><td>-160.206941</td></tr>\n",
       "</tbody>\n",
       "</table>\n"
      ],
      "text/latex": [
       "A data.frame: 100 × 4\n",
       "\\begin{tabular}{r|llll}\n",
       "  & X & fit & lwr & upr\\\\\n",
       "  & <dbl> & <dbl> & <dbl> & <dbl>\\\\\n",
       "\\hline\n",
       "\t31 & 0.03726853 & 4.813427 & 3.707224 & 5.919630\\\\\n",
       "\t75 & 0.05205545 & 5.001369 & 3.914798 & 6.087940\\\\\n",
       "\t83 & 0.05926121 & 5.091366 & 4.014253 & 6.168479\\\\\n",
       "\t25 & 0.05943916 & 5.093576 & 4.016695 & 6.170456\\\\\n",
       "\t60 & 0.08967408 & 5.459742 & 4.421746 & 6.497738\\\\\n",
       "\t24 & 0.10607262 & 5.650675 & 4.633220 & 6.668129\\\\\n",
       "\t98 & 0.13257141 & 5.947813 & 4.962715 & 6.932910\\\\\n",
       "\t3 & 0.13979526 & 6.026374 & 5.049914 & 7.002834\\\\\n",
       "\t2 & 0.14570673 & 6.089884 & 5.120433 & 7.059336\\\\\n",
       "\t9 & 0.14704599 & 6.104175 & 5.136305 & 7.072046\\\\\n",
       "\t1 & 0.18403658 & 6.484686 & 5.559355 & 7.410018\\\\\n",
       "\t34 & 0.20351035 & 6.673985 & 5.770165 & 7.577806\\\\\n",
       "\t56 & 0.20986658 & 6.734127 & 5.837192 & 7.631061\\\\\n",
       "\t97 & 0.21060689 & 6.741079 & 5.844941 & 7.637216\\\\\n",
       "\t39 & 0.23502745 & 6.964245 & 6.093896 & 7.834593\\\\\n",
       "\t62 & 0.24726425 & 7.071574 & 6.213761 & 7.929386\\\\\n",
       "\t93 & 0.26082824 & 7.187036 & 6.342810 & 8.031261\\\\\n",
       "\t95 & 0.26373826 & 7.211326 & 6.369973 & 8.052679\\\\\n",
       "\t73 & 0.28559098 & 7.388313 & 6.568038 & 8.208587\\\\\n",
       "\t22 & 0.29412039 & 7.454795 & 6.642509 & 8.267080\\\\\n",
       "\t45 & 0.30128300 & 7.509497 & 6.703815 & 8.315179\\\\\n",
       "\t36 & 0.30174093 & 7.512960 & 6.707697 & 8.318223\\\\\n",
       "\t57 & 0.30944786 & 7.570600 & 6.772327 & 8.368872\\\\\n",
       "\t32 & 0.32401015 & 7.676260 & 6.890886 & 8.461634\\\\\n",
       "\t18 & 0.33693348 & 7.766468 & 6.992195 & 8.540740\\\\\n",
       "\t99 & 0.34888835 & 7.846935 & 7.082639 & 8.611231\\\\\n",
       "\t76 & 0.35187050 & 7.866561 & 7.104709 & 8.628412\\\\\n",
       "\t80 & 0.38619356 & 8.079611 & 7.344589 & 8.814633\\\\\n",
       "\t74 & 0.38878677 & 8.094748 & 7.361655 & 8.827841\\\\\n",
       "\t50 & 0.42224244 & 8.277945 & 7.568455 & 8.987435\\\\\n",
       "\t⋮ & ⋮ & ⋮ & ⋮ & ⋮\\\\\n",
       "\t6 & 1.229562 &    5.8948092 &    5.13640475 &    6.653214\\\\\n",
       "\t87 & 1.233792 &    5.8479185 &    5.08767506 &    6.608162\\\\\n",
       "\t12 & 1.237604 &    5.8053483 &    5.04344642 &    6.567250\\\\\n",
       "\t43 & 1.253105 &    5.6292340 &    4.86058141 &    6.397887\\\\\n",
       "\t42 & 1.292262 &    5.1629306 &    4.37721436 &    5.948647\\\\\n",
       "\t46 & 1.293125 &    5.1523071 &    4.36621503 &    5.938399\\\\\n",
       "\t33 & 1.320468 &    4.8079828 &    4.01000472 &    5.605961\\\\\n",
       "\t88 & 1.345644 &    4.4776954 &    3.66882283 &    5.286568\\\\\n",
       "\t10 & 1.390735 &    3.8543815 &    3.02617718 &    4.682586\\\\\n",
       "\t30 & 1.435285 &    3.1985143 &    2.35151666 &    4.045512\\\\\n",
       "\t77 & 1.565241 &    1.0579849 &    0.15855192 &    1.957418\\\\\n",
       "\t63 & 1.571987 &    0.9376354 &    0.03559374 &    1.839677\\\\\n",
       "\t86 & 1.583696 &    0.7265596 &   -0.17998151 &    1.633101\\\\\n",
       "\t70 & 1.784765 &   -3.3268526 &   -4.30465064 &   -2.349055\\\\\n",
       "\t16 & 1.876035 &   -5.4342365 &   -6.44058262 &   -4.427890\\\\\n",
       "\t100 & 1.899843 &   -6.0114210 &   -7.02484088 &   -4.998001\\\\\n",
       "\t49 & 2.007832 &   -8.7720787 &   -9.81579814 &   -7.728359\\\\\n",
       "\t89 & 2.100377 &  -11.3239411 &  -12.39157960 &  -10.256303\\\\\n",
       "\t51 & 2.178773 &  -13.6199683 &  -14.70670804 &  -12.533229\\\\\n",
       "\t84 & 2.283853 &  -16.8908138 &  -18.00205189 &  -15.779576\\\\\n",
       "\t71 & 2.312472 &  -17.8199620 &  -18.93775215 &  -16.702172\\\\\n",
       "\t20 & 2.364515 &  -19.5517464 &  -20.68142594 &  -18.422067\\\\\n",
       "\t66 & 2.730389 &  -33.2591217 &  -34.48240523 &  -32.035838\\\\\n",
       "\t79 & 2.759244 &  -34.4543145 &  -35.68662913 &  -33.222000\\\\\n",
       "\t5 & 2.894969 &  -40.3001295 &  -41.58040800 &  -39.019851\\\\\n",
       "\t72 & 2.909887 &  -40.9652233 &  -42.25140300 &  -39.679044\\\\\n",
       "\t52 & 3.217789 &  -55.6881604 &  -57.13211697 &  -54.244204\\\\\n",
       "\t27 & 3.958933 &  -98.9208466 & -101.12066342 &  -96.721030\\\\\n",
       "\t13 & 4.423934 & -131.6674048 & -134.64147839 & -128.693331\\\\\n",
       "\t64 & 4.832813 & -164.0432511 & -167.87956160 & -160.206941\\\\\n",
       "\\end{tabular}\n"
      ],
      "text/markdown": [
       "\n",
       "A data.frame: 100 × 4\n",
       "\n",
       "| <!--/--> | X &lt;dbl&gt; | fit &lt;dbl&gt; | lwr &lt;dbl&gt; | upr &lt;dbl&gt; |\n",
       "|---|---|---|---|---|\n",
       "| 31 | 0.03726853 | 4.813427 | 3.707224 | 5.919630 |\n",
       "| 75 | 0.05205545 | 5.001369 | 3.914798 | 6.087940 |\n",
       "| 83 | 0.05926121 | 5.091366 | 4.014253 | 6.168479 |\n",
       "| 25 | 0.05943916 | 5.093576 | 4.016695 | 6.170456 |\n",
       "| 60 | 0.08967408 | 5.459742 | 4.421746 | 6.497738 |\n",
       "| 24 | 0.10607262 | 5.650675 | 4.633220 | 6.668129 |\n",
       "| 98 | 0.13257141 | 5.947813 | 4.962715 | 6.932910 |\n",
       "| 3 | 0.13979526 | 6.026374 | 5.049914 | 7.002834 |\n",
       "| 2 | 0.14570673 | 6.089884 | 5.120433 | 7.059336 |\n",
       "| 9 | 0.14704599 | 6.104175 | 5.136305 | 7.072046 |\n",
       "| 1 | 0.18403658 | 6.484686 | 5.559355 | 7.410018 |\n",
       "| 34 | 0.20351035 | 6.673985 | 5.770165 | 7.577806 |\n",
       "| 56 | 0.20986658 | 6.734127 | 5.837192 | 7.631061 |\n",
       "| 97 | 0.21060689 | 6.741079 | 5.844941 | 7.637216 |\n",
       "| 39 | 0.23502745 | 6.964245 | 6.093896 | 7.834593 |\n",
       "| 62 | 0.24726425 | 7.071574 | 6.213761 | 7.929386 |\n",
       "| 93 | 0.26082824 | 7.187036 | 6.342810 | 8.031261 |\n",
       "| 95 | 0.26373826 | 7.211326 | 6.369973 | 8.052679 |\n",
       "| 73 | 0.28559098 | 7.388313 | 6.568038 | 8.208587 |\n",
       "| 22 | 0.29412039 | 7.454795 | 6.642509 | 8.267080 |\n",
       "| 45 | 0.30128300 | 7.509497 | 6.703815 | 8.315179 |\n",
       "| 36 | 0.30174093 | 7.512960 | 6.707697 | 8.318223 |\n",
       "| 57 | 0.30944786 | 7.570600 | 6.772327 | 8.368872 |\n",
       "| 32 | 0.32401015 | 7.676260 | 6.890886 | 8.461634 |\n",
       "| 18 | 0.33693348 | 7.766468 | 6.992195 | 8.540740 |\n",
       "| 99 | 0.34888835 | 7.846935 | 7.082639 | 8.611231 |\n",
       "| 76 | 0.35187050 | 7.866561 | 7.104709 | 8.628412 |\n",
       "| 80 | 0.38619356 | 8.079611 | 7.344589 | 8.814633 |\n",
       "| 74 | 0.38878677 | 8.094748 | 7.361655 | 8.827841 |\n",
       "| 50 | 0.42224244 | 8.277945 | 7.568455 | 8.987435 |\n",
       "| ⋮ | ⋮ | ⋮ | ⋮ | ⋮ |\n",
       "| 6 | 1.229562 |    5.8948092 |    5.13640475 |    6.653214 |\n",
       "| 87 | 1.233792 |    5.8479185 |    5.08767506 |    6.608162 |\n",
       "| 12 | 1.237604 |    5.8053483 |    5.04344642 |    6.567250 |\n",
       "| 43 | 1.253105 |    5.6292340 |    4.86058141 |    6.397887 |\n",
       "| 42 | 1.292262 |    5.1629306 |    4.37721436 |    5.948647 |\n",
       "| 46 | 1.293125 |    5.1523071 |    4.36621503 |    5.938399 |\n",
       "| 33 | 1.320468 |    4.8079828 |    4.01000472 |    5.605961 |\n",
       "| 88 | 1.345644 |    4.4776954 |    3.66882283 |    5.286568 |\n",
       "| 10 | 1.390735 |    3.8543815 |    3.02617718 |    4.682586 |\n",
       "| 30 | 1.435285 |    3.1985143 |    2.35151666 |    4.045512 |\n",
       "| 77 | 1.565241 |    1.0579849 |    0.15855192 |    1.957418 |\n",
       "| 63 | 1.571987 |    0.9376354 |    0.03559374 |    1.839677 |\n",
       "| 86 | 1.583696 |    0.7265596 |   -0.17998151 |    1.633101 |\n",
       "| 70 | 1.784765 |   -3.3268526 |   -4.30465064 |   -2.349055 |\n",
       "| 16 | 1.876035 |   -5.4342365 |   -6.44058262 |   -4.427890 |\n",
       "| 100 | 1.899843 |   -6.0114210 |   -7.02484088 |   -4.998001 |\n",
       "| 49 | 2.007832 |   -8.7720787 |   -9.81579814 |   -7.728359 |\n",
       "| 89 | 2.100377 |  -11.3239411 |  -12.39157960 |  -10.256303 |\n",
       "| 51 | 2.178773 |  -13.6199683 |  -14.70670804 |  -12.533229 |\n",
       "| 84 | 2.283853 |  -16.8908138 |  -18.00205189 |  -15.779576 |\n",
       "| 71 | 2.312472 |  -17.8199620 |  -18.93775215 |  -16.702172 |\n",
       "| 20 | 2.364515 |  -19.5517464 |  -20.68142594 |  -18.422067 |\n",
       "| 66 | 2.730389 |  -33.2591217 |  -34.48240523 |  -32.035838 |\n",
       "| 79 | 2.759244 |  -34.4543145 |  -35.68662913 |  -33.222000 |\n",
       "| 5 | 2.894969 |  -40.3001295 |  -41.58040800 |  -39.019851 |\n",
       "| 72 | 2.909887 |  -40.9652233 |  -42.25140300 |  -39.679044 |\n",
       "| 52 | 3.217789 |  -55.6881604 |  -57.13211697 |  -54.244204 |\n",
       "| 27 | 3.958933 |  -98.9208466 | -101.12066342 |  -96.721030 |\n",
       "| 13 | 4.423934 | -131.6674048 | -134.64147839 | -128.693331 |\n",
       "| 64 | 4.832813 | -164.0432511 | -167.87956160 | -160.206941 |\n",
       "\n"
      ],
      "text/plain": [
       "    X          fit          lwr           upr        \n",
       "31  0.03726853 4.813427     3.707224      5.919630   \n",
       "75  0.05205545 5.001369     3.914798      6.087940   \n",
       "83  0.05926121 5.091366     4.014253      6.168479   \n",
       "25  0.05943916 5.093576     4.016695      6.170456   \n",
       "60  0.08967408 5.459742     4.421746      6.497738   \n",
       "24  0.10607262 5.650675     4.633220      6.668129   \n",
       "98  0.13257141 5.947813     4.962715      6.932910   \n",
       "3   0.13979526 6.026374     5.049914      7.002834   \n",
       "2   0.14570673 6.089884     5.120433      7.059336   \n",
       "9   0.14704599 6.104175     5.136305      7.072046   \n",
       "1   0.18403658 6.484686     5.559355      7.410018   \n",
       "34  0.20351035 6.673985     5.770165      7.577806   \n",
       "56  0.20986658 6.734127     5.837192      7.631061   \n",
       "97  0.21060689 6.741079     5.844941      7.637216   \n",
       "39  0.23502745 6.964245     6.093896      7.834593   \n",
       "62  0.24726425 7.071574     6.213761      7.929386   \n",
       "93  0.26082824 7.187036     6.342810      8.031261   \n",
       "95  0.26373826 7.211326     6.369973      8.052679   \n",
       "73  0.28559098 7.388313     6.568038      8.208587   \n",
       "22  0.29412039 7.454795     6.642509      8.267080   \n",
       "45  0.30128300 7.509497     6.703815      8.315179   \n",
       "36  0.30174093 7.512960     6.707697      8.318223   \n",
       "57  0.30944786 7.570600     6.772327      8.368872   \n",
       "32  0.32401015 7.676260     6.890886      8.461634   \n",
       "18  0.33693348 7.766468     6.992195      8.540740   \n",
       "99  0.34888835 7.846935     7.082639      8.611231   \n",
       "76  0.35187050 7.866561     7.104709      8.628412   \n",
       "80  0.38619356 8.079611     7.344589      8.814633   \n",
       "74  0.38878677 8.094748     7.361655      8.827841   \n",
       "50  0.42224244 8.277945     7.568455      8.987435   \n",
       "⋮   ⋮          ⋮            ⋮             ⋮          \n",
       "6   1.229562      5.8948092    5.13640475    6.653214\n",
       "87  1.233792      5.8479185    5.08767506    6.608162\n",
       "12  1.237604      5.8053483    5.04344642    6.567250\n",
       "43  1.253105      5.6292340    4.86058141    6.397887\n",
       "42  1.292262      5.1629306    4.37721436    5.948647\n",
       "46  1.293125      5.1523071    4.36621503    5.938399\n",
       "33  1.320468      4.8079828    4.01000472    5.605961\n",
       "88  1.345644      4.4776954    3.66882283    5.286568\n",
       "10  1.390735      3.8543815    3.02617718    4.682586\n",
       "30  1.435285      3.1985143    2.35151666    4.045512\n",
       "77  1.565241      1.0579849    0.15855192    1.957418\n",
       "63  1.571987      0.9376354    0.03559374    1.839677\n",
       "86  1.583696      0.7265596   -0.17998151    1.633101\n",
       "70  1.784765     -3.3268526   -4.30465064   -2.349055\n",
       "16  1.876035     -5.4342365   -6.44058262   -4.427890\n",
       "100 1.899843     -6.0114210   -7.02484088   -4.998001\n",
       "49  2.007832     -8.7720787   -9.81579814   -7.728359\n",
       "89  2.100377    -11.3239411  -12.39157960  -10.256303\n",
       "51  2.178773    -13.6199683  -14.70670804  -12.533229\n",
       "84  2.283853    -16.8908138  -18.00205189  -15.779576\n",
       "71  2.312472    -17.8199620  -18.93775215  -16.702172\n",
       "20  2.364515    -19.5517464  -20.68142594  -18.422067\n",
       "66  2.730389    -33.2591217  -34.48240523  -32.035838\n",
       "79  2.759244    -34.4543145  -35.68662913  -33.222000\n",
       "5   2.894969    -40.3001295  -41.58040800  -39.019851\n",
       "72  2.909887    -40.9652233  -42.25140300  -39.679044\n",
       "52  3.217789    -55.6881604  -57.13211697  -54.244204\n",
       "27  3.958933    -98.9208466 -101.12066342  -96.721030\n",
       "13  4.423934   -131.6674048 -134.64147839 -128.693331\n",
       "64  4.832813   -164.0432511 -167.87956160 -160.206941"
      ]
     },
     "metadata": {},
     "output_type": "display_data"
    }
   ],
   "source": [
    "# Ordenamos los para las predicciones\n",
    "df = data.frame(X,pred)\n",
    "df_ordenado = df[order(df$X), ]\n",
    "df_ordenado"
   ]
  },
  {
   "cell_type": "code",
   "execution_count": 264,
   "id": "bf1ff0c4-a0fb-47c0-a59d-12ff5cdba854",
   "metadata": {
    "scrolled": true
   },
   "outputs": [
    {
     "data": {
      "image/png": "[encoded data removed]",
      "text/plain": [
       "plot without title"
      ]
     },
     "metadata": {
      "image/png": {
       "height": 420,
       "width": 420
      }
     },
     "output_type": "display_data"
    }
   ],
   "source": [
    "plot(X,Y)\n",
    "points(x = df_ordenado$X, y = df_ordenado$fit, col='red', type = 'l') # l,s,p\n",
    "points(x = df_ordenado$X, y = df_ordenado$lwr, col='blue', type = 'l') # l,s,p\n",
    "points(x = df_ordenado$X, y = df_ordenado$upr, col='blue', type = 'l') # l,s,p"
   ]
  },
  {
   "cell_type": "markdown",
   "id": "170fe923-4ec3-4b7d-9bff-9238c86ea762",
   "metadata": {},
   "source": [
    "## Propiedades de los estimadores\n",
    "Ahora sacaremos algunas conclusiones sobre los estimadores en particular sus intervalos de confianza."
   ]
  },
  {
   "cell_type": "code",
   "execution_count": 265,
   "id": "6dd268df-b009-43f8-843d-4b46aaf22c95",
   "metadata": {},
   "outputs": [
    {
     "data": {
      "text/plain": [
       "\n",
       "Call:\n",
       "lm(formula = Y ~ X + X2)\n",
       "\n",
       "Coefficients:\n",
       "(Intercept)            X           X2  \n",
       "       4.32        13.61       -10.02  \n"
      ]
     },
     "metadata": {},
     "output_type": "display_data"
    }
   ],
   "source": [
    "reg2"
   ]
  },
  {
   "cell_type": "code",
   "execution_count": 266,
   "id": "43f553b2-1dd4-4ab3-a8c1-924b1cee81f6",
   "metadata": {},
   "outputs": [
    {
     "data": {
      "text/html": [
       "<table class=\"dataframe\">\n",
       "<caption>A matrix: 3 × 2 of type dbl</caption>\n",
       "<thead>\n",
       "\t<tr><th></th><th scope=col>2.5 %</th><th scope=col>97.5 %</th></tr>\n",
       "</thead>\n",
       "<tbody>\n",
       "\t<tr><th scope=row>(Intercept)</th><td>  3.163308</td><td> 5.477285</td></tr>\n",
       "\t<tr><th scope=row>X</th><td> 11.939833</td><td>15.270943</td></tr>\n",
       "\t<tr><th scope=row>X2</th><td>-10.440158</td><td>-9.607372</td></tr>\n",
       "</tbody>\n",
       "</table>\n"
      ],
      "text/latex": [
       "A matrix: 3 × 2 of type dbl\n",
       "\\begin{tabular}{r|ll}\n",
       "  & 2.5 \\% & 97.5 \\%\\\\\n",
       "\\hline\n",
       "\t(Intercept) &   3.163308 &  5.477285\\\\\n",
       "\tX &  11.939833 & 15.270943\\\\\n",
       "\tX2 & -10.440158 & -9.607372\\\\\n",
       "\\end{tabular}\n"
      ],
      "text/markdown": [
       "\n",
       "A matrix: 3 × 2 of type dbl\n",
       "\n",
       "| <!--/--> | 2.5 % | 97.5 % |\n",
       "|---|---|---|\n",
       "| (Intercept) |   3.163308 |  5.477285 |\n",
       "| X |  11.939833 | 15.270943 |\n",
       "| X2 | -10.440158 | -9.607372 |\n",
       "\n"
      ],
      "text/plain": [
       "            2.5 %      97.5 %   \n",
       "(Intercept)   3.163308  5.477285\n",
       "X            11.939833 15.270943\n",
       "X2          -10.440158 -9.607372"
      ]
     },
     "metadata": {},
     "output_type": "display_data"
    }
   ],
   "source": [
    "confint(reg2,level = 0.95)"
   ]
  },
  {
   "cell_type": "markdown",
   "id": "1adb3643-71b7-4244-b4af-7d1a7fa5a826",
   "metadata": {},
   "source": [
    "# Trabajo en ggplot2\n",
    "ggplot2 es una librería preferente para hacer gráficos estadísticos. Realizaremos el mismo trabajo anterior en ggplot2."
   ]
  },
  {
   "cell_type": "code",
   "execution_count": 267,
   "id": "81e39bde-b69a-4022-b828-ada771fd0856",
   "metadata": {},
   "outputs": [
    {
     "data": {
      "text/html": [
       "<table class=\"dataframe\">\n",
       "<caption>A data.frame: 6 × 4</caption>\n",
       "<thead>\n",
       "\t<tr><th></th><th scope=col>X</th><th scope=col>fit</th><th scope=col>lwr</th><th scope=col>upr</th></tr>\n",
       "\t<tr><th></th><th scope=col>&lt;dbl&gt;</th><th scope=col>&lt;dbl&gt;</th><th scope=col>&lt;dbl&gt;</th><th scope=col>&lt;dbl&gt;</th></tr>\n",
       "</thead>\n",
       "<tbody>\n",
       "\t<tr><th scope=row>31</th><td>0.03726853</td><td>4.813427</td><td>3.707224</td><td>5.919630</td></tr>\n",
       "\t<tr><th scope=row>75</th><td>0.05205545</td><td>5.001369</td><td>3.914798</td><td>6.087940</td></tr>\n",
       "\t<tr><th scope=row>83</th><td>0.05926121</td><td>5.091366</td><td>4.014253</td><td>6.168479</td></tr>\n",
       "\t<tr><th scope=row>25</th><td>0.05943916</td><td>5.093576</td><td>4.016695</td><td>6.170456</td></tr>\n",
       "\t<tr><th scope=row>60</th><td>0.08967408</td><td>5.459742</td><td>4.421746</td><td>6.497738</td></tr>\n",
       "\t<tr><th scope=row>24</th><td>0.10607262</td><td>5.650675</td><td>4.633220</td><td>6.668129</td></tr>\n",
       "</tbody>\n",
       "</table>\n"
      ],
      "text/latex": [
       "A data.frame: 6 × 4\n",
       "\\begin{tabular}{r|llll}\n",
       "  & X & fit & lwr & upr\\\\\n",
       "  & <dbl> & <dbl> & <dbl> & <dbl>\\\\\n",
       "\\hline\n",
       "\t31 & 0.03726853 & 4.813427 & 3.707224 & 5.919630\\\\\n",
       "\t75 & 0.05205545 & 5.001369 & 3.914798 & 6.087940\\\\\n",
       "\t83 & 0.05926121 & 5.091366 & 4.014253 & 6.168479\\\\\n",
       "\t25 & 0.05943916 & 5.093576 & 4.016695 & 6.170456\\\\\n",
       "\t60 & 0.08967408 & 5.459742 & 4.421746 & 6.497738\\\\\n",
       "\t24 & 0.10607262 & 5.650675 & 4.633220 & 6.668129\\\\\n",
       "\\end{tabular}\n"
      ],
      "text/markdown": [
       "\n",
       "A data.frame: 6 × 4\n",
       "\n",
       "| <!--/--> | X &lt;dbl&gt; | fit &lt;dbl&gt; | lwr &lt;dbl&gt; | upr &lt;dbl&gt; |\n",
       "|---|---|---|---|---|\n",
       "| 31 | 0.03726853 | 4.813427 | 3.707224 | 5.919630 |\n",
       "| 75 | 0.05205545 | 5.001369 | 3.914798 | 6.087940 |\n",
       "| 83 | 0.05926121 | 5.091366 | 4.014253 | 6.168479 |\n",
       "| 25 | 0.05943916 | 5.093576 | 4.016695 | 6.170456 |\n",
       "| 60 | 0.08967408 | 5.459742 | 4.421746 | 6.497738 |\n",
       "| 24 | 0.10607262 | 5.650675 | 4.633220 | 6.668129 |\n",
       "\n"
      ],
      "text/plain": [
       "   X          fit      lwr      upr     \n",
       "31 0.03726853 4.813427 3.707224 5.919630\n",
       "75 0.05205545 5.001369 3.914798 6.087940\n",
       "83 0.05926121 5.091366 4.014253 6.168479\n",
       "25 0.05943916 5.093576 4.016695 6.170456\n",
       "60 0.08967408 5.459742 4.421746 6.497738\n",
       "24 0.10607262 5.650675 4.633220 6.668129"
      ]
     },
     "metadata": {},
     "output_type": "display_data"
    }
   ],
   "source": [
    "# Resumen\n",
    "head(df_ordenado)"
   ]
  },
  {
   "cell_type": "code",
   "execution_count": 268,
   "id": "92d58633-9860-4ff6-a14c-582e99ab3625",
   "metadata": {},
   "outputs": [
    {
     "data": {
      "text/html": [
       "<table class=\"dataframe\">\n",
       "<caption>A data.frame: 6 × 2</caption>\n",
       "<thead>\n",
       "\t<tr><th></th><th scope=col>X</th><th scope=col>X2</th></tr>\n",
       "\t<tr><th></th><th scope=col>&lt;dbl&gt;</th><th scope=col>&lt;dbl&gt;</th></tr>\n",
       "</thead>\n",
       "<tbody>\n",
       "\t<tr><th scope=row>1</th><td>0.00</td><td>0.0000</td></tr>\n",
       "\t<tr><th scope=row>2</th><td>0.01</td><td>0.0001</td></tr>\n",
       "\t<tr><th scope=row>3</th><td>0.02</td><td>0.0004</td></tr>\n",
       "\t<tr><th scope=row>4</th><td>0.03</td><td>0.0009</td></tr>\n",
       "\t<tr><th scope=row>5</th><td>0.04</td><td>0.0016</td></tr>\n",
       "\t<tr><th scope=row>6</th><td>0.05</td><td>0.0025</td></tr>\n",
       "</tbody>\n",
       "</table>\n"
      ],
      "text/latex": [
       "A data.frame: 6 × 2\n",
       "\\begin{tabular}{r|ll}\n",
       "  & X & X2\\\\\n",
       "  & <dbl> & <dbl>\\\\\n",
       "\\hline\n",
       "\t1 & 0.00 & 0.0000\\\\\n",
       "\t2 & 0.01 & 0.0001\\\\\n",
       "\t3 & 0.02 & 0.0004\\\\\n",
       "\t4 & 0.03 & 0.0009\\\\\n",
       "\t5 & 0.04 & 0.0016\\\\\n",
       "\t6 & 0.05 & 0.0025\\\\\n",
       "\\end{tabular}\n"
      ],
      "text/markdown": [
       "\n",
       "A data.frame: 6 × 2\n",
       "\n",
       "| <!--/--> | X &lt;dbl&gt; | X2 &lt;dbl&gt; |\n",
       "|---|---|---|\n",
       "| 1 | 0.00 | 0.0000 |\n",
       "| 2 | 0.01 | 0.0001 |\n",
       "| 3 | 0.02 | 0.0004 |\n",
       "| 4 | 0.03 | 0.0009 |\n",
       "| 5 | 0.04 | 0.0016 |\n",
       "| 6 | 0.05 | 0.0025 |\n",
       "\n"
      ],
      "text/plain": [
       "  X    X2    \n",
       "1 0.00 0.0000\n",
       "2 0.01 0.0001\n",
       "3 0.02 0.0004\n",
       "4 0.03 0.0009\n",
       "5 0.04 0.0016\n",
       "6 0.05 0.0025"
      ]
     },
     "metadata": {},
     "output_type": "display_data"
    }
   ],
   "source": [
    "#install.packages('ggplot2')\n",
    "library('ggplot2')\n",
    "eje.x= data.frame(seq(0,5,0.01))\n",
    "eje.x2= data.frame(seq(0,5,0.01)^2)\n",
    "dataX=cbind(eje.x,eje.x2)\n",
    "names(dataX) = c('X','X2')\n",
    "head(dataX)"
   ]
  },
  {
   "cell_type": "code",
   "execution_count": 269,
   "id": "ccb3b233-a7dd-4ab5-9f8c-4bab4b93624e",
   "metadata": {},
   "outputs": [
    {
     "data": {
      "text/html": [
       "<table class=\"dataframe\">\n",
       "<caption>A matrix: 6 × 3 of type dbl</caption>\n",
       "<thead>\n",
       "\t<tr><th></th><th scope=col>fit</th><th scope=col>lwr</th><th scope=col>upr</th></tr>\n",
       "</thead>\n",
       "<tbody>\n",
       "\t<tr><th scope=row>1</th><td>  6.484686</td><td>  5.559355</td><td>  7.410018</td></tr>\n",
       "\t<tr><th scope=row>2</th><td>  6.089884</td><td>  5.120433</td><td>  7.059336</td></tr>\n",
       "\t<tr><th scope=row>3</th><td>  6.026374</td><td>  5.049914</td><td>  7.002834</td></tr>\n",
       "\t<tr><th scope=row>4</th><td>  8.347102</td><td>  7.646665</td><td>  9.047539</td></tr>\n",
       "\t<tr><th scope=row>5</th><td>-40.300130</td><td>-41.580408</td><td>-39.019851</td></tr>\n",
       "\t<tr><th scope=row>6</th><td>  5.894809</td><td>  5.136405</td><td>  6.653214</td></tr>\n",
       "</tbody>\n",
       "</table>\n"
      ],
      "text/latex": [
       "A matrix: 6 × 3 of type dbl\n",
       "\\begin{tabular}{r|lll}\n",
       "  & fit & lwr & upr\\\\\n",
       "\\hline\n",
       "\t1 &   6.484686 &   5.559355 &   7.410018\\\\\n",
       "\t2 &   6.089884 &   5.120433 &   7.059336\\\\\n",
       "\t3 &   6.026374 &   5.049914 &   7.002834\\\\\n",
       "\t4 &   8.347102 &   7.646665 &   9.047539\\\\\n",
       "\t5 & -40.300130 & -41.580408 & -39.019851\\\\\n",
       "\t6 &   5.894809 &   5.136405 &   6.653214\\\\\n",
       "\\end{tabular}\n"
      ],
      "text/markdown": [
       "\n",
       "A matrix: 6 × 3 of type dbl\n",
       "\n",
       "| <!--/--> | fit | lwr | upr |\n",
       "|---|---|---|---|\n",
       "| 1 |   6.484686 |   5.559355 |   7.410018 |\n",
       "| 2 |   6.089884 |   5.120433 |   7.059336 |\n",
       "| 3 |   6.026374 |   5.049914 |   7.002834 |\n",
       "| 4 |   8.347102 |   7.646665 |   9.047539 |\n",
       "| 5 | -40.300130 | -41.580408 | -39.019851 |\n",
       "| 6 |   5.894809 |   5.136405 |   6.653214 |\n",
       "\n"
      ],
      "text/plain": [
       "  fit        lwr        upr       \n",
       "1   6.484686   5.559355   7.410018\n",
       "2   6.089884   5.120433   7.059336\n",
       "3   6.026374   5.049914   7.002834\n",
       "4   8.347102   7.646665   9.047539\n",
       "5 -40.300130 -41.580408 -39.019851\n",
       "6   5.894809   5.136405   6.653214"
      ]
     },
     "metadata": {},
     "output_type": "display_data"
    }
   ],
   "source": [
    "pred_df = predict(reg2, newdata = dataX, interval = \"confidence\")\n",
    "head(pred)"
   ]
  },
  {
   "cell_type": "code",
   "execution_count": 270,
   "id": "0a3a2d0c-5519-4caa-963c-0ca2e9b71843",
   "metadata": {},
   "outputs": [
    {
     "data": {
      "image/png": "[encoded data removed]",
      "text/plain": [
       "plot without title"
      ]
     },
     "metadata": {
      "image/png": {
       "height": 420,
       "width": 420
      }
     },
     "output_type": "display_data"
    }
   ],
   "source": [
    "ggplot(pred_df, aes(x = dataX$X)) +\n",
    "  geom_point(data = data.frame(X,Y) , aes(x = X, y = Y), color = \"red\") +\n",
    "  geom_ribbon(aes(ymin = lwr, ymax = upr), alpha = 0.2) +\n",
    "  geom_line(aes(y = fit), color = \"blue\") +\n",
    "  xlab('Distancia alejada al reactor') +\n",
    "  ylab('Temperatura') +\n",
    "  ggtitle('Distancia V/S Temperatura')+\n",
    "  theme_minimal()"
   ]
  },
  {
   "cell_type": "code",
   "execution_count": 271,
   "id": "907bc02f-9b05-4c33-bb04-d444010379db",
   "metadata": {},
   "outputs": [
    {
     "name": "stderr",
     "output_type": "stream",
     "text": [
      "Warning message:\n",
      "\"\u001b[1m\u001b[22mRemoved 14 rows containing missing values or values outside the scale range (`geom_point()`).\"\n",
      "Warning message:\n",
      "\"\u001b[1m\u001b[22mRemoved 300 rows containing missing values or values outside the scale range (`geom_line()`).\"\n"
     ]
    },
    {
     "data": {
      "image/png": "[encoded data removed]",
      "text/plain": [
       "plot without title"
      ]
     },
     "metadata": {
      "image/png": {
       "height": 420,
       "width": 420
      }
     },
     "output_type": "display_data"
    }
   ],
   "source": [
    "ggplot(pred_df, aes(x = dataX$X)) +\n",
    "  geom_point(data = data.frame(X,Y) , aes(x = X, y = Y), color = \"red\") +\n",
    "  geom_ribbon(aes(ymin = lwr, ymax = upr), alpha = 0.2) +\n",
    "  geom_line(aes(y = fit), color = \"blue\") +\n",
    "  xlab('Distancia alejada al reactor') +\n",
    "  ylab('Temperatura') +\n",
    "  ggtitle('Distancia V/S Temperatura')+\n",
    "  xlim(c(0, 2)) +\n",
    "  ylim(c(-15,20)) +\n",
    "  theme_minimal()"
   ]
  }
 ],
 "metadata": {
  "kernelspec": {
   "display_name": "R",
   "language": "R",
   "name": "ir"
  },
  "language_info": {
   "codemirror_mode": "r",
   "file_extension": ".r",
   "mimetype": "text/x-r-source",
   "name": "R",
   "pygments_lexer": "r",
   "version": "4.3.3"
  }
 },
 "nbformat": 4,
 "nbformat_minor": 5
}
