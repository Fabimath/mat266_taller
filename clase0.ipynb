{
 "cells": [
  {
   "cell_type": "markdown",
   "id": "1fc91561-7de3-467c-b7d8-fc525c49aee7",
   "metadata": {},
   "source": [
    "# Taller MAT266 - Análisis de Regresión\n",
    "## Clase 0, Introducción a la programación orientada a objetos\n",
    "\n",
    "- **Profesor**: Fabián Ramírez D.\n",
    "- **Correo**: fabian.ramirez@usm.cl\n",
    "- **Horario de consultas**: Martes y Jueves de 10 a 11 am.\n",
    "- **Drive de clases**: [Google Drive](https://drive.google.com/drive/folders/1xdMwRpCPjrmnZ8nztXAx0Q6oSwvehyx4?usp=sharing), [GitHub](https://github.com/Fabimath/mat266_taller)\n",
    "\n",
    "\n",
    "## Instructivo\n",
    "\n",
    "### Instalación de Jupyter y R\n",
    "\n",
    "1. **Descargar Miniconda**. Puedes descargarlo desde [aquí](https://docs.anaconda.com/free/miniconda/index.html).\n",
    "2. **Instalar Miniconda**.\n",
    "3. **Abrir Anaconda Prompt**.\n",
    "4. **Instalar Jupyter**. Puedes hacerlo con el comando `pip install jupyter`.\n",
    "5. **Revisar la instalación**. Escribe `jupyter lab` en la consola.\n",
    "6. **Instalar R**. Puedes descargarlo desde [aquí](https://cran.r-project.org/bin/windows/base/).\n",
    "7. **Navegar a la carpeta del R**. Usa `cd C:\\Program Files\\R\\R-4.3.3\\bin`.\n",
    "8. **Abrir R desde la consola**.\n",
    "9. **Instalar paquetes necesarios**. Ejecuta los siguientes comandos en R:\n",
    "    ```R\n",
    "    install.packages(c('repr', 'IRdisplay', 'evaluate', 'crayon', 'pbdZMQ', 'devtools', 'uuid', 'digest'))\n",
    "    devtools::install_github('IRkernel/IRkernel')\n",
    "    IRkernel::installspec()\n",
    "    ```\n",
    "10. **Reiniciar y probar Jupyter**.\n",
    "\n",
    "### Uso de GIT\n",
    "\n",
    "1. **Crear una cuenta en GITHUB**.\n",
    "2. **Instalar git**. Abre un nuevo Anaconda Prompt y ejecuta `conda install anaconda::git`.\n",
    "3. **Crear un repositorio desde la página y clonarlo**. Usa `git clone`.\n",
    "4. **Entrar a la carpeta del repositorio**.\n",
    "5. **Actualizar el repositorio**. Usa `git pull`.\n",
    "6. **Iniciar sesión en git**. Configura tu usuario con los siguientes comandos:\n",
    "    ```bash\n",
    "    git config --global user.email \"you@example.com\"\n",
    "    git config --global user.name \"Your Name\"\n",
    "    ```\n",
    "7. **Agregar todos los archivos al repositorio**. Usa `git add --all`.\n",
    "8. **Subir los cambios al repositorio**. Usa `git push`.\n",
    "\n",
    "### Uso de trabajo\n",
    "\n",
    "1. **Abrir Jupyter y editar el readme**.\n",
    "2. **Guardar los cambios**.\n",
    "3. **En una nueva consola, ir a la carpeta de trabajo y agregar los cambios**. Usa `git add .`.\n",
    "4. **Hacer un commit de los cambios**. Usa `git commit -m 'cambios'`.\n",
    "5. **Subir los cambios al repositorio**. Usa `git push`.\n",
    "\n",
    "## Trabajo en R\n",
    "\n",
    "### Bases de datos\n",
    "\n",
    "En el mundo laboral las bases de datos generalmente vienen en 2 formatos, `.csv` y `.xlsx`, es importante tener claro el formato e idioma del archivo. A continuación se mostrarán 3 ejemplos de bases de datos:\n",
    "\n",
    "- [Base en .csv en ingles](https://raw.githubusercontent.com/Fabimath/mat266_taller/main/data_base/games.csv)\n",
    "- [Base en .csv en español]\n",
    "- [Base en .xlsx en cualquier idioma]\n"
   ]
  },
  {
   "cell_type": "code",
   "execution_count": 7,
   "id": "0214c7be-9f77-4f3b-81eb-84bf5610fa3c",
   "metadata": {},
   "outputs": [
    {
     "name": "stderr",
     "output_type": "stream",
     "text": [
      "Warning message in file(file, \"rt\"):\n",
      "\"file(\"\") permite solamente open = \"w+\" y open = \"w+b\": se usó la primera opción\"\n"
     ]
    },
    {
     "ename": "ERROR",
     "evalue": "Error in read.table(file = file, header = header, sep = sep, quote = quote, : no lines available in input\n",
     "output_type": "error",
     "traceback": [
      "Error in read.table(file = file, header = header, sep = sep, quote = quote, : no lines available in input\nTraceback:\n",
      "1. read.csv2(\"\")",
      "2. read.table(file = file, header = header, sep = sep, quote = quote, \n .     dec = dec, fill = fill, comment.char = comment.char, ...)",
      "3. stop(\"no lines available in input\")"
     ]
    }
   ],
   "source": [
    "# Comando para leer .csv en ingles (separados por ,)\n",
    "data1 = read.csv('https://raw.githubusercontent.com/Fabimath/mat266_taller/main/data_base/games.csv')\n",
    "data2 = read.csv2('')"
   ]
  }
 ],
 "metadata": {
  "kernelspec": {
   "display_name": "R",
   "language": "R",
   "name": "ir"
  },
  "language_info": {
   "codemirror_mode": "r",
   "file_extension": ".r",
   "mimetype": "text/x-r-source",
   "name": "R",
   "pygments_lexer": "r",
   "version": "4.3.3"
  }
 },
 "nbformat": 4,
 "nbformat_minor": 5
}
