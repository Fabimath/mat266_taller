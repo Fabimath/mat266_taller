{
 "cells": [
  {
   "cell_type": "markdown",
   "id": "1a6ce9d3-8b1e-45a6-982a-1fde824bd072",
   "metadata": {},
   "source": [
    "# Validación cruzada para competencia de modelos"
   ]
  },
  {
   "cell_type": "markdown",
   "id": "29d48b4b-7b70-4ddb-b234-01f0d22e955d",
   "metadata": {},
   "source": [
    "Vamos a considerar los siguientes datos"
   ]
  },
  {
   "cell_type": "code",
   "execution_count": 15,
   "id": "9c695d3d-c1f8-4769-9a4d-88086eeed870",
   "metadata": {},
   "outputs": [],
   "source": [
    "n = 20\n",
    "set.seed(0)\n",
    "x1 = rnorm(n,20,3)\n",
    "x2 = rnorm(n,30,3)\n",
    "x3 = rnorm(n,10,3)\n",
    "y = 100*rep(1,n) + 4*x1 + 2*x2 + 0.3*x3 + rnorm(n,0,10)"
   ]
  },
  {
   "cell_type": "code",
   "execution_count": 24,
   "id": "66e40607-880e-470f-957a-f81a949bd4b2",
   "metadata": {},
   "outputs": [
    {
     "data": {
      "text/html": [
       "<table class=\"dataframe\">\n",
       "<caption>A data.frame: 20 × 4</caption>\n",
       "<thead>\n",
       "\t<tr><th scope=col>Ingresos por Dolares</th><th scope=col>Ingresos por Bitcoin</th><th scope=col>Ingresos por Inversiones</th><th scope=col>Ingresos por Turismo</th></tr>\n",
       "\t<tr><th scope=col>&lt;dbl&gt;</th><th scope=col>&lt;dbl&gt;</th><th scope=col>&lt;dbl&gt;</th><th scope=col>&lt;dbl&gt;</th></tr>\n",
       "</thead>\n",
       "<tbody>\n",
       "\t<tr><td>261.9792</td><td>23.78886</td><td>29.32720</td><td>15.273709</td></tr>\n",
       "\t<tr><td>241.7438</td><td>19.02130</td><td>31.13219</td><td>11.682238</td></tr>\n",
       "\t<tr><td>249.9436</td><td>23.98940</td><td>30.40001</td><td> 8.641648</td></tr>\n",
       "\t<tr><td>261.1872</td><td>23.81729</td><td>32.41257</td><td> 7.503870</td></tr>\n",
       "\t<tr><td>238.4335</td><td>21.24392</td><td>29.82868</td><td> 6.500288</td></tr>\n",
       "\t<tr><td>229.0059</td><td>15.38015</td><td>31.51082</td><td> 6.803228</td></tr>\n",
       "\t<tr><td>222.7134</td><td>17.21430</td><td>33.25731</td><td> 5.308654</td></tr>\n",
       "\t<tr><td>240.0179</td><td>19.11584</td><td>27.92714</td><td>13.469611</td></tr>\n",
       "\t<tr><td>238.4562</td><td>19.98270</td><td>26.14620</td><td>12.496141</td></tr>\n",
       "\t<tr><td>272.5845</td><td>27.21396</td><td>30.14018</td><td> 9.318014</td></tr>\n",
       "\t<tr><td>251.1800</td><td>22.29078</td><td>29.29288</td><td>10.798412</td></tr>\n",
       "\t<tr><td>232.3889</td><td>17.60297</td><td>28.37134</td><td> 8.869892</td></tr>\n",
       "\t<tr><td>222.3354</td><td>16.55703</td><td>28.70007</td><td>17.324094</td></tr>\n",
       "\t<tr><td>233.7221</td><td>19.13162</td><td>28.05159</td><td> 7.613983</td></tr>\n",
       "\t<tr><td>250.3619</td><td>19.10235</td><td>32.18025</td><td> 9.835368</td></tr>\n",
       "\t<tr><td>256.2082</td><td>18.76547</td><td>33.45574</td><td>10.750424</td></tr>\n",
       "\t<tr><td>253.9738</td><td>20.75667</td><td>32.97648</td><td>11.854730</td></tr>\n",
       "\t<tr><td>228.3870</td><td>17.32424</td><td>28.71146</td><td> 9.482129</td></tr>\n",
       "\t<tr><td>244.5358</td><td>21.30705</td><td>33.71491</td><td> 3.328299</td></tr>\n",
       "\t<tr><td>210.9603</td><td>16.28738</td><td>29.16196</td><td> 6.209157</td></tr>\n",
       "</tbody>\n",
       "</table>\n"
      ],
      "text/latex": [
       "A data.frame: 20 × 4\n",
       "\\begin{tabular}{llll}\n",
       " Ingresos por Dolares & Ingresos por Bitcoin & Ingresos por Inversiones & Ingresos por Turismo\\\\\n",
       " <dbl> & <dbl> & <dbl> & <dbl>\\\\\n",
       "\\hline\n",
       "\t 261.9792 & 23.78886 & 29.32720 & 15.273709\\\\\n",
       "\t 241.7438 & 19.02130 & 31.13219 & 11.682238\\\\\n",
       "\t 249.9436 & 23.98940 & 30.40001 &  8.641648\\\\\n",
       "\t 261.1872 & 23.81729 & 32.41257 &  7.503870\\\\\n",
       "\t 238.4335 & 21.24392 & 29.82868 &  6.500288\\\\\n",
       "\t 229.0059 & 15.38015 & 31.51082 &  6.803228\\\\\n",
       "\t 222.7134 & 17.21430 & 33.25731 &  5.308654\\\\\n",
       "\t 240.0179 & 19.11584 & 27.92714 & 13.469611\\\\\n",
       "\t 238.4562 & 19.98270 & 26.14620 & 12.496141\\\\\n",
       "\t 272.5845 & 27.21396 & 30.14018 &  9.318014\\\\\n",
       "\t 251.1800 & 22.29078 & 29.29288 & 10.798412\\\\\n",
       "\t 232.3889 & 17.60297 & 28.37134 &  8.869892\\\\\n",
       "\t 222.3354 & 16.55703 & 28.70007 & 17.324094\\\\\n",
       "\t 233.7221 & 19.13162 & 28.05159 &  7.613983\\\\\n",
       "\t 250.3619 & 19.10235 & 32.18025 &  9.835368\\\\\n",
       "\t 256.2082 & 18.76547 & 33.45574 & 10.750424\\\\\n",
       "\t 253.9738 & 20.75667 & 32.97648 & 11.854730\\\\\n",
       "\t 228.3870 & 17.32424 & 28.71146 &  9.482129\\\\\n",
       "\t 244.5358 & 21.30705 & 33.71491 &  3.328299\\\\\n",
       "\t 210.9603 & 16.28738 & 29.16196 &  6.209157\\\\\n",
       "\\end{tabular}\n"
      ],
      "text/markdown": [
       "\n",
       "A data.frame: 20 × 4\n",
       "\n",
       "| Ingresos por Dolares &lt;dbl&gt; | Ingresos por Bitcoin &lt;dbl&gt; | Ingresos por Inversiones &lt;dbl&gt; | Ingresos por Turismo &lt;dbl&gt; |\n",
       "|---|---|---|---|\n",
       "| 261.9792 | 23.78886 | 29.32720 | 15.273709 |\n",
       "| 241.7438 | 19.02130 | 31.13219 | 11.682238 |\n",
       "| 249.9436 | 23.98940 | 30.40001 |  8.641648 |\n",
       "| 261.1872 | 23.81729 | 32.41257 |  7.503870 |\n",
       "| 238.4335 | 21.24392 | 29.82868 |  6.500288 |\n",
       "| 229.0059 | 15.38015 | 31.51082 |  6.803228 |\n",
       "| 222.7134 | 17.21430 | 33.25731 |  5.308654 |\n",
       "| 240.0179 | 19.11584 | 27.92714 | 13.469611 |\n",
       "| 238.4562 | 19.98270 | 26.14620 | 12.496141 |\n",
       "| 272.5845 | 27.21396 | 30.14018 |  9.318014 |\n",
       "| 251.1800 | 22.29078 | 29.29288 | 10.798412 |\n",
       "| 232.3889 | 17.60297 | 28.37134 |  8.869892 |\n",
       "| 222.3354 | 16.55703 | 28.70007 | 17.324094 |\n",
       "| 233.7221 | 19.13162 | 28.05159 |  7.613983 |\n",
       "| 250.3619 | 19.10235 | 32.18025 |  9.835368 |\n",
       "| 256.2082 | 18.76547 | 33.45574 | 10.750424 |\n",
       "| 253.9738 | 20.75667 | 32.97648 | 11.854730 |\n",
       "| 228.3870 | 17.32424 | 28.71146 |  9.482129 |\n",
       "| 244.5358 | 21.30705 | 33.71491 |  3.328299 |\n",
       "| 210.9603 | 16.28738 | 29.16196 |  6.209157 |\n",
       "\n"
      ],
      "text/plain": [
       "   Ingresos por Dolares Ingresos por Bitcoin Ingresos por Inversiones\n",
       "1  261.9792             23.78886             29.32720                \n",
       "2  241.7438             19.02130             31.13219                \n",
       "3  249.9436             23.98940             30.40001                \n",
       "4  261.1872             23.81729             32.41257                \n",
       "5  238.4335             21.24392             29.82868                \n",
       "6  229.0059             15.38015             31.51082                \n",
       "7  222.7134             17.21430             33.25731                \n",
       "8  240.0179             19.11584             27.92714                \n",
       "9  238.4562             19.98270             26.14620                \n",
       "10 272.5845             27.21396             30.14018                \n",
       "11 251.1800             22.29078             29.29288                \n",
       "12 232.3889             17.60297             28.37134                \n",
       "13 222.3354             16.55703             28.70007                \n",
       "14 233.7221             19.13162             28.05159                \n",
       "15 250.3619             19.10235             32.18025                \n",
       "16 256.2082             18.76547             33.45574                \n",
       "17 253.9738             20.75667             32.97648                \n",
       "18 228.3870             17.32424             28.71146                \n",
       "19 244.5358             21.30705             33.71491                \n",
       "20 210.9603             16.28738             29.16196                \n",
       "   Ingresos por Turismo\n",
       "1  15.273709           \n",
       "2  11.682238           \n",
       "3   8.641648           \n",
       "4   7.503870           \n",
       "5   6.500288           \n",
       "6   6.803228           \n",
       "7   5.308654           \n",
       "8  13.469611           \n",
       "9  12.496141           \n",
       "10  9.318014           \n",
       "11 10.798412           \n",
       "12  8.869892           \n",
       "13 17.324094           \n",
       "14  7.613983           \n",
       "15  9.835368           \n",
       "16 10.750424           \n",
       "17 11.854730           \n",
       "18  9.482129           \n",
       "19  3.328299           \n",
       "20  6.209157           "
      ]
     },
     "metadata": {},
     "output_type": "display_data"
    }
   ],
   "source": [
    "df=data.frame(y,x1,x2,x3)\n",
    "colnames(df) = c('Ingresos por Dolares', 'Ingresos por Bitcoin','Ingresos por Inversiones', 'Ingresos por Turismo')\n",
    "df\n",
    "write.csv(df,file='ingresos.csv',row.names = FALSE)"
   ]
  },
  {
   "cell_type": "code",
   "execution_count": 8,
   "id": "11c22705-decf-4ff6-9b43-a96cd13ebd3a",
   "metadata": {},
   "outputs": [
    {
     "data": {
      "text/plain": [
       "\n",
       "Call:\n",
       "lm(formula = y ~ x1 + x2 + x3, data = df)\n",
       "\n",
       "Residuals:\n",
       "     Min       1Q   Median       3Q      Max \n",
       "-11.8400  -2.8931   0.9368   3.4093   9.8357 \n",
       "\n",
       "Coefficients:\n",
       "            Estimate Std. Error t value Pr(>|t|)    \n",
       "(Intercept)  69.2680    25.7662   2.688  0.01615 *  \n",
       "x1            4.1223     0.4766   8.650 1.99e-07 ***\n",
       "x2            2.5418     0.7480   3.398  0.00368 ** \n",
       "x3            1.3683     0.4676   2.926  0.00989 ** \n",
       "---\n",
       "Signif. codes:  0 '***' 0.001 '**' 0.01 '*' 0.05 '.' 0.1 ' ' 1\n",
       "\n",
       "Residual standard error: 6.328 on 16 degrees of freedom\n",
       "Multiple R-squared:  0.8588,\tAdjusted R-squared:  0.8324 \n",
       "F-statistic: 32.45 on 3 and 16 DF,  p-value: 4.922e-07\n"
      ]
     },
     "metadata": {},
     "output_type": "display_data"
    },
    {
     "data": {
      "text/plain": [
       "\n",
       "Call:\n",
       "lm(formula = y ~ 0 + x1 + x2 + x3, data = df)\n",
       "\n",
       "Residuals:\n",
       "     Min       1Q   Median       3Q      Max \n",
       "-12.4732  -4.0617  -0.1162   5.2285  11.4611 \n",
       "\n",
       "Coefficients:\n",
       "   Estimate Std. Error t value Pr(>|t|)    \n",
       "x1   4.4622     0.5371   8.308 2.18e-07 ***\n",
       "x2   4.3858     0.3487  12.578 4.89e-10 ***\n",
       "x3   2.0234     0.4665   4.338 0.000447 ***\n",
       "---\n",
       "Signif. codes:  0 '***' 0.001 '**' 0.01 '*' 0.05 '.' 0.1 ' ' 1\n",
       "\n",
       "Residual standard error: 7.396 on 17 degrees of freedom\n",
       "Multiple R-squared:  0.9992,\tAdjusted R-squared:  0.9991 \n",
       "F-statistic:  7159 on 3 and 17 DF,  p-value: < 2.2e-16\n"
      ]
     },
     "metadata": {},
     "output_type": "display_data"
    }
   ],
   "source": [
    "summary(lm(y~x1+x2+x3,df))\n",
    "summary(lm(y~0+x1+x2+x3,df))"
   ]
  },
  {
   "cell_type": "code",
   "execution_count": null,
   "id": "f8336e19-a422-485a-adf7-ec85eb4cc4bc",
   "metadata": {},
   "outputs": [],
   "source": []
  }
 ],
 "metadata": {
  "kernelspec": {
   "display_name": "R",
   "language": "R",
   "name": "ir"
  },
  "language_info": {
   "codemirror_mode": "r",
   "file_extension": ".r",
   "mimetype": "text/x-r-source",
   "name": "R",
   "pygments_lexer": "r",
   "version": "4.3.3"
  }
 },
 "nbformat": 4,
 "nbformat_minor": 5
}
