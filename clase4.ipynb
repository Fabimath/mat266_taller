{
 "cells": [
  {
   "cell_type": "markdown",
   "id": "b3f16ce5-e02d-4c1a-b7ed-105f80b25470",
   "metadata": {},
   "source": [
    "# Álgebra lineal matricial"
   ]
  },
  {
   "cell_type": "code",
   "execution_count": 2,
   "id": "3d3d8a27-160f-48d0-9c47-25d164af77f2",
   "metadata": {},
   "outputs": [
    {
     "data": {
      "text/html": [
       "<table class=\"dataframe\">\n",
       "<caption>A data.frame: 6 × 4</caption>\n",
       "<thead>\n",
       "\t<tr><th></th><th scope=col>Ingresos.por.Dolares</th><th scope=col>Ingresos.por.Bitcoin</th><th scope=col>Ingresos.por.Inversiones</th><th scope=col>Ingresos.por.Turismo</th></tr>\n",
       "\t<tr><th></th><th scope=col>&lt;dbl&gt;</th><th scope=col>&lt;dbl&gt;</th><th scope=col>&lt;dbl&gt;</th><th scope=col>&lt;dbl&gt;</th></tr>\n",
       "</thead>\n",
       "<tbody>\n",
       "\t<tr><th scope=row>1</th><td>261.9792</td><td>23.78886</td><td>29.32720</td><td>15.273709</td></tr>\n",
       "\t<tr><th scope=row>2</th><td>241.7438</td><td>19.02130</td><td>31.13219</td><td>11.682238</td></tr>\n",
       "\t<tr><th scope=row>3</th><td>249.9436</td><td>23.98940</td><td>30.40001</td><td> 8.641648</td></tr>\n",
       "\t<tr><th scope=row>4</th><td>261.1872</td><td>23.81729</td><td>32.41257</td><td> 7.503870</td></tr>\n",
       "\t<tr><th scope=row>5</th><td>238.4335</td><td>21.24392</td><td>29.82868</td><td> 6.500288</td></tr>\n",
       "\t<tr><th scope=row>6</th><td>229.0059</td><td>15.38015</td><td>31.51082</td><td> 6.803228</td></tr>\n",
       "</tbody>\n",
       "</table>\n"
      ],
      "text/latex": [
       "A data.frame: 6 × 4\n",
       "\\begin{tabular}{r|llll}\n",
       "  & Ingresos.por.Dolares & Ingresos.por.Bitcoin & Ingresos.por.Inversiones & Ingresos.por.Turismo\\\\\n",
       "  & <dbl> & <dbl> & <dbl> & <dbl>\\\\\n",
       "\\hline\n",
       "\t1 & 261.9792 & 23.78886 & 29.32720 & 15.273709\\\\\n",
       "\t2 & 241.7438 & 19.02130 & 31.13219 & 11.682238\\\\\n",
       "\t3 & 249.9436 & 23.98940 & 30.40001 &  8.641648\\\\\n",
       "\t4 & 261.1872 & 23.81729 & 32.41257 &  7.503870\\\\\n",
       "\t5 & 238.4335 & 21.24392 & 29.82868 &  6.500288\\\\\n",
       "\t6 & 229.0059 & 15.38015 & 31.51082 &  6.803228\\\\\n",
       "\\end{tabular}\n"
      ],
      "text/markdown": [
       "\n",
       "A data.frame: 6 × 4\n",
       "\n",
       "| <!--/--> | Ingresos.por.Dolares &lt;dbl&gt; | Ingresos.por.Bitcoin &lt;dbl&gt; | Ingresos.por.Inversiones &lt;dbl&gt; | Ingresos.por.Turismo &lt;dbl&gt; |\n",
       "|---|---|---|---|---|\n",
       "| 1 | 261.9792 | 23.78886 | 29.32720 | 15.273709 |\n",
       "| 2 | 241.7438 | 19.02130 | 31.13219 | 11.682238 |\n",
       "| 3 | 249.9436 | 23.98940 | 30.40001 |  8.641648 |\n",
       "| 4 | 261.1872 | 23.81729 | 32.41257 |  7.503870 |\n",
       "| 5 | 238.4335 | 21.24392 | 29.82868 |  6.500288 |\n",
       "| 6 | 229.0059 | 15.38015 | 31.51082 |  6.803228 |\n",
       "\n"
      ],
      "text/plain": [
       "  Ingresos.por.Dolares Ingresos.por.Bitcoin Ingresos.por.Inversiones\n",
       "1 261.9792             23.78886             29.32720                \n",
       "2 241.7438             19.02130             31.13219                \n",
       "3 249.9436             23.98940             30.40001                \n",
       "4 261.1872             23.81729             32.41257                \n",
       "5 238.4335             21.24392             29.82868                \n",
       "6 229.0059             15.38015             31.51082                \n",
       "  Ingresos.por.Turismo\n",
       "1 15.273709           \n",
       "2 11.682238           \n",
       "3  8.641648           \n",
       "4  7.503870           \n",
       "5  6.500288           \n",
       "6  6.803228           "
      ]
     },
     "metadata": {},
     "output_type": "display_data"
    },
    {
     "data": {
      "text/plain": [
       " Ingresos.por.Dolares Ingresos.por.Bitcoin Ingresos.por.Inversiones\n",
       " Min.   :211.0        Min.   :15.38        Min.   :26.15           \n",
       " 1st Qu.:231.5        1st Qu.:17.53        1st Qu.:28.71           \n",
       " Median :240.9        Median :19.12        Median :29.98           \n",
       " Mean   :242.0        Mean   :19.99        Mean   :30.33           \n",
       " 3rd Qu.:251.9        3rd Qu.:21.55        3rd Qu.:32.24           \n",
       " Max.   :272.6        Max.   :27.21        Max.   :33.71           \n",
       " Ingresos.por.Turismo\n",
       " Min.   : 3.328      \n",
       " 1st Qu.: 7.329      \n",
       " Median : 9.400      \n",
       " Mean   : 9.653      \n",
       " 3rd Qu.:11.725      \n",
       " Max.   :17.324      "
      ]
     },
     "metadata": {},
     "output_type": "display_data"
    }
   ],
   "source": [
    "df = read.csv('https://raw.githubusercontent.com/Fabimath/mat266_taller/main/data_base/ingresos.csv')\n",
    "head(df)\n",
    "summary(df)colnames(df) = c('Y','X1','X2','X3')"
   ]
  },
  {
   "cell_type": "code",
   "execution_count": 3,
   "id": "108a31a5-4117-4042-9665-fff604f55317",
   "metadata": {},
   "outputs": [],
   "source": [
    "colnames(df) = c('Y','X1','X2','X3')"
   ]
  },
  {
   "cell_type": "markdown",
   "id": "e60e6279-a249-4bf4-a955-7fdf428342a5",
   "metadata": {},
   "source": [
    "### Objetivo\n",
    "Realizar un ajuste lineal sin usar Summary"
   ]
  },
  {
   "cell_type": "code",
   "execution_count": null,
   "id": "e2030ff6-df92-4e0a-95a7-85febebaae16",
   "metadata": {},
   "outputs": [],
   "source": []
  }
 ],
 "metadata": {
  "kernelspec": {
   "display_name": "R",
   "language": "R",
   "name": "ir"
  },
  "language_info": {
   "codemirror_mode": "r",
   "file_extension": ".r",
   "mimetype": "text/x-r-source",
   "name": "R",
   "pygments_lexer": "r",
   "version": "4.3.3"
  }
 },
 "nbformat": 4,
 "nbformat_minor": 5
}
