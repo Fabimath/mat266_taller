{
 "cells": [
  {
   "cell_type": "markdown",
   "id": "8c00c952-b940-41af-a3a4-b8b30d12a06b",
   "metadata": {},
   "source": [
    "# Clase 2\n",
    "## Trabajo individual\n",
    "\n",
    "### Contexto (1)\n",
    " \n",
    "Los datos a utilizar corresponden a la base de datos gpa1 que incluye una muestra de 141 estudiantes de una universidad. La base contiene las variables:\n",
    "\n",
    "    colGPA: (col:college, GPA:notas) promedio general de calificaciones de la universidad, en escala de 0 a 4 puntos\n",
    "\n",
    "    hsGPA: (hs: high school) promedio general de calificaciones en la enseñanza media, en escala de 0 a 4 puntos\n",
    "\n",
    "    ACT: puntaje en el examen de admisión a la universidad, que va de 16 a 33 puntos\n",
    "\n",
    "El objetivo de hoy es estudiar de la manera mas razonable posible colGPA en función de sus datos de entrada, en caso de ser posible."
   ]
  },
  {
   "cell_type": "code",
   "execution_count": 9,
   "id": "8f773556-9c61-472e-9be0-348442833a01",
   "metadata": {
    "scrolled": true
   },
   "outputs": [
    {
     "data": {
      "text/html": [
       "<table class=\"dataframe\">\n",
       "<caption>A data.frame: 6 × 29</caption>\n",
       "<thead>\n",
       "\t<tr><th></th><th scope=col>age</th><th scope=col>soph</th><th scope=col>junior</th><th scope=col>senior</th><th scope=col>senior5</th><th scope=col>male</th><th scope=col>campus</th><th scope=col>business</th><th scope=col>engineer</th><th scope=col>colGPA</th><th scope=col>⋯</th><th scope=col>greek</th><th scope=col>car</th><th scope=col>siblings</th><th scope=col>bgfriend</th><th scope=col>clubs</th><th scope=col>skipped</th><th scope=col>alcohol</th><th scope=col>gradMI</th><th scope=col>fathcoll</th><th scope=col>mothcoll</th></tr>\n",
       "\t<tr><th></th><th scope=col>&lt;int&gt;</th><th scope=col>&lt;int&gt;</th><th scope=col>&lt;int&gt;</th><th scope=col>&lt;int&gt;</th><th scope=col>&lt;int&gt;</th><th scope=col>&lt;int&gt;</th><th scope=col>&lt;int&gt;</th><th scope=col>&lt;int&gt;</th><th scope=col>&lt;int&gt;</th><th scope=col>&lt;dbl&gt;</th><th scope=col>⋯</th><th scope=col>&lt;int&gt;</th><th scope=col>&lt;int&gt;</th><th scope=col>&lt;int&gt;</th><th scope=col>&lt;int&gt;</th><th scope=col>&lt;int&gt;</th><th scope=col>&lt;dbl&gt;</th><th scope=col>&lt;dbl&gt;</th><th scope=col>&lt;int&gt;</th><th scope=col>&lt;int&gt;</th><th scope=col>&lt;int&gt;</th></tr>\n",
       "</thead>\n",
       "<tbody>\n",
       "\t<tr><th scope=row>1</th><td>21</td><td>0</td><td>0</td><td>1</td><td>0</td><td>0</td><td>0</td><td>1</td><td>0</td><td>3.0</td><td>⋯</td><td>0</td><td>1</td><td>1</td><td>0</td><td>0</td><td>2</td><td>1.0</td><td>1</td><td>0</td><td>0</td></tr>\n",
       "\t<tr><th scope=row>2</th><td>21</td><td>0</td><td>0</td><td>1</td><td>0</td><td>0</td><td>0</td><td>1</td><td>0</td><td>3.4</td><td>⋯</td><td>0</td><td>1</td><td>0</td><td>1</td><td>1</td><td>0</td><td>1.0</td><td>1</td><td>1</td><td>1</td></tr>\n",
       "\t<tr><th scope=row>3</th><td>20</td><td>0</td><td>1</td><td>0</td><td>0</td><td>0</td><td>0</td><td>1</td><td>0</td><td>3.0</td><td>⋯</td><td>0</td><td>1</td><td>1</td><td>0</td><td>1</td><td>0</td><td>1.0</td><td>1</td><td>1</td><td>1</td></tr>\n",
       "\t<tr><th scope=row>4</th><td>19</td><td>1</td><td>0</td><td>0</td><td>0</td><td>1</td><td>1</td><td>1</td><td>0</td><td>3.5</td><td>⋯</td><td>0</td><td>0</td><td>1</td><td>0</td><td>0</td><td>0</td><td>0.0</td><td>0</td><td>0</td><td>0</td></tr>\n",
       "\t<tr><th scope=row>5</th><td>20</td><td>0</td><td>1</td><td>0</td><td>0</td><td>0</td><td>0</td><td>1</td><td>0</td><td>3.6</td><td>⋯</td><td>0</td><td>1</td><td>1</td><td>1</td><td>0</td><td>0</td><td>1.5</td><td>1</td><td>1</td><td>0</td></tr>\n",
       "\t<tr><th scope=row>6</th><td>20</td><td>0</td><td>0</td><td>1</td><td>0</td><td>1</td><td>1</td><td>1</td><td>0</td><td>3.0</td><td>⋯</td><td>0</td><td>1</td><td>1</td><td>0</td><td>0</td><td>0</td><td>0.0</td><td>0</td><td>1</td><td>0</td></tr>\n",
       "</tbody>\n",
       "</table>\n"
      ],
      "text/latex": [
       "A data.frame: 6 × 29\n",
       "\\begin{tabular}{r|lllllllllllllllllllll}\n",
       "  & age & soph & junior & senior & senior5 & male & campus & business & engineer & colGPA & ⋯ & greek & car & siblings & bgfriend & clubs & skipped & alcohol & gradMI & fathcoll & mothcoll\\\\\n",
       "  & <int> & <int> & <int> & <int> & <int> & <int> & <int> & <int> & <int> & <dbl> & ⋯ & <int> & <int> & <int> & <int> & <int> & <dbl> & <dbl> & <int> & <int> & <int>\\\\\n",
       "\\hline\n",
       "\t1 & 21 & 0 & 0 & 1 & 0 & 0 & 0 & 1 & 0 & 3.0 & ⋯ & 0 & 1 & 1 & 0 & 0 & 2 & 1.0 & 1 & 0 & 0\\\\\n",
       "\t2 & 21 & 0 & 0 & 1 & 0 & 0 & 0 & 1 & 0 & 3.4 & ⋯ & 0 & 1 & 0 & 1 & 1 & 0 & 1.0 & 1 & 1 & 1\\\\\n",
       "\t3 & 20 & 0 & 1 & 0 & 0 & 0 & 0 & 1 & 0 & 3.0 & ⋯ & 0 & 1 & 1 & 0 & 1 & 0 & 1.0 & 1 & 1 & 1\\\\\n",
       "\t4 & 19 & 1 & 0 & 0 & 0 & 1 & 1 & 1 & 0 & 3.5 & ⋯ & 0 & 0 & 1 & 0 & 0 & 0 & 0.0 & 0 & 0 & 0\\\\\n",
       "\t5 & 20 & 0 & 1 & 0 & 0 & 0 & 0 & 1 & 0 & 3.6 & ⋯ & 0 & 1 & 1 & 1 & 0 & 0 & 1.5 & 1 & 1 & 0\\\\\n",
       "\t6 & 20 & 0 & 0 & 1 & 0 & 1 & 1 & 1 & 0 & 3.0 & ⋯ & 0 & 1 & 1 & 0 & 0 & 0 & 0.0 & 0 & 1 & 0\\\\\n",
       "\\end{tabular}\n"
      ],
      "text/markdown": [
       "\n",
       "A data.frame: 6 × 29\n",
       "\n",
       "| <!--/--> | age &lt;int&gt; | soph &lt;int&gt; | junior &lt;int&gt; | senior &lt;int&gt; | senior5 &lt;int&gt; | male &lt;int&gt; | campus &lt;int&gt; | business &lt;int&gt; | engineer &lt;int&gt; | colGPA &lt;dbl&gt; | ⋯ ⋯ | greek &lt;int&gt; | car &lt;int&gt; | siblings &lt;int&gt; | bgfriend &lt;int&gt; | clubs &lt;int&gt; | skipped &lt;dbl&gt; | alcohol &lt;dbl&gt; | gradMI &lt;int&gt; | fathcoll &lt;int&gt; | mothcoll &lt;int&gt; |\n",
       "|---|---|---|---|---|---|---|---|---|---|---|---|---|---|---|---|---|---|---|---|---|---|\n",
       "| 1 | 21 | 0 | 0 | 1 | 0 | 0 | 0 | 1 | 0 | 3.0 | ⋯ | 0 | 1 | 1 | 0 | 0 | 2 | 1.0 | 1 | 0 | 0 |\n",
       "| 2 | 21 | 0 | 0 | 1 | 0 | 0 | 0 | 1 | 0 | 3.4 | ⋯ | 0 | 1 | 0 | 1 | 1 | 0 | 1.0 | 1 | 1 | 1 |\n",
       "| 3 | 20 | 0 | 1 | 0 | 0 | 0 | 0 | 1 | 0 | 3.0 | ⋯ | 0 | 1 | 1 | 0 | 1 | 0 | 1.0 | 1 | 1 | 1 |\n",
       "| 4 | 19 | 1 | 0 | 0 | 0 | 1 | 1 | 1 | 0 | 3.5 | ⋯ | 0 | 0 | 1 | 0 | 0 | 0 | 0.0 | 0 | 0 | 0 |\n",
       "| 5 | 20 | 0 | 1 | 0 | 0 | 0 | 0 | 1 | 0 | 3.6 | ⋯ | 0 | 1 | 1 | 1 | 0 | 0 | 1.5 | 1 | 1 | 0 |\n",
       "| 6 | 20 | 0 | 0 | 1 | 0 | 1 | 1 | 1 | 0 | 3.0 | ⋯ | 0 | 1 | 1 | 0 | 0 | 0 | 0.0 | 0 | 1 | 0 |\n",
       "\n"
      ],
      "text/plain": [
       "  age soph junior senior senior5 male campus business engineer colGPA ⋯ greek\n",
       "1 21  0    0      1      0       0    0      1        0        3.0    ⋯ 0    \n",
       "2 21  0    0      1      0       0    0      1        0        3.4    ⋯ 0    \n",
       "3 20  0    1      0      0       0    0      1        0        3.0    ⋯ 0    \n",
       "4 19  1    0      0      0       1    1      1        0        3.5    ⋯ 0    \n",
       "5 20  0    1      0      0       0    0      1        0        3.6    ⋯ 0    \n",
       "6 20  0    0      1      0       1    1      1        0        3.0    ⋯ 0    \n",
       "  car siblings bgfriend clubs skipped alcohol gradMI fathcoll mothcoll\n",
       "1 1   1        0        0     2       1.0     1      0        0       \n",
       "2 1   0        1        1     0       1.0     1      1        1       \n",
       "3 1   1        0        1     0       1.0     1      1        1       \n",
       "4 0   1        0        0     0       0.0     0      0        0       \n",
       "5 1   1        1        0     0       1.5     1      1        0       \n",
       "6 1   1        0        0     0       0.0     0      1        0       "
      ]
     },
     "metadata": {},
     "output_type": "display_data"
    },
    {
     "data": {
      "text/html": [
       "<style>\n",
       ".list-inline {list-style: none; margin:0; padding: 0}\n",
       ".list-inline>li {display: inline-block}\n",
       ".list-inline>li:not(:last-child)::after {content: \"\\00b7\"; padding: 0 .5ex}\n",
       "</style>\n",
       "<ol class=list-inline><li>'age'</li><li>'soph'</li><li>'junior'</li><li>'senior'</li><li>'senior5'</li><li>'male'</li><li>'campus'</li><li>'business'</li><li>'engineer'</li><li>'colGPA'</li><li>'hsGPA'</li><li>'ACT'</li><li>'job19'</li><li>'job20'</li><li>'drive'</li><li>'bike'</li><li>'walk'</li><li>'voluntr'</li><li>'PC'</li><li>'greek'</li><li>'car'</li><li>'siblings'</li><li>'bgfriend'</li><li>'clubs'</li><li>'skipped'</li><li>'alcohol'</li><li>'gradMI'</li><li>'fathcoll'</li><li>'mothcoll'</li></ol>\n"
      ],
      "text/latex": [
       "\\begin{enumerate*}\n",
       "\\item 'age'\n",
       "\\item 'soph'\n",
       "\\item 'junior'\n",
       "\\item 'senior'\n",
       "\\item 'senior5'\n",
       "\\item 'male'\n",
       "\\item 'campus'\n",
       "\\item 'business'\n",
       "\\item 'engineer'\n",
       "\\item 'colGPA'\n",
       "\\item 'hsGPA'\n",
       "\\item 'ACT'\n",
       "\\item 'job19'\n",
       "\\item 'job20'\n",
       "\\item 'drive'\n",
       "\\item 'bike'\n",
       "\\item 'walk'\n",
       "\\item 'voluntr'\n",
       "\\item 'PC'\n",
       "\\item 'greek'\n",
       "\\item 'car'\n",
       "\\item 'siblings'\n",
       "\\item 'bgfriend'\n",
       "\\item 'clubs'\n",
       "\\item 'skipped'\n",
       "\\item 'alcohol'\n",
       "\\item 'gradMI'\n",
       "\\item 'fathcoll'\n",
       "\\item 'mothcoll'\n",
       "\\end{enumerate*}\n"
      ],
      "text/markdown": [
       "1. 'age'\n",
       "2. 'soph'\n",
       "3. 'junior'\n",
       "4. 'senior'\n",
       "5. 'senior5'\n",
       "6. 'male'\n",
       "7. 'campus'\n",
       "8. 'business'\n",
       "9. 'engineer'\n",
       "10. 'colGPA'\n",
       "11. 'hsGPA'\n",
       "12. 'ACT'\n",
       "13. 'job19'\n",
       "14. 'job20'\n",
       "15. 'drive'\n",
       "16. 'bike'\n",
       "17. 'walk'\n",
       "18. 'voluntr'\n",
       "19. 'PC'\n",
       "20. 'greek'\n",
       "21. 'car'\n",
       "22. 'siblings'\n",
       "23. 'bgfriend'\n",
       "24. 'clubs'\n",
       "25. 'skipped'\n",
       "26. 'alcohol'\n",
       "27. 'gradMI'\n",
       "28. 'fathcoll'\n",
       "29. 'mothcoll'\n",
       "\n",
       "\n"
      ],
      "text/plain": [
       " [1] \"age\"      \"soph\"     \"junior\"   \"senior\"   \"senior5\"  \"male\"    \n",
       " [7] \"campus\"   \"business\" \"engineer\" \"colGPA\"   \"hsGPA\"    \"ACT\"     \n",
       "[13] \"job19\"    \"job20\"    \"drive\"    \"bike\"     \"walk\"     \"voluntr\" \n",
       "[19] \"PC\"       \"greek\"    \"car\"      \"siblings\" \"bgfriend\" \"clubs\"   \n",
       "[25] \"skipped\"  \"alcohol\"  \"gradMI\"   \"fathcoll\" \"mothcoll\""
      ]
     },
     "metadata": {},
     "output_type": "display_data"
    }
   ],
   "source": [
    "# install.packages('wooldridge')\n",
    "# library('wooldridge')\n",
    "head(gpa1)\n",
    "names(gpa1)"
   ]
  },
  {
   "cell_type": "code",
   "execution_count": 26,
   "id": "f486ac02-d2a2-4a1d-bd18-879b424ba395",
   "metadata": {},
   "outputs": [],
   "source": [
    "# Trabaje aquí"
   ]
  },
  {
   "cell_type": "markdown",
   "id": "b0836604-05a6-4595-8981-0b5c950cd080",
   "metadata": {},
   "source": [
    "### Contexto (2)"
   ]
  },
  {
   "cell_type": "markdown",
   "id": "4f3a2b6c-5b86-4d92-b24e-c87251d86f24",
   "metadata": {},
   "source": [
    "Se pretende ajustar el siguiente modelo\n",
    "$$Y=\\alpha X_1^\\beta X_2^\\gamma X_3^\\delta \\epsilon$$\n",
    "Donde $\\epsilon$ es un ruido blanco. Utilizando la siguiente base de datos"
   ]
  },
  {
   "cell_type": "code",
   "execution_count": 25,
   "id": "e6fca311-17ba-484d-ab12-b201934a3c26",
   "metadata": {},
   "outputs": [],
   "source": [
    "x1 = c(1.76,1.55,2.73,2.73,2.56,2.8,2.8,1.84,2.16,1.98,0.59,0.8,0.8,1.05,1.8,1.8,1.77,2.3,2.03,1.91,1.91,1.91,0.76,2.13,2.13,1.51,2.05)\n",
    "x2 = c(0.07,0.07,0.07,0.07,0.07,0.07,0.07,0.07,0.07,0.02,0.02,0.02,0.02,0.02,0.02,0.02,0.02,0.02,0.474,0.474,0.474,0.474,0.474,0.474,0.474,0.474,0.474)\n",
    "x3 = c(7.8,8.9,8.9,7.2,8.4,8.7,7.4,8.7,8.8,7.6,6.5,6.7,6.2,7,7.3,6.5,7.6,8.2,7.6,8.3,8.2,6.9,7.4,7.6,6.9,7.5,7.6)\n",
    "y = c(110.4,102.8,101,108.4,100.7,100.3,102,93.7,98.9,96.6,99.4,96.2,99,88.4,75.3,92,82.4,77.1,74,65.7,56.8,62.1,61,53.2,59.4,58.7,58)"
   ]
  },
  {
   "cell_type": "markdown",
   "id": "8afa2d2f-2cff-4fe4-ad8e-893ccc051d65",
   "metadata": {},
   "source": [
    " Ajuste un modelo y comente sobre dicho modelo. Plantee mejoras al modelo"
   ]
  },
  {
   "cell_type": "code",
   "execution_count": 27,
   "id": "d64e7baa-c1b0-40a5-ad50-aa2a24cc2a0f",
   "metadata": {},
   "outputs": [],
   "source": [
    "# Trabaje aquí"
   ]
  }
 ],
 "metadata": {
  "kernelspec": {
   "display_name": "R",
   "language": "R",
   "name": "ir"
  },
  "language_info": {
   "codemirror_mode": "r",
   "file_extension": ".r",
   "mimetype": "text/x-r-source",
   "name": "R",
   "pygments_lexer": "r",
   "version": "4.3.3"
  }
 },
 "nbformat": 4,
 "nbformat_minor": 5
}
