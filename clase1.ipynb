{
 "cells": [
  {
   "cell_type": "markdown",
   "id": "87c38811-19df-4dc7-8f24-3b76b3d992c0",
   "metadata": {},
   "source": [
    "# Taller MAT266 - Análisis de Regresión\n",
    "## Clase 1, Modelos de regresión lineal multiple y sus interpretaciones"
   ]
  },
  {
   "cell_type": "code",
   "execution_count": 40,
   "id": "9ff2a5f6-9a55-4cf7-b959-d36c6f4dacd4",
   "metadata": {},
   "outputs": [
    {
     "data": {
      "text/plain": [
       "\n",
       "Call:\n",
       "lm(formula = Y ~ X)\n",
       "\n",
       "Residuals:\n",
       "    Min      1Q  Median      3Q     Max \n",
       "-71.319  -9.021   3.536  10.670  18.645 \n",
       "\n",
       "Coefficients:\n",
       "            Estimate Std. Error t value Pr(>|t|)    \n",
       "(Intercept)   23.355      2.097   11.14   <2e-16 ***\n",
       "X            -23.748      1.503  -15.80   <2e-16 ***\n",
       "---\n",
       "Signif. codes:  0 '***' 0.001 '**' 0.01 '*' 0.05 '.' 0.1 ' ' 1\n",
       "\n",
       "Residual standard error: 14.11 on 98 degrees of freedom\n",
       "Multiple R-squared:  0.7182,\tAdjusted R-squared:  0.7153 \n",
       "F-statistic: 249.7 on 1 and 98 DF,  p-value: < 2.2e-16\n"
      ]
     },
     "metadata": {},
     "output_type": "display_data"
    },
    {
     "data": {
      "text/plain": [
       "\n",
       "Call:\n",
       "lm(formula = Y ~ X + X2)\n",
       "\n",
       "Residuals:\n",
       "    Min      1Q  Median      3Q     Max \n",
       "-5.3684 -1.8831 -0.1282  1.7041  7.1271 \n",
       "\n",
       "Coefficients:\n",
       "            Estimate Std. Error t value Pr(>|t|)    \n",
       "(Intercept)   4.3203     0.5829   7.411 4.68e-11 ***\n",
       "X            13.6054     0.8392  16.213  < 2e-16 ***\n",
       "X2          -10.0238     0.2098 -47.778  < 2e-16 ***\n",
       "---\n",
       "Signif. codes:  0 '***' 0.001 '**' 0.01 '*' 0.05 '.' 0.1 ' ' 1\n",
       "\n",
       "Residual standard error: 2.864 on 97 degrees of freedom\n",
       "Multiple R-squared:  0.9885,\tAdjusted R-squared:  0.9883 \n",
       "F-statistic:  4174 on 2 and 97 DF,  p-value: < 2.2e-16\n"
      ]
     },
     "metadata": {},
     "output_type": "display_data"
    },
    {
     "data": {
      "image/png": "[encoded data removed]",
      "text/plain": [
       "plot without title"
      ]
     },
     "metadata": {
      "image/png": {
       "height": 420,
       "width": 420
      }
     },
     "output_type": "display_data"
    }
   ],
   "source": [
    "set.seed(0)\n",
    "X = rexp(100,1)\n",
    "X2 = X^2\n",
    "Y = 5 + 13*X - 10*X^2 + rnorm(length(X),0,3)\n",
    "plot(X,Y)\n",
    "summary(lm(Y~X))\n",
    "summary(lm(Y~X+X2))"
   ]
  },
  {
   "cell_type": "code",
   "execution_count": 44,
   "id": "1bb3547a-4116-4468-8533-f318b3622366",
   "metadata": {},
   "outputs": [],
   "source": [
    "data = cbind(Y,X)\n",
    "nombres = c('Temperatura','Distancia alejada del reactor')\n",
    "colnames(data) = nombres"
   ]
  },
  {
   "cell_type": "code",
   "execution_count": 46,
   "id": "1dbab7dd-e93d-4a9b-916f-18eb63bbce01",
   "metadata": {},
   "outputs": [],
   "source": [
    "write.csv(data, file = \"tu_archivo.csv\", row.names = FALSE)"
   ]
  }
 ],
 "metadata": {
  "kernelspec": {
   "display_name": "R",
   "language": "R",
   "name": "ir"
  },
  "language_info": {
   "codemirror_mode": "r",
   "file_extension": ".r",
   "mimetype": "text/x-r-source",
   "name": "R",
   "pygments_lexer": "r",
   "version": "4.3.3"
  }
 },
 "nbformat": 4,
 "nbformat_minor": 5
}
