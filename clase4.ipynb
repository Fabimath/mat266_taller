{
 "cells": [
  {
   "cell_type": "markdown",
   "id": "564eb698-61f8-405a-ac9b-aae15e3384f2",
   "metadata": {},
   "source": [
    "# Suma de cuadrados extras"
   ]
  },
  {
   "cell_type": "markdown",
   "id": "d7f37bed-6d8d-45b5-898f-00ce686f9923",
   "metadata": {},
   "source": [
    "La idea central es considerar que tengo un modelo de regresión, por ejemplo\n",
    "$$\n",
    "\n",
    "$"
   ]
  },
  {
   "cell_type": "code",
   "execution_count": 2,
   "id": "f4bd0523-c2cb-4cd4-90aa-ceba181dd69d",
   "metadata": {},
   "outputs": [
    {
     "data": {
      "text/html": [
       "48"
      ],
      "text/latex": [
       "48"
      ],
      "text/markdown": [
       "48"
      ],
      "text/plain": [
       "[1] 48"
      ]
     },
     "metadata": {},
     "output_type": "display_data"
    }
   ],
   "source": [
    "26+22"
   ]
  }
 ],
 "metadata": {
  "kernelspec": {
   "display_name": "R",
   "language": "R",
   "name": "ir"
  },
  "language_info": {
   "codemirror_mode": "r",
   "file_extension": ".r",
   "mimetype": "text/x-r-source",
   "name": "R",
   "pygments_lexer": "r",
   "version": "4.3.3"
  }
 },
 "nbformat": 4,
 "nbformat_minor": 5
}
