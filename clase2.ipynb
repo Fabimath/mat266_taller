{
 "cells": [
  {
   "cell_type": "code",
   "execution_count": 73,
   "id": "bcea8fc7-97df-450b-a6df-677a94443892",
   "metadata": {},
   "outputs": [
    {
     "data": {
      "image/png": "[encoded data removed]",
      "text/plain": [
       "plot without title"
      ]
     },
     "metadata": {
      "image/png": {
       "height": 420,
       "width": 420
      }
     },
     "output_type": "display_data"
    }
   ],
   "source": [
    "regnew = lm(colGPA ~ hsGPA + ACT, data =gpa1)\n",
    "plot(gpa1$colGPA,gpa1$ACT)"
   ]
  },
  {
   "cell_type": "markdown",
   "id": "8c00c952-b940-41af-a3a4-b8b30d12a06b",
   "metadata": {},
   "source": [
    "# Clase 2\n",
    "## Trabajo individual\n",
    "\n",
    "### Contexto (1)\n",
    " \n",
    "Los datos a utilizar corresponden a la base de datos gpa1 que incluye una muestra de 141 estudiantes de una universidad. La base contiene las variables:\n",
    "\n",
    "    colGPA: (col:college, GPA:notas) promedio general de calificaciones de la universidad, en escala de 0 a 4 puntos\n",
    "\n",
    "    hsGPA: (hs: high school) promedio general de calificaciones en la enseñanza media, en escala de 0 a 4 puntos\n",
    "\n",
    "    ACT: puntaje en el examen de admisión a la universidad, que va de 16 a 33 puntos\n",
    "\n",
    "El objetivo de hoy es estudiar de la manera mas razonable posible colGPA en función de sus datos de entrada, en caso de ser posible."
   ]
  },
  {
   "cell_type": "code",
   "execution_count": 9,
   "id": "8f773556-9c61-472e-9be0-348442833a01",
   "metadata": {
    "scrolled": true
   },
   "outputs": [
    {
     "data": {
      "text/html": [
       "<table class=\"dataframe\">\n",
       "<caption>A data.frame: 6 × 29</caption>\n",
       "<thead>\n",
       "\t<tr><th></th><th scope=col>age</th><th scope=col>soph</th><th scope=col>junior</th><th scope=col>senior</th><th scope=col>senior5</th><th scope=col>male</th><th scope=col>campus</th><th scope=col>business</th><th scope=col>engineer</th><th scope=col>colGPA</th><th scope=col>⋯</th><th scope=col>greek</th><th scope=col>car</th><th scope=col>siblings</th><th scope=col>bgfriend</th><th scope=col>clubs</th><th scope=col>skipped</th><th scope=col>alcohol</th><th scope=col>gradMI</th><th scope=col>fathcoll</th><th scope=col>mothcoll</th></tr>\n",
       "\t<tr><th></th><th scope=col>&lt;int&gt;</th><th scope=col>&lt;int&gt;</th><th scope=col>&lt;int&gt;</th><th scope=col>&lt;int&gt;</th><th scope=col>&lt;int&gt;</th><th scope=col>&lt;int&gt;</th><th scope=col>&lt;int&gt;</th><th scope=col>&lt;int&gt;</th><th scope=col>&lt;int&gt;</th><th scope=col>&lt;dbl&gt;</th><th scope=col>⋯</th><th scope=col>&lt;int&gt;</th><th scope=col>&lt;int&gt;</th><th scope=col>&lt;int&gt;</th><th scope=col>&lt;int&gt;</th><th scope=col>&lt;int&gt;</th><th scope=col>&lt;dbl&gt;</th><th scope=col>&lt;dbl&gt;</th><th scope=col>&lt;int&gt;</th><th scope=col>&lt;int&gt;</th><th scope=col>&lt;int&gt;</th></tr>\n",
       "</thead>\n",
       "<tbody>\n",
       "\t<tr><th scope=row>1</th><td>21</td><td>0</td><td>0</td><td>1</td><td>0</td><td>0</td><td>0</td><td>1</td><td>0</td><td>3.0</td><td>⋯</td><td>0</td><td>1</td><td>1</td><td>0</td><td>0</td><td>2</td><td>1.0</td><td>1</td><td>0</td><td>0</td></tr>\n",
       "\t<tr><th scope=row>2</th><td>21</td><td>0</td><td>0</td><td>1</td><td>0</td><td>0</td><td>0</td><td>1</td><td>0</td><td>3.4</td><td>⋯</td><td>0</td><td>1</td><td>0</td><td>1</td><td>1</td><td>0</td><td>1.0</td><td>1</td><td>1</td><td>1</td></tr>\n",
       "\t<tr><th scope=row>3</th><td>20</td><td>0</td><td>1</td><td>0</td><td>0</td><td>0</td><td>0</td><td>1</td><td>0</td><td>3.0</td><td>⋯</td><td>0</td><td>1</td><td>1</td><td>0</td><td>1</td><td>0</td><td>1.0</td><td>1</td><td>1</td><td>1</td></tr>\n",
       "\t<tr><th scope=row>4</th><td>19</td><td>1</td><td>0</td><td>0</td><td>0</td><td>1</td><td>1</td><td>1</td><td>0</td><td>3.5</td><td>⋯</td><td>0</td><td>0</td><td>1</td><td>0</td><td>0</td><td>0</td><td>0.0</td><td>0</td><td>0</td><td>0</td></tr>\n",
       "\t<tr><th scope=row>5</th><td>20</td><td>0</td><td>1</td><td>0</td><td>0</td><td>0</td><td>0</td><td>1</td><td>0</td><td>3.6</td><td>⋯</td><td>0</td><td>1</td><td>1</td><td>1</td><td>0</td><td>0</td><td>1.5</td><td>1</td><td>1</td><td>0</td></tr>\n",
       "\t<tr><th scope=row>6</th><td>20</td><td>0</td><td>0</td><td>1</td><td>0</td><td>1</td><td>1</td><td>1</td><td>0</td><td>3.0</td><td>⋯</td><td>0</td><td>1</td><td>1</td><td>0</td><td>0</td><td>0</td><td>0.0</td><td>0</td><td>1</td><td>0</td></tr>\n",
       "</tbody>\n",
       "</table>\n"
      ],
      "text/latex": [
       "A data.frame: 6 × 29\n",
       "\\begin{tabular}{r|lllllllllllllllllllll}\n",
       "  & age & soph & junior & senior & senior5 & male & campus & business & engineer & colGPA & ⋯ & greek & car & siblings & bgfriend & clubs & skipped & alcohol & gradMI & fathcoll & mothcoll\\\\\n",
       "  & <int> & <int> & <int> & <int> & <int> & <int> & <int> & <int> & <int> & <dbl> & ⋯ & <int> & <int> & <int> & <int> & <int> & <dbl> & <dbl> & <int> & <int> & <int>\\\\\n",
       "\\hline\n",
       "\t1 & 21 & 0 & 0 & 1 & 0 & 0 & 0 & 1 & 0 & 3.0 & ⋯ & 0 & 1 & 1 & 0 & 0 & 2 & 1.0 & 1 & 0 & 0\\\\\n",
       "\t2 & 21 & 0 & 0 & 1 & 0 & 0 & 0 & 1 & 0 & 3.4 & ⋯ & 0 & 1 & 0 & 1 & 1 & 0 & 1.0 & 1 & 1 & 1\\\\\n",
       "\t3 & 20 & 0 & 1 & 0 & 0 & 0 & 0 & 1 & 0 & 3.0 & ⋯ & 0 & 1 & 1 & 0 & 1 & 0 & 1.0 & 1 & 1 & 1\\\\\n",
       "\t4 & 19 & 1 & 0 & 0 & 0 & 1 & 1 & 1 & 0 & 3.5 & ⋯ & 0 & 0 & 1 & 0 & 0 & 0 & 0.0 & 0 & 0 & 0\\\\\n",
       "\t5 & 20 & 0 & 1 & 0 & 0 & 0 & 0 & 1 & 0 & 3.6 & ⋯ & 0 & 1 & 1 & 1 & 0 & 0 & 1.5 & 1 & 1 & 0\\\\\n",
       "\t6 & 20 & 0 & 0 & 1 & 0 & 1 & 1 & 1 & 0 & 3.0 & ⋯ & 0 & 1 & 1 & 0 & 0 & 0 & 0.0 & 0 & 1 & 0\\\\\n",
       "\\end{tabular}\n"
      ],
      "text/markdown": [
       "\n",
       "A data.frame: 6 × 29\n",
       "\n",
       "| <!--/--> | age &lt;int&gt; | soph &lt;int&gt; | junior &lt;int&gt; | senior &lt;int&gt; | senior5 &lt;int&gt; | male &lt;int&gt; | campus &lt;int&gt; | business &lt;int&gt; | engineer &lt;int&gt; | colGPA &lt;dbl&gt; | ⋯ ⋯ | greek &lt;int&gt; | car &lt;int&gt; | siblings &lt;int&gt; | bgfriend &lt;int&gt; | clubs &lt;int&gt; | skipped &lt;dbl&gt; | alcohol &lt;dbl&gt; | gradMI &lt;int&gt; | fathcoll &lt;int&gt; | mothcoll &lt;int&gt; |\n",
       "|---|---|---|---|---|---|---|---|---|---|---|---|---|---|---|---|---|---|---|---|---|---|\n",
       "| 1 | 21 | 0 | 0 | 1 | 0 | 0 | 0 | 1 | 0 | 3.0 | ⋯ | 0 | 1 | 1 | 0 | 0 | 2 | 1.0 | 1 | 0 | 0 |\n",
       "| 2 | 21 | 0 | 0 | 1 | 0 | 0 | 0 | 1 | 0 | 3.4 | ⋯ | 0 | 1 | 0 | 1 | 1 | 0 | 1.0 | 1 | 1 | 1 |\n",
       "| 3 | 20 | 0 | 1 | 0 | 0 | 0 | 0 | 1 | 0 | 3.0 | ⋯ | 0 | 1 | 1 | 0 | 1 | 0 | 1.0 | 1 | 1 | 1 |\n",
       "| 4 | 19 | 1 | 0 | 0 | 0 | 1 | 1 | 1 | 0 | 3.5 | ⋯ | 0 | 0 | 1 | 0 | 0 | 0 | 0.0 | 0 | 0 | 0 |\n",
       "| 5 | 20 | 0 | 1 | 0 | 0 | 0 | 0 | 1 | 0 | 3.6 | ⋯ | 0 | 1 | 1 | 1 | 0 | 0 | 1.5 | 1 | 1 | 0 |\n",
       "| 6 | 20 | 0 | 0 | 1 | 0 | 1 | 1 | 1 | 0 | 3.0 | ⋯ | 0 | 1 | 1 | 0 | 0 | 0 | 0.0 | 0 | 1 | 0 |\n",
       "\n"
      ],
      "text/plain": [
       "  age soph junior senior senior5 male campus business engineer colGPA ⋯ greek\n",
       "1 21  0    0      1      0       0    0      1        0        3.0    ⋯ 0    \n",
       "2 21  0    0      1      0       0    0      1        0        3.4    ⋯ 0    \n",
       "3 20  0    1      0      0       0    0      1        0        3.0    ⋯ 0    \n",
       "4 19  1    0      0      0       1    1      1        0        3.5    ⋯ 0    \n",
       "5 20  0    1      0      0       0    0      1        0        3.6    ⋯ 0    \n",
       "6 20  0    0      1      0       1    1      1        0        3.0    ⋯ 0    \n",
       "  car siblings bgfriend clubs skipped alcohol gradMI fathcoll mothcoll\n",
       "1 1   1        0        0     2       1.0     1      0        0       \n",
       "2 1   0        1        1     0       1.0     1      1        1       \n",
       "3 1   1        0        1     0       1.0     1      1        1       \n",
       "4 0   1        0        0     0       0.0     0      0        0       \n",
       "5 1   1        1        0     0       1.5     1      1        0       \n",
       "6 1   1        0        0     0       0.0     0      1        0       "
      ]
     },
     "metadata": {},
     "output_type": "display_data"
    },
    {
     "data": {
      "text/html": [
       "<style>\n",
       ".list-inline {list-style: none; margin:0; padding: 0}\n",
       ".list-inline>li {display: inline-block}\n",
       ".list-inline>li:not(:last-child)::after {content: \"\\00b7\"; padding: 0 .5ex}\n",
       "</style>\n",
       "<ol class=list-inline><li>'age'</li><li>'soph'</li><li>'junior'</li><li>'senior'</li><li>'senior5'</li><li>'male'</li><li>'campus'</li><li>'business'</li><li>'engineer'</li><li>'colGPA'</li><li>'hsGPA'</li><li>'ACT'</li><li>'job19'</li><li>'job20'</li><li>'drive'</li><li>'bike'</li><li>'walk'</li><li>'voluntr'</li><li>'PC'</li><li>'greek'</li><li>'car'</li><li>'siblings'</li><li>'bgfriend'</li><li>'clubs'</li><li>'skipped'</li><li>'alcohol'</li><li>'gradMI'</li><li>'fathcoll'</li><li>'mothcoll'</li></ol>\n"
      ],
      "text/latex": [
       "\\begin{enumerate*}\n",
       "\\item 'age'\n",
       "\\item 'soph'\n",
       "\\item 'junior'\n",
       "\\item 'senior'\n",
       "\\item 'senior5'\n",
       "\\item 'male'\n",
       "\\item 'campus'\n",
       "\\item 'business'\n",
       "\\item 'engineer'\n",
       "\\item 'colGPA'\n",
       "\\item 'hsGPA'\n",
       "\\item 'ACT'\n",
       "\\item 'job19'\n",
       "\\item 'job20'\n",
       "\\item 'drive'\n",
       "\\item 'bike'\n",
       "\\item 'walk'\n",
       "\\item 'voluntr'\n",
       "\\item 'PC'\n",
       "\\item 'greek'\n",
       "\\item 'car'\n",
       "\\item 'siblings'\n",
       "\\item 'bgfriend'\n",
       "\\item 'clubs'\n",
       "\\item 'skipped'\n",
       "\\item 'alcohol'\n",
       "\\item 'gradMI'\n",
       "\\item 'fathcoll'\n",
       "\\item 'mothcoll'\n",
       "\\end{enumerate*}\n"
      ],
      "text/markdown": [
       "1. 'age'\n",
       "2. 'soph'\n",
       "3. 'junior'\n",
       "4. 'senior'\n",
       "5. 'senior5'\n",
       "6. 'male'\n",
       "7. 'campus'\n",
       "8. 'business'\n",
       "9. 'engineer'\n",
       "10. 'colGPA'\n",
       "11. 'hsGPA'\n",
       "12. 'ACT'\n",
       "13. 'job19'\n",
       "14. 'job20'\n",
       "15. 'drive'\n",
       "16. 'bike'\n",
       "17. 'walk'\n",
       "18. 'voluntr'\n",
       "19. 'PC'\n",
       "20. 'greek'\n",
       "21. 'car'\n",
       "22. 'siblings'\n",
       "23. 'bgfriend'\n",
       "24. 'clubs'\n",
       "25. 'skipped'\n",
       "26. 'alcohol'\n",
       "27. 'gradMI'\n",
       "28. 'fathcoll'\n",
       "29. 'mothcoll'\n",
       "\n",
       "\n"
      ],
      "text/plain": [
       " [1] \"age\"      \"soph\"     \"junior\"   \"senior\"   \"senior5\"  \"male\"    \n",
       " [7] \"campus\"   \"business\" \"engineer\" \"colGPA\"   \"hsGPA\"    \"ACT\"     \n",
       "[13] \"job19\"    \"job20\"    \"drive\"    \"bike\"     \"walk\"     \"voluntr\" \n",
       "[19] \"PC\"       \"greek\"    \"car\"      \"siblings\" \"bgfriend\" \"clubs\"   \n",
       "[25] \"skipped\"  \"alcohol\"  \"gradMI\"   \"fathcoll\" \"mothcoll\""
      ]
     },
     "metadata": {},
     "output_type": "display_data"
    }
   ],
   "source": [
    "# install.packages('wooldridge')\n",
    "# library('wooldridge')\n",
    "head(gpa1)\n",
    "names(gpa1)"
   ]
  },
  {
   "cell_type": "code",
   "execution_count": 26,
   "id": "f486ac02-d2a2-4a1d-bd18-879b424ba395",
   "metadata": {},
   "outputs": [],
   "source": [
    "# Trabaje aquí"
   ]
  },
  {
   "cell_type": "markdown",
   "id": "b0836604-05a6-4595-8981-0b5c950cd080",
   "metadata": {},
   "source": [
    "### Contexto (2)"
   ]
  },
  {
   "cell_type": "markdown",
   "id": "4f3a2b6c-5b86-4d92-b24e-c87251d86f24",
   "metadata": {},
   "source": [
    "Se pretende ajustar el siguiente modelo\n",
    "$$Y=\\alpha X_1^\\beta X_2^\\gamma X_3^\\delta \\epsilon$$\n",
    "Donde $\\epsilon$ es un ruido blanco. Utilizando la siguiente base de datos"
   ]
  },
  {
   "cell_type": "markdown",
   "id": "2bc16197-4f3b-46c8-a834-0e568fb0cef9",
   "metadata": {},
   "source": [
    "$$\n",
    "\\ln(Y) = \\ln(\\alpha) + \\beta \\ln(X_1) + \\gamma \\ln(X_2) + \\delta \\ln(X_3) + \\epsilon\n",
    "$$"
   ]
  },
  {
   "cell_type": "code",
   "execution_count": 25,
   "id": "e6fca311-17ba-484d-ab12-b201934a3c26",
   "metadata": {},
   "outputs": [],
   "source": [
    "x1 = c(1.76,1.55,2.73,2.73,2.56,2.8,2.8,1.84,2.16,1.98,0.59,0.8,0.8,1.05,1.8,1.8,1.77,2.3,2.03,1.91,1.91,1.91,0.76,2.13,2.13,1.51,2.05)\n",
    "x2 = c(0.07,0.07,0.07,0.07,0.07,0.07,0.07,0.07,0.07,0.02,0.02,0.02,0.02,0.02,0.02,0.02,0.02,0.02,0.474,0.474,0.474,0.474,0.474,0.474,0.474,0.474,0.474)\n",
    "x3 = c(7.8,8.9,8.9,7.2,8.4,8.7,7.4,8.7,8.8,7.6,6.5,6.7,6.2,7,7.3,6.5,7.6,8.2,7.6,8.3,8.2,6.9,7.4,7.6,6.9,7.5,7.6)\n",
    "y = c(110.4,102.8,101,108.4,100.7,100.3,102,93.7,98.9,96.6,99.4,96.2,99,88.4,75.3,92,82.4,77.1,74,65.7,56.8,62.1,61,53.2,59.4,58.7,58)"
   ]
  },
  {
   "cell_type": "code",
   "execution_count": 30,
   "id": "cfb5909c-6ed4-40b2-9a17-c7ee2dd685e0",
   "metadata": {},
   "outputs": [],
   "source": [
    "lnY = log(y)\n",
    "lnX1 = log(x1)\n",
    "lnX2 = log(x2)\n",
    "lnX3 = log(x3)"
   ]
  },
  {
   "cell_type": "code",
   "execution_count": 31,
   "id": "f7928db5-3173-4d2d-99ca-b1a02b03f50e",
   "metadata": {},
   "outputs": [
    {
     "data": {
      "text/plain": [
       "\n",
       "Call:\n",
       "lm(formula = lnY ~ lnX1 + lnX2 + lnX3)\n",
       "\n",
       "Residuals:\n",
       "     Min       1Q   Median       3Q      Max \n",
       "-0.32252 -0.07841  0.01167  0.10143  0.25879 \n",
       "\n",
       "Coefficients:\n",
       "            Estimate Std. Error t value Pr(>|t|)    \n",
       "(Intercept)  3.00845    0.72881   4.128 0.000409 ***\n",
       "lnX1         0.03499    0.09001   0.389 0.701030    \n",
       "lnX2        -0.14425    0.02405  -5.999 4.07e-06 ***\n",
       "lnX3         0.50649    0.36763   1.378 0.181555    \n",
       "---\n",
       "Signif. codes:  0 '***' 0.001 '**' 0.01 '*' 0.05 '.' 0.1 ' ' 1\n",
       "\n",
       "Residual standard error: 0.1575 on 23 degrees of freedom\n",
       "Multiple R-squared:  0.6148,\tAdjusted R-squared:  0.5646 \n",
       "F-statistic: 12.24 on 3 and 23 DF,  p-value: 5.453e-05\n"
      ]
     },
     "metadata": {},
     "output_type": "display_data"
    }
   ],
   "source": [
    "reg = lm(lnY ~ lnX1+lnX2+lnX3)\n",
    "summary(reg)"
   ]
  },
  {
   "cell_type": "markdown",
   "id": "8afa2d2f-2cff-4fe4-ad8e-893ccc051d65",
   "metadata": {},
   "source": [
    " Ajuste un modelo y comente sobre dicho modelo. Plantee mejoras al modelo"
   ]
  },
  {
   "cell_type": "code",
   "execution_count": 34,
   "id": "d64e7baa-c1b0-40a5-ad50-aa2a24cc2a0f",
   "metadata": {},
   "outputs": [
    {
     "data": {
      "text/plain": [
       "\n",
       "Call:\n",
       "lm(formula = lnY ~ lnX2 + lnX3)\n",
       "\n",
       "Residuals:\n",
       "     Min       1Q   Median       3Q      Max \n",
       "-0.31641 -0.08578  0.02058  0.09414  0.27945 \n",
       "\n",
       "Coefficients:\n",
       "            Estimate Std. Error t value Pr(>|t|)    \n",
       "(Intercept)  2.87068    0.62548   4.590 0.000118 ***\n",
       "lnX2        -0.14288    0.02336  -6.115 2.57e-06 ***\n",
       "lnX3         0.58545    0.30096   1.945 0.063549 .  \n",
       "---\n",
       "Signif. codes:  0 '***' 0.001 '**' 0.01 '*' 0.05 '.' 0.1 ' ' 1\n",
       "\n",
       "Residual standard error: 0.1547 on 24 degrees of freedom\n",
       "Multiple R-squared:  0.6123,\tAdjusted R-squared:   0.58 \n",
       "F-statistic: 18.95 on 2 and 24 DF,  p-value: 1.154e-05\n"
      ]
     },
     "metadata": {},
     "output_type": "display_data"
    }
   ],
   "source": []
  },
  {
   "cell_type": "code",
   "execution_count": 37,
   "id": "9cc15bac-bc55-4e8b-844b-890bee064e56",
   "metadata": {},
   "outputs": [
    {
     "data": {
      "text/plain": [
       "\n",
       "Call:\n",
       "lm(formula = lnY ~ lnX2)\n",
       "\n",
       "Residuals:\n",
       "    Min      1Q  Median      3Q     Max \n",
       "-0.2823 -0.1145 -0.0332  0.1647  0.2677 \n",
       "\n",
       "Coefficients:\n",
       "            Estimate Std. Error t value Pr(>|t|)    \n",
       "(Intercept)  4.08118    0.06666  61.222  < 2e-16 ***\n",
       "lnX2        -0.13359    0.02411  -5.541 9.27e-06 ***\n",
       "---\n",
       "Signif. codes:  0 '***' 0.001 '**' 0.01 '*' 0.05 '.' 0.1 ' ' 1\n",
       "\n",
       "Residual standard error: 0.1631 on 25 degrees of freedom\n",
       "Multiple R-squared:  0.5512,\tAdjusted R-squared:  0.5332 \n",
       "F-statistic:  30.7 on 1 and 25 DF,  p-value: 9.267e-06\n"
      ]
     },
     "metadata": {},
     "output_type": "display_data"
    }
   ],
   "source": [
    "reg3=lm(lnY ~ lnX2)\n",
    "summary(reg3)"
   ]
  },
  {
   "cell_type": "code",
   "execution_count": 39,
   "id": "9251d974-6abd-4289-96f9-b5cdcd1a338a",
   "metadata": {
    "collapsed": true,
    "jupyter": {
     "outputs_hidden": true
    }
   },
   "outputs": [
    {
     "data": {
      "text/plain": [
       "\n",
       "Call:\n",
       "lm(formula = lnY ~ lnX1 + lnX2)\n",
       "\n",
       "Residuals:\n",
       "     Min       1Q   Median       3Q      Max \n",
       "-0.29976 -0.10147  0.02801  0.12478  0.26400 \n",
       "\n",
       "Coefficients:\n",
       "            Estimate Std. Error t value Pr(>|t|)    \n",
       "(Intercept)  4.00576    0.08603  46.563  < 2e-16 ***\n",
       "lnX1         0.10350    0.07641   1.354    0.188    \n",
       "lnX2        -0.14133    0.02440  -5.793 5.68e-06 ***\n",
       "---\n",
       "Signif. codes:  0 '***' 0.001 '**' 0.01 '*' 0.05 '.' 0.1 ' ' 1\n",
       "\n",
       "Residual standard error: 0.1604 on 24 degrees of freedom\n",
       "Multiple R-squared:  0.583,\tAdjusted R-squared:  0.5483 \n",
       "F-statistic: 16.78 on 2 and 24 DF,  p-value: 2.762e-05\n"
      ]
     },
     "metadata": {},
     "output_type": "display_data"
    }
   ],
   "source": [
    "reg4 = lm(lnY~lnX1+lnX2)\n",
    "summary(reg4)"
   ]
  },
  {
   "cell_type": "code",
   "execution_count": 42,
   "id": "5fb6c30c-4d5a-49f1-bfac-1f28e82733ec",
   "metadata": {},
   "outputs": [
    {
     "data": {
      "text/plain": [
       "\n",
       "Call:\n",
       "lm(formula = lnY ~ lnX2 + lnX3)\n",
       "\n",
       "Residuals:\n",
       "     Min       1Q   Median       3Q      Max \n",
       "-0.31641 -0.08578  0.02058  0.09414  0.27945 \n",
       "\n",
       "Coefficients:\n",
       "            Estimate Std. Error t value Pr(>|t|)    \n",
       "(Intercept)  2.87068    0.62548   4.590 0.000118 ***\n",
       "lnX2        -0.14288    0.02336  -6.115 2.57e-06 ***\n",
       "lnX3         0.58545    0.30096   1.945 0.063549 .  \n",
       "---\n",
       "Signif. codes:  0 '***' 0.001 '**' 0.01 '*' 0.05 '.' 0.1 ' ' 1\n",
       "\n",
       "Residual standard error: 0.1547 on 24 degrees of freedom\n",
       "Multiple R-squared:  0.6123,\tAdjusted R-squared:   0.58 \n",
       "F-statistic: 18.95 on 2 and 24 DF,  p-value: 1.154e-05\n"
      ]
     },
     "metadata": {},
     "output_type": "display_data"
    },
    {
     "data": {
      "text/plain": [
       "\n",
       "\tShapiro-Wilk normality test\n",
       "\n",
       "data:  resid(reg2)\n",
       "W = 0.98054, p-value = 0.8742\n"
      ]
     },
     "metadata": {},
     "output_type": "display_data"
    }
   ],
   "source": [
    "reg2 = lm(lnY~lnX2+lnX3)\n",
    "summary(reg2)\n",
    "shapiro.test(resid(reg2))"
   ]
  },
  {
   "cell_type": "code",
   "execution_count": 47,
   "id": "cabf6c92-a5a1-42c9-9563-a7c742229bb8",
   "metadata": {},
   "outputs": [
    {
     "data": {
      "text/plain": [
       "   Min. 1st Qu.  Median    Mean 3rd Qu.    Max. \n",
       "  3.974   4.157   4.522   4.407   4.604   4.704 "
      ]
     },
     "metadata": {},
     "output_type": "display_data"
    },
    {
     "data": {
      "text/plain": [
       "   Min. 1st Qu.  Median    Mean 3rd Qu.    Max. \n",
       "-3.9120 -3.9120 -2.6593 -2.4393 -0.7465 -0.7465 "
      ]
     },
     "metadata": {},
     "output_type": "display_data"
    },
    {
     "data": {
      "text/plain": [
       "   Min. 1st Qu.  Median    Mean 3rd Qu.    Max. \n",
       "  1.825   1.960   2.028   2.029   2.110   2.186 "
      ]
     },
     "metadata": {},
     "output_type": "display_data"
    }
   ],
   "source": [
    "summary(lnY)\n",
    "summary(lnX2)\n",
    "summary(lnX3)\n",
    "#predecir Y cuando x2 = exp(-2) y x3 = exp(2.1)\n",
    "#ademas el IC para la predicción\n",
    "#ademas el IC para los parámetros"
   ]
  },
  {
   "cell_type": "markdown",
   "id": "11ccd04a-9927-4fa5-bea1-b95a581a5c11",
   "metadata": {},
   "source": [
    "## IC para los parámetros\n",
    "Recordemos que:\n",
    "$$\n",
    "Y = \\alpha X_2^\\gamma X_3^\\delta\n",
    "$$\n",
    "$$\n",
    "\\ln(Y) = ln(\\alpha) + \\gamma\\ln(X_2) + \\delta \\ln(X_3)\n",
    "$$"
   ]
  },
  {
   "cell_type": "code",
   "execution_count": 51,
   "id": "9a5d4777-306b-4dcb-88c8-d90d38604cb9",
   "metadata": {},
   "outputs": [
    {
     "data": {
      "text/html": [
       "<table class=\"dataframe\">\n",
       "<caption>A matrix: 3 × 2 of type dbl</caption>\n",
       "<thead>\n",
       "\t<tr><th></th><th scope=col>2.5 %</th><th scope=col>97.5 %</th></tr>\n",
       "</thead>\n",
       "<tbody>\n",
       "\t<tr><th scope=row>(Intercept)</th><td> 1.57974624</td><td> 4.16162095</td></tr>\n",
       "\t<tr><th scope=row>lnX2</th><td>-0.19110626</td><td>-0.09466139</td></tr>\n",
       "\t<tr><th scope=row>lnX3</th><td>-0.03570525</td><td> 1.20660911</td></tr>\n",
       "</tbody>\n",
       "</table>\n"
      ],
      "text/latex": [
       "A matrix: 3 × 2 of type dbl\n",
       "\\begin{tabular}{r|ll}\n",
       "  & 2.5 \\% & 97.5 \\%\\\\\n",
       "\\hline\n",
       "\t(Intercept) &  1.57974624 &  4.16162095\\\\\n",
       "\tlnX2 & -0.19110626 & -0.09466139\\\\\n",
       "\tlnX3 & -0.03570525 &  1.20660911\\\\\n",
       "\\end{tabular}\n"
      ],
      "text/markdown": [
       "\n",
       "A matrix: 3 × 2 of type dbl\n",
       "\n",
       "| <!--/--> | 2.5 % | 97.5 % |\n",
       "|---|---|---|\n",
       "| (Intercept) |  1.57974624 |  4.16162095 |\n",
       "| lnX2 | -0.19110626 | -0.09466139 |\n",
       "| lnX3 | -0.03570525 |  1.20660911 |\n",
       "\n"
      ],
      "text/plain": [
       "            2.5 %       97.5 %     \n",
       "(Intercept)  1.57974624  4.16162095\n",
       "lnX2        -0.19110626 -0.09466139\n",
       "lnX3        -0.03570525  1.20660911"
      ]
     },
     "metadata": {},
     "output_type": "display_data"
    }
   ],
   "source": [
    "confint(reg2, level = 0.95)"
   ]
  },
  {
   "cell_type": "code",
   "execution_count": 56,
   "id": "e2bcac85-ccd2-4e0c-be83-1fae9dfebeee",
   "metadata": {},
   "outputs": [
    {
     "data": {
      "text/html": [
       "<style>\n",
       ".dl-inline {width: auto; margin:0; padding: 0}\n",
       ".dl-inline>dt, .dl-inline>dd {float: none; width: auto; display: inline-block}\n",
       ".dl-inline>dt::after {content: \":\\0020\"; padding-right: .5ex}\n",
       ".dl-inline>dt:not(:first-of-type) {padding-left: .5ex}\n",
       "</style><dl class=dl-inline><dt>2.5 %</dt><dd>4.85372398757491</dd><dt>97.5 %</dt><dd>64.1754633824416</dd></dl>\n"
      ],
      "text/latex": [
       "\\begin{description*}\n",
       "\\item[2.5 \\textbackslash{}\\%] 4.85372398757491\n",
       "\\item[97.5 \\textbackslash{}\\%] 64.1754633824416\n",
       "\\end{description*}\n"
      ],
      "text/markdown": [
       "2.5 %\n",
       ":   4.8537239875749197.5 %\n",
       ":   64.1754633824416\n",
       "\n"
      ],
      "text/plain": [
       "    2.5 %    97.5 % \n",
       " 4.853724 64.175463 "
      ]
     },
     "metadata": {},
     "output_type": "display_data"
    }
   ],
   "source": [
    "#Notar que \\alpha estará entre:\n",
    "exp(confint(reg2,level=0.95)[1,])"
   ]
  },
  {
   "cell_type": "markdown",
   "id": "292e50b3-4af6-4878-9395-1f684d8bacaf",
   "metadata": {},
   "source": [
    "# Predicción"
   ]
  },
  {
   "cell_type": "code",
   "execution_count": 66,
   "id": "87f028b9-1eef-456a-b205-5a6be3b367a2",
   "metadata": {},
   "outputs": [
    {
     "data": {
      "text/html": [
       "<table class=\"dataframe\">\n",
       "<caption>A matrix: 1 × 3 of type dbl</caption>\n",
       "<thead>\n",
       "\t<tr><th></th><th scope=col>fit</th><th scope=col>lwr</th><th scope=col>upr</th></tr>\n",
       "</thead>\n",
       "<tbody>\n",
       "\t<tr><th scope=row>1</th><td>80.31049</td><td>74.4254</td><td>86.66095</td></tr>\n",
       "</tbody>\n",
       "</table>\n"
      ],
      "text/latex": [
       "A matrix: 1 × 3 of type dbl\n",
       "\\begin{tabular}{r|lll}\n",
       "  & fit & lwr & upr\\\\\n",
       "\\hline\n",
       "\t1 & 80.31049 & 74.4254 & 86.66095\\\\\n",
       "\\end{tabular}\n"
      ],
      "text/markdown": [
       "\n",
       "A matrix: 1 × 3 of type dbl\n",
       "\n",
       "| <!--/--> | fit | lwr | upr |\n",
       "|---|---|---|---|\n",
       "| 1 | 80.31049 | 74.4254 | 86.66095 |\n",
       "\n"
      ],
      "text/plain": [
       "  fit      lwr     upr     \n",
       "1 80.31049 74.4254 86.66095"
      ]
     },
     "metadata": {},
     "output_type": "display_data"
    }
   ],
   "source": [
    "#predecir Y cuando x2 = exp(-2) y x3 = exp(2.1)\n",
    "dfn= data.frame(lnX2 = -2, lnX3 = 2.1)\n",
    "exp(predict(reg2,newdata=dfn, interval = 'confidence', level = 0.95))"
   ]
  },
  {
   "cell_type": "code",
   "execution_count": 63,
   "id": "21df59ef-e5dd-42d3-944a-cf1a91939ca0",
   "metadata": {},
   "outputs": [
    {
     "data": {
      "text/plain": [
       "\n",
       "Call:\n",
       "lm(formula = lnY ~ lnX2 + lnX3)\n",
       "\n",
       "Coefficients:\n",
       "(Intercept)         lnX2         lnX3  \n",
       "     2.8707      -0.1429       0.5855  \n"
      ]
     },
     "metadata": {},
     "output_type": "display_data"
    }
   ],
   "source": [
    "reg2"
   ]
  }
 ],
 "metadata": {
  "kernelspec": {
   "display_name": "R",
   "language": "R",
   "name": "ir"
  },
  "language_info": {
   "codemirror_mode": "r",
   "file_extension": ".r",
   "mimetype": "text/x-r-source",
   "name": "R",
   "pygments_lexer": "r",
   "version": "4.3.3"
  }
 },
 "nbformat": 4,
 "nbformat_minor": 5
}
